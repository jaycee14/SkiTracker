{
 "cells": [
  {
   "cell_type": "code",
   "execution_count": 41,
   "metadata": {},
   "outputs": [],
   "source": [
    "import pandas as pd\n",
    "import numpy as np\n",
    "import json\n",
    "from datetime import datetime"
   ]
  },
  {
   "cell_type": "code",
   "execution_count": 42,
   "metadata": {},
   "outputs": [],
   "source": [
    "%matplotlib inline"
   ]
  },
  {
   "cell_type": "code",
   "execution_count": 45,
   "metadata": {},
   "outputs": [
    {
     "data": {
      "text/plain": [
       "'josh_17Mar19.pkl'"
      ]
     },
     "execution_count": 45,
     "metadata": {},
     "output_type": "execute_result"
    }
   ],
   "source": [
    "name = 'josh'\n",
    "date = datetime(2019,3,17)\n",
    "filename = '{}_{}.pkl'.format(name,date.strftime('%d%b%y'))\n",
    "filename"
   ]
  },
  {
   "cell_type": "code",
   "execution_count": 46,
   "metadata": {},
   "outputs": [],
   "source": [
    "data = pd.read_pickle('processed_data/'+filename)\n"
   ]
  },
  {
   "cell_type": "code",
   "execution_count": 47,
   "metadata": {},
   "outputs": [],
   "source": [
    "data.reset_index(drop=True,inplace=True)"
   ]
  },
  {
   "cell_type": "code",
   "execution_count": 90,
   "metadata": {},
   "outputs": [
    {
     "data": {
      "text/html": [
       "<div>\n",
       "<style scoped>\n",
       "    .dataframe tbody tr th:only-of-type {\n",
       "        vertical-align: middle;\n",
       "    }\n",
       "\n",
       "    .dataframe tbody tr th {\n",
       "        vertical-align: top;\n",
       "    }\n",
       "\n",
       "    .dataframe thead th {\n",
       "        text-align: right;\n",
       "    }\n",
       "</style>\n",
       "<table border=\"1\" class=\"dataframe\">\n",
       "  <thead>\n",
       "    <tr style=\"text-align: right;\">\n",
       "      <th></th>\n",
       "      <th>Date</th>\n",
       "      <th>Time</th>\n",
       "      <th>Lat</th>\n",
       "      <th>Lon</th>\n",
       "      <th>GPS_Alt</th>\n",
       "      <th>Pressure</th>\n",
       "      <th>Pres_Alt</th>\n",
       "      <th>Temp</th>\n",
       "      <th>Batt</th>\n",
       "      <th>Lat_Rad</th>\n",
       "      <th>Lon_Rad</th>\n",
       "      <th>Lat_Delta</th>\n",
       "      <th>Lon_Delta</th>\n",
       "      <th>Lat_Rad_Delta</th>\n",
       "      <th>Lon_Rad_Delta</th>\n",
       "      <th>GPS_Alt_Delta</th>\n",
       "      <th>distance</th>\n",
       "      <th>gradient</th>\n",
       "      <th>grad_colour</th>\n",
       "    </tr>\n",
       "  </thead>\n",
       "  <tbody>\n",
       "    <tr>\n",
       "      <th>0</th>\n",
       "      <td>03/17/2019</td>\n",
       "      <td>08:44:03</td>\n",
       "      <td>45.097191</td>\n",
       "      <td>6.069313</td>\n",
       "      <td>0.0</td>\n",
       "      <td>11002221010</td>\n",
       "      <td>1859.802</td>\n",
       "      <td>23.4</td>\n",
       "      <td>4.022</td>\n",
       "      <td>0.787094</td>\n",
       "      <td>0.105930</td>\n",
       "      <td>0.000000</td>\n",
       "      <td>-0.000001</td>\n",
       "      <td>0.000000e+00</td>\n",
       "      <td>-2.617994e-08</td>\n",
       "      <td>NaN</td>\n",
       "      <td>0.117777</td>\n",
       "      <td>NaN</td>\n",
       "      <td>2</td>\n",
       "    </tr>\n",
       "    <tr>\n",
       "      <th>1</th>\n",
       "      <td>03/17/2019</td>\n",
       "      <td>08:44:04</td>\n",
       "      <td>45.097191</td>\n",
       "      <td>6.069315</td>\n",
       "      <td>1867.0</td>\n",
       "      <td>11002221022</td>\n",
       "      <td>1860.903</td>\n",
       "      <td>23.4</td>\n",
       "      <td>3.945</td>\n",
       "      <td>0.787094</td>\n",
       "      <td>0.105930</td>\n",
       "      <td>0.000000</td>\n",
       "      <td>0.000006</td>\n",
       "      <td>0.000000e+00</td>\n",
       "      <td>1.012291e-07</td>\n",
       "      <td>1867.0</td>\n",
       "      <td>0.455403</td>\n",
       "      <td>0.013976</td>\n",
       "      <td>1</td>\n",
       "    </tr>\n",
       "    <tr>\n",
       "      <th>2</th>\n",
       "      <td>03/17/2019</td>\n",
       "      <td>08:44:05</td>\n",
       "      <td>45.097191</td>\n",
       "      <td>6.069309</td>\n",
       "      <td>1867.1</td>\n",
       "      <td>11002221000</td>\n",
       "      <td>1860.602</td>\n",
       "      <td>23.4</td>\n",
       "      <td>3.925</td>\n",
       "      <td>0.787094</td>\n",
       "      <td>0.105929</td>\n",
       "      <td>-0.000004</td>\n",
       "      <td>0.000008</td>\n",
       "      <td>-6.981317e-08</td>\n",
       "      <td>1.326450e-07</td>\n",
       "      <td>0.1</td>\n",
       "      <td>0.744343</td>\n",
       "      <td>82.348319</td>\n",
       "      <td>0</td>\n",
       "    </tr>\n",
       "    <tr>\n",
       "      <th>3</th>\n",
       "      <td>03/17/2019</td>\n",
       "      <td>08:44:06</td>\n",
       "      <td>45.097195</td>\n",
       "      <td>6.069302</td>\n",
       "      <td>1867.2</td>\n",
       "      <td>11002221021</td>\n",
       "      <td>1859.802</td>\n",
       "      <td>23.5</td>\n",
       "      <td>3.938</td>\n",
       "      <td>0.787095</td>\n",
       "      <td>0.105929</td>\n",
       "      <td>0.000000</td>\n",
       "      <td>0.000008</td>\n",
       "      <td>0.000000e+00</td>\n",
       "      <td>1.413717e-07</td>\n",
       "      <td>0.1</td>\n",
       "      <td>0.635994</td>\n",
       "      <td>81.064310</td>\n",
       "      <td>0</td>\n",
       "    </tr>\n",
       "    <tr>\n",
       "      <th>4</th>\n",
       "      <td>03/17/2019</td>\n",
       "      <td>08:44:07</td>\n",
       "      <td>45.097195</td>\n",
       "      <td>6.069293</td>\n",
       "      <td>1867.0</td>\n",
       "      <td>11002221100</td>\n",
       "      <td>1860.703</td>\n",
       "      <td>23.5</td>\n",
       "      <td>3.938</td>\n",
       "      <td>0.787095</td>\n",
       "      <td>0.105929</td>\n",
       "      <td>0.000000</td>\n",
       "      <td>0.000007</td>\n",
       "      <td>0.000000e+00</td>\n",
       "      <td>1.169371e-07</td>\n",
       "      <td>-0.2</td>\n",
       "      <td>0.526069</td>\n",
       "      <td>-69.184302</td>\n",
       "      <td>2</td>\n",
       "    </tr>\n",
       "  </tbody>\n",
       "</table>\n",
       "</div>"
      ],
      "text/plain": [
       "          Date       Time        Lat       Lon  GPS_Alt     Pressure  \\\n",
       "0  03/17/2019   08:44:03   45.097191  6.069313      0.0  11002221010   \n",
       "1  03/17/2019   08:44:04   45.097191  6.069315   1867.0  11002221022   \n",
       "2  03/17/2019   08:44:05   45.097191  6.069309   1867.1  11002221000   \n",
       "3  03/17/2019   08:44:06   45.097195  6.069302   1867.2  11002221021   \n",
       "4  03/17/2019   08:44:07   45.097195  6.069293   1867.0  11002221100   \n",
       "\n",
       "   Pres_Alt  Temp   Batt   Lat_Rad   Lon_Rad  Lat_Delta  Lon_Delta  \\\n",
       "0  1859.802  23.4  4.022  0.787094  0.105930   0.000000  -0.000001   \n",
       "1  1860.903  23.4  3.945  0.787094  0.105930   0.000000   0.000006   \n",
       "2  1860.602  23.4  3.925  0.787094  0.105929  -0.000004   0.000008   \n",
       "3  1859.802  23.5  3.938  0.787095  0.105929   0.000000   0.000008   \n",
       "4  1860.703  23.5  3.938  0.787095  0.105929   0.000000   0.000007   \n",
       "\n",
       "   Lat_Rad_Delta  Lon_Rad_Delta  GPS_Alt_Delta  distance   gradient  \\\n",
       "0   0.000000e+00  -2.617994e-08            NaN  0.117777        NaN   \n",
       "1   0.000000e+00   1.012291e-07         1867.0  0.455403   0.013976   \n",
       "2  -6.981317e-08   1.326450e-07            0.1  0.744343  82.348319   \n",
       "3   0.000000e+00   1.413717e-07            0.1  0.635994  81.064310   \n",
       "4   0.000000e+00   1.169371e-07           -0.2  0.526069 -69.184302   \n",
       "\n",
       "   grad_colour  \n",
       "0            2  \n",
       "1            1  \n",
       "2            0  \n",
       "3            0  \n",
       "4            2  "
      ]
     },
     "execution_count": 90,
     "metadata": {},
     "output_type": "execute_result"
    }
   ],
   "source": [
    "data.head()"
   ]
  },
  {
   "cell_type": "code",
   "execution_count": 110,
   "metadata": {},
   "outputs": [],
   "source": [
    "values=data[['Lat','Lon','GPS_Alt','grad_colour']].copy()"
   ]
  },
  {
   "cell_type": "code",
   "execution_count": 111,
   "metadata": {},
   "outputs": [],
   "source": [
    "values.rename(columns={'Lat':'y','Lon':'x','GPS_Alt':'z','grad_colour':'c'},inplace=True)"
   ]
  },
  {
   "cell_type": "code",
   "execution_count": 112,
   "metadata": {},
   "outputs": [],
   "source": [
    "values = values[1:2000]"
   ]
  },
  {
   "cell_type": "code",
   "execution_count": 113,
   "metadata": {},
   "outputs": [],
   "source": [
    "coords=['x','y','z']"
   ]
  },
  {
   "cell_type": "code",
   "execution_count": 114,
   "metadata": {},
   "outputs": [],
   "source": [
    "#diff = values -values.mean()\n",
    "diff = values[coords].max() - values[coords].min()"
   ]
  },
  {
   "cell_type": "code",
   "execution_count": 115,
   "metadata": {},
   "outputs": [
    {
     "data": {
      "text/plain": [
       "x      0.033496\n",
       "y      0.008255\n",
       "z    567.300000\n",
       "dtype: float64"
      ]
     },
     "execution_count": 115,
     "metadata": {},
     "output_type": "execute_result"
    }
   ],
   "source": [
    "diff"
   ]
  },
  {
   "cell_type": "code",
   "execution_count": 116,
   "metadata": {},
   "outputs": [],
   "source": [
    "values[coords] = (values[coords] -  values[coords].min() )/diff"
   ]
  },
  {
   "cell_type": "code",
   "execution_count": 117,
   "metadata": {},
   "outputs": [
    {
     "data": {
      "text/html": [
       "<div>\n",
       "<style scoped>\n",
       "    .dataframe tbody tr th:only-of-type {\n",
       "        vertical-align: middle;\n",
       "    }\n",
       "\n",
       "    .dataframe tbody tr th {\n",
       "        vertical-align: top;\n",
       "    }\n",
       "\n",
       "    .dataframe thead th {\n",
       "        text-align: right;\n",
       "    }\n",
       "</style>\n",
       "<table border=\"1\" class=\"dataframe\">\n",
       "  <thead>\n",
       "    <tr style=\"text-align: right;\">\n",
       "      <th></th>\n",
       "      <th>y</th>\n",
       "      <th>x</th>\n",
       "      <th>z</th>\n",
       "      <th>c</th>\n",
       "    </tr>\n",
       "  </thead>\n",
       "  <tbody>\n",
       "    <tr>\n",
       "      <th>1</th>\n",
       "      <td>0.589703</td>\n",
       "      <td>1.000000</td>\n",
       "      <td>0.534109</td>\n",
       "      <td>1</td>\n",
       "    </tr>\n",
       "    <tr>\n",
       "      <th>2</th>\n",
       "      <td>0.589703</td>\n",
       "      <td>0.999827</td>\n",
       "      <td>0.534285</td>\n",
       "      <td>0</td>\n",
       "    </tr>\n",
       "    <tr>\n",
       "      <th>3</th>\n",
       "      <td>0.590188</td>\n",
       "      <td>0.999600</td>\n",
       "      <td>0.534461</td>\n",
       "      <td>0</td>\n",
       "    </tr>\n",
       "    <tr>\n",
       "      <th>4</th>\n",
       "      <td>0.590188</td>\n",
       "      <td>0.999358</td>\n",
       "      <td>0.534109</td>\n",
       "      <td>2</td>\n",
       "    </tr>\n",
       "    <tr>\n",
       "      <th>5</th>\n",
       "      <td>0.590188</td>\n",
       "      <td>0.999158</td>\n",
       "      <td>0.533580</td>\n",
       "      <td>2</td>\n",
       "    </tr>\n",
       "  </tbody>\n",
       "</table>\n",
       "</div>"
      ],
      "text/plain": [
       "          y         x         z  c\n",
       "1  0.589703  1.000000  0.534109  1\n",
       "2  0.589703  0.999827  0.534285  0\n",
       "3  0.590188  0.999600  0.534461  0\n",
       "4  0.590188  0.999358  0.534109  2\n",
       "5  0.590188  0.999158  0.533580  2"
      ]
     },
     "execution_count": 117,
     "metadata": {},
     "output_type": "execute_result"
    }
   ],
   "source": [
    "values.head()"
   ]
  },
  {
   "cell_type": "code",
   "execution_count": 118,
   "metadata": {},
   "outputs": [
    {
     "data": {
      "text/html": [
       "<div>\n",
       "<style scoped>\n",
       "    .dataframe tbody tr th:only-of-type {\n",
       "        vertical-align: middle;\n",
       "    }\n",
       "\n",
       "    .dataframe tbody tr th {\n",
       "        vertical-align: top;\n",
       "    }\n",
       "\n",
       "    .dataframe thead th {\n",
       "        text-align: right;\n",
       "    }\n",
       "</style>\n",
       "<table border=\"1\" class=\"dataframe\">\n",
       "  <thead>\n",
       "    <tr style=\"text-align: right;\">\n",
       "      <th></th>\n",
       "      <th>y</th>\n",
       "      <th>x</th>\n",
       "      <th>z</th>\n",
       "      <th>c</th>\n",
       "    </tr>\n",
       "  </thead>\n",
       "  <tbody>\n",
       "    <tr>\n",
       "      <th>count</th>\n",
       "      <td>1999.000000</td>\n",
       "      <td>1999.000000</td>\n",
       "      <td>1999.000000</td>\n",
       "      <td>1999.000000</td>\n",
       "    </tr>\n",
       "    <tr>\n",
       "      <th>mean</th>\n",
       "      <td>0.675228</td>\n",
       "      <td>0.433919</td>\n",
       "      <td>0.566744</td>\n",
       "      <td>1.017009</td>\n",
       "    </tr>\n",
       "    <tr>\n",
       "      <th>std</th>\n",
       "      <td>0.218762</td>\n",
       "      <td>0.277172</td>\n",
       "      <td>0.322835</td>\n",
       "      <td>0.999855</td>\n",
       "    </tr>\n",
       "    <tr>\n",
       "      <th>min</th>\n",
       "      <td>0.000000</td>\n",
       "      <td>0.000000</td>\n",
       "      <td>0.000000</td>\n",
       "      <td>0.000000</td>\n",
       "    </tr>\n",
       "    <tr>\n",
       "      <th>25%</th>\n",
       "      <td>0.562144</td>\n",
       "      <td>0.235884</td>\n",
       "      <td>0.289177</td>\n",
       "      <td>0.000000</td>\n",
       "    </tr>\n",
       "    <tr>\n",
       "      <th>50%</th>\n",
       "      <td>0.657177</td>\n",
       "      <td>0.402485</td>\n",
       "      <td>0.623832</td>\n",
       "      <td>2.000000</td>\n",
       "    </tr>\n",
       "    <tr>\n",
       "      <th>75%</th>\n",
       "      <td>0.868807</td>\n",
       "      <td>0.663453</td>\n",
       "      <td>0.861185</td>\n",
       "      <td>2.000000</td>\n",
       "    </tr>\n",
       "    <tr>\n",
       "      <th>max</th>\n",
       "      <td>1.000000</td>\n",
       "      <td>1.000000</td>\n",
       "      <td>1.000000</td>\n",
       "      <td>2.000000</td>\n",
       "    </tr>\n",
       "  </tbody>\n",
       "</table>\n",
       "</div>"
      ],
      "text/plain": [
       "                 y            x            z            c\n",
       "count  1999.000000  1999.000000  1999.000000  1999.000000\n",
       "mean      0.675228     0.433919     0.566744     1.017009\n",
       "std       0.218762     0.277172     0.322835     0.999855\n",
       "min       0.000000     0.000000     0.000000     0.000000\n",
       "25%       0.562144     0.235884     0.289177     0.000000\n",
       "50%       0.657177     0.402485     0.623832     2.000000\n",
       "75%       0.868807     0.663453     0.861185     2.000000\n",
       "max       1.000000     1.000000     1.000000     2.000000"
      ]
     },
     "execution_count": 118,
     "metadata": {},
     "output_type": "execute_result"
    }
   ],
   "source": [
    "values.describe()"
   ]
  },
  {
   "cell_type": "code",
   "execution_count": 119,
   "metadata": {},
   "outputs": [],
   "source": [
    "json_values = values.to_dict(orient='records')"
   ]
  },
  {
   "cell_type": "code",
   "execution_count": 120,
   "metadata": {},
   "outputs": [
    {
     "data": {
      "text/plain": [
       "[{'y': 0.5897032101759958, 'x': 1.0, 'z': 0.534108937070333, 'c': 1.0},\n",
       " {'y': 0.5897032101759958,\n",
       "  'x': 0.9998268444794918,\n",
       "  'z': 0.5342852106469237,\n",
       "  'c': 0.0},\n",
       " {'y': 0.5901877649908968,\n",
       "  'x': 0.9995999510388022,\n",
       "  'z': 0.5344614842235148,\n",
       "  'c': 0.0}]"
      ]
     },
     "execution_count": 120,
     "metadata": {},
     "output_type": "execute_result"
    }
   ],
   "source": [
    "json_values[0:3]"
   ]
  },
  {
   "cell_type": "raw",
   "metadata": {},
   "source": [
    "with open('json_14Mar18.json','w') as f:\n",
    "    json.dump(json_values,f)"
   ]
  },
  {
   "cell_type": "code",
   "execution_count": 121,
   "metadata": {},
   "outputs": [],
   "source": [
    "#single run\n",
    "with open('json_single.json','w') as f:\n",
    "    json.dump(json_values[1:2000],f)"
   ]
  },
  {
   "cell_type": "code",
   "execution_count": null,
   "metadata": {},
   "outputs": [],
   "source": []
  },
  {
   "cell_type": "code",
   "execution_count": null,
   "metadata": {},
   "outputs": [],
   "source": []
  },
  {
   "cell_type": "code",
   "execution_count": null,
   "metadata": {},
   "outputs": [],
   "source": []
  },
  {
   "cell_type": "code",
   "execution_count": null,
   "metadata": {},
   "outputs": [],
   "source": []
  }
 ],
 "metadata": {
  "kernelspec": {
   "display_name": "Python 3",
   "language": "python",
   "name": "python3"
  },
  "language_info": {
   "codemirror_mode": {
    "name": "ipython",
    "version": 3
   },
   "file_extension": ".py",
   "mimetype": "text/x-python",
   "name": "python",
   "nbconvert_exporter": "python",
   "pygments_lexer": "ipython3",
   "version": "3.6.5"
  }
 },
 "nbformat": 4,
 "nbformat_minor": 2
}
