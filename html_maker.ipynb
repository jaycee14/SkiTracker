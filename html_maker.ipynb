{
 "cells": [
  {
   "cell_type": "code",
   "execution_count": 10,
   "metadata": {},
   "outputs": [],
   "source": [
    "import os"
   ]
  },
  {
   "cell_type": "code",
   "execution_count": 11,
   "metadata": {},
   "outputs": [],
   "source": [
    "def generate_tree(path, html,href):\n",
    "    for file in os.listdir(path):\n",
    "#         rel = path + \"/\" + file\n",
    "#         if os.path.isdir(rel):\n",
    "#             html += \"<p class='toggle'>%s</p><div class='child' hidden='true'>\" % (file)\n",
    "#             html += generate_tree(rel)\n",
    "#             html += \"</div>\"\n",
    "#         else:\n",
    "            filename = file.split('.')[0]\n",
    "            html += \"<p><a href='{}{}'>{}</a></p>\".format(href,filename,filename)\n",
    "    return html"
   ]
  },
  {
   "cell_type": "code",
   "execution_count": 26,
   "metadata": {},
   "outputs": [],
   "source": [
    "html_start=\"\"\"<!DOCTYPE html><html lang=\"en\"><head><title>SkiTracker</title><meta charset=\"utf-8\"><meta name=\"viewport\" content=\"width=device-width, user-scalable=no, minimum-scale=1.0, maximum-scale=1.0\"></head><body>\n",
    "\"\"\"\n",
    "\n",
    "html_end = \"\"\"</body></html>\"\"\""
   ]
  },
  {
   "cell_type": "code",
   "execution_count": 27,
   "metadata": {},
   "outputs": [],
   "source": [
    "html=html_start\n",
    "html+=\"<h1>Routes</h1>\""
   ]
  },
  {
   "cell_type": "code",
   "execution_count": 28,
   "metadata": {},
   "outputs": [],
   "source": [
    "html=generate_tree('gpx_files/',html,'leaflet_test.html?track=')"
   ]
  },
  {
   "cell_type": "code",
   "execution_count": 29,
   "metadata": {},
   "outputs": [],
   "source": [
    "html+=\"<h1>Runs</h1>\""
   ]
  },
  {
   "cell_type": "code",
   "execution_count": 30,
   "metadata": {},
   "outputs": [],
   "source": [
    "html=generate_tree('json_files/',html,'track3d.html?track=')"
   ]
  },
  {
   "cell_type": "code",
   "execution_count": 31,
   "metadata": {},
   "outputs": [
    {
     "data": {
      "text/plain": [
       "'<!DOCTYPE html><html lang=\"en\"><head><title>SkiTracker</title><meta charset=\"utf-8\"><meta name=\"viewport\" content=\"width=device-width, user-scalable=no, minimum-scale=1.0, maximum-scale=1.0\"></head><body>\\n<h1>Routes</h1><p><a href=\\'leaflet_test.html?track=emily_19Mar19_runs\\'>emily_19Mar19_runs</a></p><p><a href=\\'leaflet_test.html?track=giacomo_17Mar19_runs\\'>giacomo_17Mar19_runs</a></p><p><a href=\\'leaflet_test.html?track=giacomo_18Mar19_runs\\'>giacomo_18Mar19_runs</a></p><p><a href=\\'leaflet_test.html?track=josh_17Mar19_runs\\'>josh_17Mar19_runs</a></p><p><a href=\\'leaflet_test.html?track=ross_17Mar19_runs\\'>ross_17Mar19_runs</a></p><p><a href=\\'leaflet_test.html?track=ross_18Mar19_runs\\'>ross_18Mar19_runs</a></p><p><a href=\\'leaflet_test.html?track=sarah_20Mar19_runs\\'>sarah_20Mar19_runs</a></p><h1>Runs</h1><p><a href=\\'track3d.html?track=emily_19Mar19_0\\'>emily_19Mar19_0</a></p><p><a href=\\'track3d.html?track=emily_19Mar19_1\\'>emily_19Mar19_1</a></p><p><a href=\\'track3d.html?track=emily_19Mar19_10\\'>emily_19Mar19_10</a></p><p><a href=\\'track3d.html?track=emily_19Mar19_2\\'>emily_19Mar19_2</a></p><p><a href=\\'track3d.html?track=emily_19Mar19_3\\'>emily_19Mar19_3</a></p><p><a href=\\'track3d.html?track=emily_19Mar19_4\\'>emily_19Mar19_4</a></p><p><a href=\\'track3d.html?track=emily_19Mar19_5\\'>emily_19Mar19_5</a></p><p><a href=\\'track3d.html?track=emily_19Mar19_6\\'>emily_19Mar19_6</a></p><p><a href=\\'track3d.html?track=emily_19Mar19_7\\'>emily_19Mar19_7</a></p><p><a href=\\'track3d.html?track=emily_19Mar19_8\\'>emily_19Mar19_8</a></p><p><a href=\\'track3d.html?track=emily_19Mar19_9\\'>emily_19Mar19_9</a></p><p><a href=\\'track3d.html?track=giacomo_17Mar19_0\\'>giacomo_17Mar19_0</a></p><p><a href=\\'track3d.html?track=giacomo_17Mar19_1\\'>giacomo_17Mar19_1</a></p><p><a href=\\'track3d.html?track=giacomo_17Mar19_2\\'>giacomo_17Mar19_2</a></p><p><a href=\\'track3d.html?track=giacomo_17Mar19_3\\'>giacomo_17Mar19_3</a></p><p><a href=\\'track3d.html?track=giacomo_17Mar19_4\\'>giacomo_17Mar19_4</a></p><p><a href=\\'track3d.html?track=giacomo_17Mar19_5\\'>giacomo_17Mar19_5</a></p><p><a href=\\'track3d.html?track=giacomo_17Mar19_6\\'>giacomo_17Mar19_6</a></p><p><a href=\\'track3d.html?track=giacomo_17Mar19_7\\'>giacomo_17Mar19_7</a></p><p><a href=\\'track3d.html?track=giacomo_17Mar19_8\\'>giacomo_17Mar19_8</a></p><p><a href=\\'track3d.html?track=giacomo_18Mar19_0\\'>giacomo_18Mar19_0</a></p><p><a href=\\'track3d.html?track=giacomo_18Mar19_1\\'>giacomo_18Mar19_1</a></p><p><a href=\\'track3d.html?track=giacomo_18Mar19_2\\'>giacomo_18Mar19_2</a></p><p><a href=\\'track3d.html?track=giacomo_18Mar19_3\\'>giacomo_18Mar19_3</a></p><p><a href=\\'track3d.html?track=giacomo_18Mar19_4\\'>giacomo_18Mar19_4</a></p><p><a href=\\'track3d.html?track=giacomo_18Mar19_5\\'>giacomo_18Mar19_5</a></p><p><a href=\\'track3d.html?track=giacomo_18Mar19_6\\'>giacomo_18Mar19_6</a></p><p><a href=\\'track3d.html?track=giacomo_18Mar19_7\\'>giacomo_18Mar19_7</a></p><p><a href=\\'track3d.html?track=giacomo_18Mar19_8\\'>giacomo_18Mar19_8</a></p><p><a href=\\'track3d.html?track=giacomo_18Mar19_9\\'>giacomo_18Mar19_9</a></p><p><a href=\\'track3d.html?track=josh_17Mar19_0\\'>josh_17Mar19_0</a></p><p><a href=\\'track3d.html?track=josh_17Mar19_1\\'>josh_17Mar19_1</a></p><p><a href=\\'track3d.html?track=josh_17Mar19_10\\'>josh_17Mar19_10</a></p><p><a href=\\'track3d.html?track=josh_17Mar19_11\\'>josh_17Mar19_11</a></p><p><a href=\\'track3d.html?track=josh_17Mar19_12\\'>josh_17Mar19_12</a></p><p><a href=\\'track3d.html?track=josh_17Mar19_2\\'>josh_17Mar19_2</a></p><p><a href=\\'track3d.html?track=josh_17Mar19_3\\'>josh_17Mar19_3</a></p><p><a href=\\'track3d.html?track=josh_17Mar19_4\\'>josh_17Mar19_4</a></p><p><a href=\\'track3d.html?track=josh_17Mar19_5\\'>josh_17Mar19_5</a></p><p><a href=\\'track3d.html?track=josh_17Mar19_6\\'>josh_17Mar19_6</a></p><p><a href=\\'track3d.html?track=josh_17Mar19_7\\'>josh_17Mar19_7</a></p><p><a href=\\'track3d.html?track=josh_17Mar19_8\\'>josh_17Mar19_8</a></p><p><a href=\\'track3d.html?track=josh_17Mar19_9\\'>josh_17Mar19_9</a></p><p><a href=\\'track3d.html?track=ross_17Mar19_0\\'>ross_17Mar19_0</a></p><p><a href=\\'track3d.html?track=ross_17Mar19_1\\'>ross_17Mar19_1</a></p><p><a href=\\'track3d.html?track=ross_17Mar19_2\\'>ross_17Mar19_2</a></p><p><a href=\\'track3d.html?track=ross_17Mar19_3\\'>ross_17Mar19_3</a></p><p><a href=\\'track3d.html?track=ross_17Mar19_4\\'>ross_17Mar19_4</a></p><p><a href=\\'track3d.html?track=ross_17Mar19_5\\'>ross_17Mar19_5</a></p><p><a href=\\'track3d.html?track=ross_17Mar19_6\\'>ross_17Mar19_6</a></p><p><a href=\\'track3d.html?track=ross_17Mar19_7\\'>ross_17Mar19_7</a></p><p><a href=\\'track3d.html?track=ross_17Mar19_8\\'>ross_17Mar19_8</a></p><p><a href=\\'track3d.html?track=ross_17Mar19_9\\'>ross_17Mar19_9</a></p><p><a href=\\'track3d.html?track=ross_18Mar19_0\\'>ross_18Mar19_0</a></p><p><a href=\\'track3d.html?track=ross_18Mar19_1\\'>ross_18Mar19_1</a></p><p><a href=\\'track3d.html?track=ross_18Mar19_10\\'>ross_18Mar19_10</a></p><p><a href=\\'track3d.html?track=ross_18Mar19_11\\'>ross_18Mar19_11</a></p><p><a href=\\'track3d.html?track=ross_18Mar19_12\\'>ross_18Mar19_12</a></p><p><a href=\\'track3d.html?track=ross_18Mar19_13\\'>ross_18Mar19_13</a></p><p><a href=\\'track3d.html?track=ross_18Mar19_14\\'>ross_18Mar19_14</a></p><p><a href=\\'track3d.html?track=ross_18Mar19_15\\'>ross_18Mar19_15</a></p><p><a href=\\'track3d.html?track=ross_18Mar19_2\\'>ross_18Mar19_2</a></p><p><a href=\\'track3d.html?track=ross_18Mar19_3\\'>ross_18Mar19_3</a></p><p><a href=\\'track3d.html?track=ross_18Mar19_4\\'>ross_18Mar19_4</a></p><p><a href=\\'track3d.html?track=ross_18Mar19_5\\'>ross_18Mar19_5</a></p><p><a href=\\'track3d.html?track=ross_18Mar19_6\\'>ross_18Mar19_6</a></p><p><a href=\\'track3d.html?track=ross_18Mar19_7\\'>ross_18Mar19_7</a></p><p><a href=\\'track3d.html?track=ross_18Mar19_8\\'>ross_18Mar19_8</a></p><p><a href=\\'track3d.html?track=ross_18Mar19_9\\'>ross_18Mar19_9</a></p><p><a href=\\'track3d.html?track=sarah_20Mar19_0\\'>sarah_20Mar19_0</a></p><p><a href=\\'track3d.html?track=sarah_20Mar19_1\\'>sarah_20Mar19_1</a></p><p><a href=\\'track3d.html?track=sarah_20Mar19_2\\'>sarah_20Mar19_2</a></p><p><a href=\\'track3d.html?track=sarah_20Mar19_3\\'>sarah_20Mar19_3</a></p><p><a href=\\'track3d.html?track=sarah_20Mar19_4\\'>sarah_20Mar19_4</a></p><p><a href=\\'track3d.html?track=sarah_20Mar19_5\\'>sarah_20Mar19_5</a></p><p><a href=\\'track3d.html?track=sarah_20Mar19_6\\'>sarah_20Mar19_6</a></p><p><a href=\\'track3d.html?track=sarah_20Mar19_7\\'>sarah_20Mar19_7</a></p></body></html>'"
      ]
     },
     "execution_count": 31,
     "metadata": {},
     "output_type": "execute_result"
    }
   ],
   "source": [
    "html+=html_end\n",
    "html"
   ]
  },
  {
   "cell_type": "code",
   "execution_count": 32,
   "metadata": {},
   "outputs": [],
   "source": [
    "with open('ski_chooser.html','w') as f:\n",
    "    f.write(html)"
   ]
  },
  {
   "cell_type": "code",
   "execution_count": null,
   "metadata": {},
   "outputs": [],
   "source": []
  },
  {
   "cell_type": "code",
   "execution_count": null,
   "metadata": {},
   "outputs": [],
   "source": []
  }
 ],
 "metadata": {
  "kernelspec": {
   "display_name": "Python 3",
   "language": "python",
   "name": "python3"
  },
  "language_info": {
   "codemirror_mode": {
    "name": "ipython",
    "version": 3
   },
   "file_extension": ".py",
   "mimetype": "text/x-python",
   "name": "python",
   "nbconvert_exporter": "python",
   "pygments_lexer": "ipython3",
   "version": "3.6.5"
  }
 },
 "nbformat": 4,
 "nbformat_minor": 2
}
