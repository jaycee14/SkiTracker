{
 "cells": [
  {
   "cell_type": "code",
   "execution_count": 61,
   "metadata": {},
   "outputs": [],
   "source": [
    "import os"
   ]
  },
  {
   "cell_type": "code",
   "execution_count": 62,
   "metadata": {},
   "outputs": [],
   "source": [
    "html_start=\"\"\"<!DOCTYPE html><html lang=\"en\"><head><title>SkiTracker</title><meta charset=\"utf-8\"><meta name=\"viewport\" content=\"width=device-width, user-scalable=no, minimum-scale=1.0, maximum-scale=1.0\"></head><body>\n",
    "\"\"\"\n",
    "\n",
    "html_end = \"\"\"</body></html>\"\"\""
   ]
  },
  {
   "cell_type": "code",
   "execution_count": 63,
   "metadata": {},
   "outputs": [],
   "source": [
    "def generate_tree(path, html,href):\n",
    "    for file in os.listdir(path):\n",
    "#         rel = path + \"/\" + file\n",
    "#         if os.path.isdir(rel):\n",
    "#             html += \"<p class='toggle'>%s</p><div class='child' hidden='true'>\" % (file)\n",
    "#             html += generate_tree(rel)\n",
    "#             html += \"</div>\"\n",
    "#         else:\n",
    "            filename = file.split('.')[0]\n",
    "            html += \"<p><a href='{}{}'>{}</a></p>\".format(href,filename,filename)\n",
    "    return html"
   ]
  },
  {
   "cell_type": "code",
   "execution_count": 64,
   "metadata": {},
   "outputs": [],
   "source": [
    "html=html_start\n",
    "html+=\"<h1>Routes</h1>\""
   ]
  },
  {
   "cell_type": "code",
   "execution_count": 65,
   "metadata": {},
   "outputs": [],
   "source": [
    "html=generate_tree('gpx_files/',html,'leaflet_test.html?track=')"
   ]
  },
  {
   "cell_type": "code",
   "execution_count": 66,
   "metadata": {},
   "outputs": [],
   "source": [
    "html+=\"<h1>Runs</h1>\""
   ]
  },
  {
   "cell_type": "code",
   "execution_count": 67,
   "metadata": {},
   "outputs": [],
   "source": [
    "html=generate_tree('json_files/',html,'chart_test.html?track=')"
   ]
  },
  {
   "cell_type": "code",
   "execution_count": 68,
   "metadata": {},
   "outputs": [
    {
     "data": {
      "text/plain": [
       "'<!DOCTYPE html><html lang=\"en\"><head><title>SkiTracker</title><meta charset=\"utf-8\"><meta name=\"viewport\" content=\"width=device-width, user-scalable=no, minimum-scale=1.0, maximum-scale=1.0\"></head><body>\\n<h1>Routes</h1><p><a href=\\'leaflet_test.html?track=giacomo_17Mar19\\'>giacomo_17Mar19</a></p><p><a href=\\'leaflet_test.html?track=josh_17Mar19_runs\\'>josh_17Mar19_runs</a></p><p><a href=\\'leaflet_test.html?track=ross_17Mar19_runs\\'>ross_17Mar19_runs</a></p><p><a href=\\'leaflet_test.html?track=ross_17Mar19\\'>ross_17Mar19</a></p><h1>Runs</h1><p><a href=\\'chart_test.html?track=josh_17Mar19_10\\'>josh_17Mar19_10</a></p><p><a href=\\'chart_test.html?track=ross_17Mar19_1\\'>ross_17Mar19_1</a></p><p><a href=\\'chart_test.html?track=josh_17Mar19_11\\'>josh_17Mar19_11</a></p><p><a href=\\'chart_test.html?track=josh_17Mar19_12\\'>josh_17Mar19_12</a></p><p><a href=\\'chart_test.html?track=josh_17Mar19_3\\'>josh_17Mar19_3</a></p><p><a href=\\'chart_test.html?track=josh_17Mar19_7\\'>josh_17Mar19_7</a></p><p><a href=\\'chart_test.html?track=josh_17Mar19_1\\'>josh_17Mar19_1</a></p><p><a href=\\'chart_test.html?track=ross_17Mar19_0\\'>ross_17Mar19_0</a></p><p><a href=\\'chart_test.html?track=josh_17Mar19_4\\'>josh_17Mar19_4</a></p><p><a href=\\'chart_test.html?track=ross_17Mar19_8\\'>ross_17Mar19_8</a></p><p><a href=\\'chart_test.html?track=ross_17Mar19_7\\'>ross_17Mar19_7</a></p><p><a href=\\'chart_test.html?track=josh_17Mar19_0\\'>josh_17Mar19_0</a></p><p><a href=\\'chart_test.html?track=ross_17Mar19_6\\'>ross_17Mar19_6</a></p><p><a href=\\'chart_test.html?track=josh_17Mar19_2\\'>josh_17Mar19_2</a></p><p><a href=\\'chart_test.html?track=josh_17Mar19_6\\'>josh_17Mar19_6</a></p><p><a href=\\'chart_test.html?track=ross_17Mar19_4\\'>ross_17Mar19_4</a></p><p><a href=\\'chart_test.html?track=josh_17Mar19_9\\'>josh_17Mar19_9</a></p><p><a href=\\'chart_test.html?track=ross_17Mar19_3\\'>ross_17Mar19_3</a></p><p><a href=\\'chart_test.html?track=ross_17Mar19_9\\'>ross_17Mar19_9</a></p><p><a href=\\'chart_test.html?track=josh_17Mar19_5\\'>josh_17Mar19_5</a></p><p><a href=\\'chart_test.html?track=josh_17Mar19_8\\'>josh_17Mar19_8</a></p><p><a href=\\'chart_test.html?track=ross_17Mar19_5\\'>ross_17Mar19_5</a></p><p><a href=\\'chart_test.html?track=ross_17Mar19_2\\'>ross_17Mar19_2</a></p></body></html>'"
      ]
     },
     "execution_count": 68,
     "metadata": {},
     "output_type": "execute_result"
    }
   ],
   "source": [
    "html+=html_end\n",
    "html"
   ]
  },
  {
   "cell_type": "code",
   "execution_count": 69,
   "metadata": {},
   "outputs": [],
   "source": [
    "with open('ski_chooser.html','w') as f:\n",
    "    f.write(html)"
   ]
  },
  {
   "cell_type": "code",
   "execution_count": null,
   "metadata": {},
   "outputs": [],
   "source": []
  }
 ],
 "metadata": {
  "kernelspec": {
   "display_name": "Python (base)",
   "language": "python",
   "name": "base"
  },
  "language_info": {
   "codemirror_mode": {
    "name": "ipython",
    "version": 3
   },
   "file_extension": ".py",
   "mimetype": "text/x-python",
   "name": "python",
   "nbconvert_exporter": "python",
   "pygments_lexer": "ipython3",
   "version": "3.7.1"
  }
 },
 "nbformat": 4,
 "nbformat_minor": 2
}
