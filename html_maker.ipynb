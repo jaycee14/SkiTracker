{
 "cells": [
  {
   "cell_type": "markdown",
   "metadata": {},
   "source": [
    "Notebook to create basic html front page"
   ]
  },
  {
   "cell_type": "code",
   "execution_count": 1,
   "metadata": {},
   "outputs": [],
   "source": [
    "import os"
   ]
  },
  {
   "cell_type": "code",
   "execution_count": 2,
   "metadata": {},
   "outputs": [],
   "source": [
    "def generate_tree(path, html,href):\n",
    "    for file in os.listdir(path):\n",
    "        filename = file.split('.')[0]\n",
    "        html += \"<p><a href='{}{}'>{}</a></p>\".format(href,filename,filename)\n",
    "    return html"
   ]
  },
  {
   "cell_type": "code",
   "execution_count": 3,
   "metadata": {},
   "outputs": [],
   "source": [
    "html_start=\"\"\"<!DOCTYPE html><html lang=\"en\"><head><title>SkiTracker</title><meta charset=\"utf-8\"><meta name=\"viewport\" content=\"width=device-width, user-scalable=no, minimum-scale=1.0, maximum-scale=1.0\"></head><body>\n",
    "\"\"\"\n",
    "\n",
    "html_end = \"\"\"</body></html>\"\"\""
   ]
  },
  {
   "cell_type": "code",
   "execution_count": 4,
   "metadata": {},
   "outputs": [],
   "source": [
    "html=html_start\n",
    "html+=\"<h1>Routes</h1>\""
   ]
  },
  {
   "cell_type": "code",
   "execution_count": 5,
   "metadata": {},
   "outputs": [],
   "source": [
    "html=generate_tree('gpx_files/',html,'track2d.html?track=')"
   ]
  },
  {
   "cell_type": "code",
   "execution_count": 6,
   "metadata": {},
   "outputs": [],
   "source": [
    "html+=\"<h1>Runs</h1>\""
   ]
  },
  {
   "cell_type": "code",
   "execution_count": 7,
   "metadata": {},
   "outputs": [],
   "source": [
    "html=generate_tree('json_files/',html,'track3d.html?track=')"
   ]
  },
  {
   "cell_type": "code",
   "execution_count": 8,
   "metadata": {},
   "outputs": [
    {
     "data": {
      "text/plain": [
       "'<!DOCTYPE html><html lang=\"en\"><head><title>SkiTracker</title><meta charset=\"utf-8\"><meta name=\"viewport\" content=\"width=device-width, user-scalable=no, minimum-scale=1.0, maximum-scale=1.0\"></head><body>\\n<h1>Routes</h1><p><a href=\\'track2d.html?track=jon_BG_18Jan20_gpx\\'>jon_BG_18Jan20_gpx</a></p><p><a href=\\'track2d.html?track=josh_BG_17Jan20_gpx\\'>josh_BG_17Jan20_gpx</a></p><p><a href=\\'track2d.html?track=sam_FR_10Apr20_gpx\\'>sam_FR_10Apr20_gpx</a></p><p><a href=\\'track2d.html?track=sam_FR_09Apr20_gpx\\'>sam_FR_09Apr20_gpx</a></p><p><a href=\\'track2d.html?track=sam_FR_08Apr20_gpx\\'>sam_FR_08Apr20_gpx</a></p><h1>Runs</h1><p><a href=\\'track3d.html?track=jon_BG_18Jan20_0\\'>jon_BG_18Jan20_0</a></p><p><a href=\\'track3d.html?track=sam_FR_09Apr20_1\\'>sam_FR_09Apr20_1</a></p><p><a href=\\'track3d.html?track=ross_17Mar19_7\\'>ross_17Mar19_7</a></p><p><a href=\\'track3d.html?track=jon_BG_18Jan20_8\\'>jon_BG_18Jan20_8</a></p><p><a href=\\'track3d.html?track=josh_BG_17Jan20_4\\'>josh_BG_17Jan20_4</a></p><p><a href=\\'track3d.html?track=josh_BG_17Jan20_1\\'>josh_BG_17Jan20_1</a></p><p><a href=\\'track3d.html?track=giacomo_17Mar19_6\\'>giacomo_17Mar19_6</a></p><p><a href=\\'track3d.html?track=jon_BG_18Jan20_9\\'>jon_BG_18Jan20_9</a></p><p><a href=\\'track3d.html?track=giacomo_17Mar19_7\\'>giacomo_17Mar19_7</a></p><p><a href=\\'track3d.html?track=giacomo_18Mar19_3\\'>giacomo_18Mar19_3</a></p><p><a href=\\'track3d.html?track=sam_FR_09Apr20_8\\'>sam_FR_09Apr20_8</a></p><p><a href=\\'track3d.html?track=josh_BG_17Jan20_2\\'>josh_BG_17Jan20_2</a></p><p><a href=\\'track3d.html?track=josh_BG_17Jan20_7\\'>josh_BG_17Jan20_7</a></p><p><a href=\\'track3d.html?track=sam_FR_08Apr20_3\\'>sam_FR_08Apr20_3</a></p><p><a href=\\'track3d.html?track=sam_FR_08Apr20_10\\'>sam_FR_08Apr20_10</a></p><p><a href=\\'track3d.html?track=sam_FR_08Apr20_8\\'>sam_FR_08Apr20_8</a></p><p><a href=\\'track3d.html?track=giacomo_18Mar19_6\\'>giacomo_18Mar19_6</a></p><p><a href=\\'track3d.html?track=sam_FR_09Apr20_4\\'>sam_FR_09Apr20_4</a></p><p><a href=\\'track3d.html?track=sam_FR_09Apr20_3\\'>sam_FR_09Apr20_3</a></p><p><a href=\\'track3d.html?track=sam_FR_08Apr20_1\\'>sam_FR_08Apr20_1</a></p><p><a href=\\'track3d.html?track=jon_BG_18Jan20_5\\'>jon_BG_18Jan20_5</a></p><p><a href=\\'track3d.html?track=giacomo_17Mar19_1\\'>giacomo_17Mar19_1</a></p><p><a href=\\'track3d.html?track=jon_BG_18Jan20_11\\'>jon_BG_18Jan20_11</a></p><p><a href=\\'track3d.html?track=sam_FR_09Apr20_6\\'>sam_FR_09Apr20_6</a></p><p><a href=\\'track3d.html?track=sam_FR_10Apr20_0\\'>sam_FR_10Apr20_0</a></p><p><a href=\\'track3d.html?track=josh_BG_17Jan20_6\\'>josh_BG_17Jan20_6</a></p><p><a href=\\'track3d.html?track=sam_FR_10Apr20_2\\'>sam_FR_10Apr20_2</a></p><p><a href=\\'track3d.html?track=all_ross\\'>all_ross</a></p><p><a href=\\'track3d.html?track=ross_17Mar19_8\\'>ross_17Mar19_8</a></p><p><a href=\\'track3d.html?track=jon_BG_18Jan20_14\\'>jon_BG_18Jan20_14</a></p><p><a href=\\'track3d.html?track=jon_BG_18Jan20_13\\'>jon_BG_18Jan20_13</a></p><p><a href=\\'track3d.html?track=ross_17Mar19_9\\'>ross_17Mar19_9</a></p><p><a href=\\'track3d.html?track=giacomo_18Mar19_9\\'>giacomo_18Mar19_9</a></p><p><a href=\\'track3d.html?track=ross_17Mar19_3\\'>ross_17Mar19_3</a></p><p><a href=\\'track3d.html?track=sam_FR_09Apr20_5\\'>sam_FR_09Apr20_5</a></p><p><a href=\\'track3d.html?track=jon_BG_18Jan20_7\\'>jon_BG_18Jan20_7</a></p><p><a href=\\'track3d.html?track=sam_FR_09Apr20_7\\'>sam_FR_09Apr20_7</a></p><p><a href=\\'track3d.html?track=jon_BG_18Jan20_2\\'>jon_BG_18Jan20_2</a></p><p><a href=\\'track3d.html?track=giacomo_17Mar19_4\\'>giacomo_17Mar19_4</a></p><p><a href=\\'track3d.html?track=jon_BG_18Jan20_3\\'>jon_BG_18Jan20_3</a></p><p><a href=\\'track3d.html?track=giacomo_18Mar19_8\\'>giacomo_18Mar19_8</a></p><p><a href=\\'track3d.html?track=giacomo_18Mar19_0\\'>giacomo_18Mar19_0</a></p><p><a href=\\'track3d.html?track=giacomo_18Mar19_1\\'>giacomo_18Mar19_1</a></p><p><a href=\\'track3d.html?track=giacomo_17Mar19_8\\'>giacomo_17Mar19_8</a></p><p><a href=\\'track3d.html?track=sam_FR_08Apr20_9\\'>sam_FR_08Apr20_9</a></p><p><a href=\\'track3d.html?track=giacomo_17Mar19_2\\'>giacomo_17Mar19_2</a></p><p><a href=\\'track3d.html?track=sam_FR_08Apr20_2\\'>sam_FR_08Apr20_2</a></p><p><a href=\\'track3d.html?track=jon_BG_18Jan20_1\\'>jon_BG_18Jan20_1</a></p><p><a href=\\'track3d.html?track=josh_BG_17Jan20_3\\'>josh_BG_17Jan20_3</a></p><p><a href=\\'track3d.html?track=giacomo_18Mar19_4\\'>giacomo_18Mar19_4</a></p><p><a href=\\'track3d.html?track=jon_BG_18Jan20_6\\'>jon_BG_18Jan20_6</a></p><p><a href=\\'track3d.html?track=sam_FR_08Apr20_4\\'>sam_FR_08Apr20_4</a></p><p><a href=\\'track3d.html?track=josh_BG_17Jan20_8\\'>josh_BG_17Jan20_8</a></p><p><a href=\\'track3d.html?track=ross_17Mar19_5\\'>ross_17Mar19_5</a></p><p><a href=\\'track3d.html?track=giacomo_17Mar19_0\\'>giacomo_17Mar19_0</a></p><p><a href=\\'track3d.html?track=giacomo_17Mar19_3\\'>giacomo_17Mar19_3</a></p><p><a href=\\'track3d.html?track=giacomo_18Mar19_2\\'>giacomo_18Mar19_2</a></p><p><a href=\\'track3d.html?track=josh_BG_17Jan20_5\\'>josh_BG_17Jan20_5</a></p><p><a href=\\'track3d.html?track=ross_17Mar19_1\\'>ross_17Mar19_1</a></p><p><a href=\\'track3d.html?track=giacomo_17Mar19_5\\'>giacomo_17Mar19_5</a></p><p><a href=\\'track3d.html?track=ross_17Mar19_4\\'>ross_17Mar19_4</a></p><p><a href=\\'track3d.html?track=ross_17Mar19_0\\'>ross_17Mar19_0</a></p><p><a href=\\'track3d.html?track=jon_BG_18Jan20_12\\'>jon_BG_18Jan20_12</a></p><p><a href=\\'track3d.html?track=sam_FR_09Apr20_2\\'>sam_FR_09Apr20_2</a></p><p><a href=\\'track3d.html?track=sam_FR_08Apr20_0\\'>sam_FR_08Apr20_0</a></p><p><a href=\\'track3d.html?track=josh_BG_17Jan20_0\\'>josh_BG_17Jan20_0</a></p><p><a href=\\'track3d.html?track=sam_FR_08Apr20_5\\'>sam_FR_08Apr20_5</a></p><p><a href=\\'track3d.html?track=jon_BG_18Jan20_4\\'>jon_BG_18Jan20_4</a></p><p><a href=\\'track3d.html?track=sam_FR_08Apr20_7\\'>sam_FR_08Apr20_7</a></p><p><a href=\\'track3d.html?track=sam_FR_08Apr20_6\\'>sam_FR_08Apr20_6</a></p><p><a href=\\'track3d.html?track=giacomo_18Mar19_7\\'>giacomo_18Mar19_7</a></p><p><a href=\\'track3d.html?track=ross_17Mar19_6\\'>ross_17Mar19_6</a></p><p><a href=\\'track3d.html?track=sam_FR_10Apr20_1\\'>sam_FR_10Apr20_1</a></p><p><a href=\\'track3d.html?track=ross_17Mar19_2\\'>ross_17Mar19_2</a></p><p><a href=\\'track3d.html?track=sam_FR_09Apr20_0\\'>sam_FR_09Apr20_0</a></p><p><a href=\\'track3d.html?track=giacomo_18Mar19_5\\'>giacomo_18Mar19_5</a></p><p><a href=\\'track3d.html?track=jon_BG_18Jan20_10\\'>jon_BG_18Jan20_10</a></p></body></html>'"
      ]
     },
     "execution_count": 8,
     "metadata": {},
     "output_type": "execute_result"
    }
   ],
   "source": [
    "html+=html_end\n",
    "html"
   ]
  },
  {
   "cell_type": "code",
   "execution_count": 9,
   "metadata": {},
   "outputs": [],
   "source": [
    "with open('ski_chooser.html','w') as f:\n",
    "    f.write(html)"
   ]
  },
  {
   "cell_type": "code",
   "execution_count": null,
   "metadata": {},
   "outputs": [],
   "source": []
  },
  {
   "cell_type": "code",
   "execution_count": null,
   "metadata": {},
   "outputs": [],
   "source": []
  }
 ],
 "metadata": {
  "kernelspec": {
   "display_name": "Python 3",
   "language": "python",
   "name": "python3"
  },
  "language_info": {
   "codemirror_mode": {
    "name": "ipython",
    "version": 3
   },
   "file_extension": ".py",
   "mimetype": "text/x-python",
   "name": "python",
   "nbconvert_exporter": "python",
   "pygments_lexer": "ipython3",
   "version": "3.7.4"
  }
 },
 "nbformat": 4,
 "nbformat_minor": 2
}
