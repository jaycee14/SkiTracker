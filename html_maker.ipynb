{
 "cells": [
  {
   "cell_type": "code",
   "execution_count": 41,
   "metadata": {},
   "outputs": [],
   "source": [
    "import os"
   ]
  },
  {
   "cell_type": "code",
   "execution_count": 42,
   "metadata": {},
   "outputs": [],
   "source": [
    "def generate_tree(path, html,href):\n",
    "    for file in os.listdir(path):\n",
    "#         rel = path + \"/\" + file\n",
    "#         if os.path.isdir(rel):\n",
    "#             html += \"<p class='toggle'>%s</p><div class='child' hidden='true'>\" % (file)\n",
    "#             html += generate_tree(rel)\n",
    "#             html += \"</div>\"\n",
    "#         else:\n",
    "            filename = file.split('.')[0]\n",
    "            html += \"<p><a href='{}{}'>{}</a></p>\".format(href,filename,filename)\n",
    "    return html"
   ]
  },
  {
   "cell_type": "code",
   "execution_count": 43,
   "metadata": {},
   "outputs": [],
   "source": [
    "html_start=\"\"\"<!DOCTYPE html><html lang=\"en\"><head><title>SkiTracker</title><meta charset=\"utf-8\"><meta name=\"viewport\" content=\"width=device-width, user-scalable=no, minimum-scale=1.0, maximum-scale=1.0\"></head><body>\n",
    "\"\"\"\n",
    "\n",
    "html_end = \"\"\"</body></html>\"\"\""
   ]
  },
  {
   "cell_type": "code",
   "execution_count": 44,
   "metadata": {},
   "outputs": [],
   "source": [
    "html=html_start\n",
    "html+=\"<h1>Routes</h1>\""
   ]
  },
  {
   "cell_type": "code",
   "execution_count": 45,
   "metadata": {},
   "outputs": [],
   "source": [
    "html=generate_tree('gpx_files/',html,'leaflet_test.html?track=')"
   ]
  },
  {
   "cell_type": "code",
   "execution_count": 46,
   "metadata": {},
   "outputs": [],
   "source": [
    "html+=\"<h1>Runs</h1>\""
   ]
  },
  {
   "cell_type": "code",
   "execution_count": 47,
   "metadata": {},
   "outputs": [],
   "source": [
    "html=generate_tree('json_files/',html,'track3d.html?track=')"
   ]
  },
  {
   "cell_type": "code",
   "execution_count": 48,
   "metadata": {},
   "outputs": [
    {
     "data": {
      "text/plain": [
       "'<!DOCTYPE html><html lang=\"en\"><head><title>SkiTracker</title><meta charset=\"utf-8\"><meta name=\"viewport\" content=\"width=device-width, user-scalable=no, minimum-scale=1.0, maximum-scale=1.0\"></head><body>\\n<h1>Routes</h1><p><a href=\\'leaflet_test.html?track=giacomo_17Mar19_runs\\'>giacomo_17Mar19_runs</a></p><p><a href=\\'leaflet_test.html?track=giacomo_18Mar19_runs\\'>giacomo_18Mar19_runs</a></p><h1>Runs</h1><p><a href=\\'track3d.html?track=giacomo_17Mar19_0\\'>giacomo_17Mar19_0</a></p><p><a href=\\'track3d.html?track=giacomo_17Mar19_1\\'>giacomo_17Mar19_1</a></p><p><a href=\\'track3d.html?track=giacomo_17Mar19_2\\'>giacomo_17Mar19_2</a></p><p><a href=\\'track3d.html?track=giacomo_17Mar19_3\\'>giacomo_17Mar19_3</a></p><p><a href=\\'track3d.html?track=giacomo_17Mar19_4\\'>giacomo_17Mar19_4</a></p><p><a href=\\'track3d.html?track=giacomo_17Mar19_5\\'>giacomo_17Mar19_5</a></p><p><a href=\\'track3d.html?track=giacomo_17Mar19_6\\'>giacomo_17Mar19_6</a></p><p><a href=\\'track3d.html?track=giacomo_17Mar19_7\\'>giacomo_17Mar19_7</a></p><p><a href=\\'track3d.html?track=giacomo_17Mar19_8\\'>giacomo_17Mar19_8</a></p><p><a href=\\'track3d.html?track=giacomo_18Mar19_0\\'>giacomo_18Mar19_0</a></p><p><a href=\\'track3d.html?track=giacomo_18Mar19_1\\'>giacomo_18Mar19_1</a></p><p><a href=\\'track3d.html?track=giacomo_18Mar19_2\\'>giacomo_18Mar19_2</a></p><p><a href=\\'track3d.html?track=giacomo_18Mar19_3\\'>giacomo_18Mar19_3</a></p><p><a href=\\'track3d.html?track=giacomo_18Mar19_4\\'>giacomo_18Mar19_4</a></p><p><a href=\\'track3d.html?track=giacomo_18Mar19_5\\'>giacomo_18Mar19_5</a></p><p><a href=\\'track3d.html?track=giacomo_18Mar19_6\\'>giacomo_18Mar19_6</a></p><p><a href=\\'track3d.html?track=giacomo_18Mar19_7\\'>giacomo_18Mar19_7</a></p><p><a href=\\'track3d.html?track=giacomo_18Mar19_8\\'>giacomo_18Mar19_8</a></p><p><a href=\\'track3d.html?track=giacomo_18Mar19_9\\'>giacomo_18Mar19_9</a></p><p><a href=\\'track3d.html?track=ross_17Mar19_0\\'>ross_17Mar19_0</a></p><p><a href=\\'track3d.html?track=ross_17Mar19_1\\'>ross_17Mar19_1</a></p><p><a href=\\'track3d.html?track=ross_17Mar19_2\\'>ross_17Mar19_2</a></p><p><a href=\\'track3d.html?track=ross_17Mar19_3\\'>ross_17Mar19_3</a></p><p><a href=\\'track3d.html?track=ross_17Mar19_4\\'>ross_17Mar19_4</a></p><p><a href=\\'track3d.html?track=ross_17Mar19_5\\'>ross_17Mar19_5</a></p><p><a href=\\'track3d.html?track=ross_17Mar19_6\\'>ross_17Mar19_6</a></p><p><a href=\\'track3d.html?track=ross_17Mar19_7\\'>ross_17Mar19_7</a></p><p><a href=\\'track3d.html?track=ross_17Mar19_8\\'>ross_17Mar19_8</a></p><p><a href=\\'track3d.html?track=ross_17Mar19_9\\'>ross_17Mar19_9</a></p></body></html>'"
      ]
     },
     "execution_count": 48,
     "metadata": {},
     "output_type": "execute_result"
    }
   ],
   "source": [
    "html+=html_end\n",
    "html"
   ]
  },
  {
   "cell_type": "code",
   "execution_count": 49,
   "metadata": {},
   "outputs": [],
   "source": [
    "with open('ski_chooser.html','w') as f:\n",
    "    f.write(html)"
   ]
  },
  {
   "cell_type": "code",
   "execution_count": null,
   "metadata": {},
   "outputs": [],
   "source": []
  }
 ],
 "metadata": {
  "kernelspec": {
   "display_name": "Python 3",
   "language": "python",
   "name": "python3"
  },
  "language_info": {
   "codemirror_mode": {
    "name": "ipython",
    "version": 3
   },
   "file_extension": ".py",
   "mimetype": "text/x-python",
   "name": "python",
   "nbconvert_exporter": "python",
   "pygments_lexer": "ipython3",
   "version": "3.6.5"
  }
 },
 "nbformat": 4,
 "nbformat_minor": 2
}
