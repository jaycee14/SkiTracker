{
 "cells": [
  {
   "cell_type": "code",
   "execution_count": 1,
   "metadata": {},
   "outputs": [],
   "source": [
    "import pandas as pd\n",
    "import numpy as np\n",
    "import matplotlib.pyplot as plt\n",
    "from mpl_toolkits.mplot3d import Axes3D"
   ]
  },
  {
   "cell_type": "code",
   "execution_count": 3,
   "metadata": {},
   "outputs": [],
   "source": [
    "plt.switch_backend('WebAgg')"
   ]
  },
  {
   "cell_type": "code",
   "execution_count": 19,
   "metadata": {},
   "outputs": [],
   "source": [
    "data_all=pd.read_pickle(\"processed_data/simple_filter_14Mar18.pkl\")"
   ]
  },
  {
   "cell_type": "code",
   "execution_count": 20,
   "metadata": {},
   "outputs": [],
   "source": [
    "data_all['GPS_Alt_Delta']=data_all.GPS_Alt[:-1] - data_all.GPS_Alt[1:].values"
   ]
  },
  {
   "cell_type": "code",
   "execution_count": 21,
   "metadata": {},
   "outputs": [
    {
     "data": {
      "text/html": [
       "<div>\n",
       "<style scoped>\n",
       "    .dataframe tbody tr th:only-of-type {\n",
       "        vertical-align: middle;\n",
       "    }\n",
       "\n",
       "    .dataframe tbody tr th {\n",
       "        vertical-align: top;\n",
       "    }\n",
       "\n",
       "    .dataframe thead th {\n",
       "        text-align: right;\n",
       "    }\n",
       "</style>\n",
       "<table border=\"1\" class=\"dataframe\">\n",
       "  <thead>\n",
       "    <tr style=\"text-align: right;\">\n",
       "      <th></th>\n",
       "      <th>Date</th>\n",
       "      <th>Time</th>\n",
       "      <th>Lat</th>\n",
       "      <th>Lon</th>\n",
       "      <th>GPS_Alt</th>\n",
       "      <th>Pressure</th>\n",
       "      <th>Pres_Alt</th>\n",
       "      <th>Temp</th>\n",
       "      <th>Batt</th>\n",
       "      <th>Lat_Delta</th>\n",
       "      <th>Lon_Delta</th>\n",
       "      <th>GPS_Alt_Delta</th>\n",
       "    </tr>\n",
       "  </thead>\n",
       "  <tbody>\n",
       "    <tr>\n",
       "      <th>1</th>\n",
       "      <td>03/14/2018</td>\n",
       "      <td>08:17:34</td>\n",
       "      <td>45.015327</td>\n",
       "      <td>6.127997</td>\n",
       "      <td>1686.2</td>\n",
       "      <td>1.101200e+10</td>\n",
       "      <td>1706.225</td>\n",
       "      <td>17.9</td>\n",
       "      <td>3.957</td>\n",
       "      <td>-0.000004</td>\n",
       "      <td>5.000000e-07</td>\n",
       "      <td>0.6</td>\n",
       "    </tr>\n",
       "    <tr>\n",
       "      <th>3</th>\n",
       "      <td>03/14/2018</td>\n",
       "      <td>08:17:36</td>\n",
       "      <td>45.015335</td>\n",
       "      <td>6.127997</td>\n",
       "      <td>1685.6</td>\n",
       "      <td>1.101200e+10</td>\n",
       "      <td>1706.127</td>\n",
       "      <td>17.9</td>\n",
       "      <td>3.874</td>\n",
       "      <td>-0.000004</td>\n",
       "      <td>5.200000e-06</td>\n",
       "      <td>0.0</td>\n",
       "    </tr>\n",
       "    <tr>\n",
       "      <th>4</th>\n",
       "      <td>03/14/2018</td>\n",
       "      <td>08:17:38</td>\n",
       "      <td>45.015339</td>\n",
       "      <td>6.127992</td>\n",
       "      <td>1685.6</td>\n",
       "      <td>1.101200e+10</td>\n",
       "      <td>1706.325</td>\n",
       "      <td>17.9</td>\n",
       "      <td>3.867</td>\n",
       "      <td>-0.000011</td>\n",
       "      <td>2.000000e-06</td>\n",
       "      <td>1.2</td>\n",
       "    </tr>\n",
       "    <tr>\n",
       "      <th>5</th>\n",
       "      <td>03/14/2018</td>\n",
       "      <td>08:17:39</td>\n",
       "      <td>45.015350</td>\n",
       "      <td>6.127990</td>\n",
       "      <td>1684.4</td>\n",
       "      <td>1.101200e+10</td>\n",
       "      <td>1706.225</td>\n",
       "      <td>17.9</td>\n",
       "      <td>3.874</td>\n",
       "      <td>-0.000016</td>\n",
       "      <td>2.300000e-06</td>\n",
       "      <td>0.8</td>\n",
       "    </tr>\n",
       "    <tr>\n",
       "      <th>6</th>\n",
       "      <td>03/14/2018</td>\n",
       "      <td>08:17:40</td>\n",
       "      <td>45.015366</td>\n",
       "      <td>6.127988</td>\n",
       "      <td>1683.6</td>\n",
       "      <td>1.101200e+10</td>\n",
       "      <td>1706.127</td>\n",
       "      <td>17.9</td>\n",
       "      <td>3.887</td>\n",
       "      <td>-0.000011</td>\n",
       "      <td>3.400000e-06</td>\n",
       "      <td>0.6</td>\n",
       "    </tr>\n",
       "  </tbody>\n",
       "</table>\n",
       "</div>"
      ],
      "text/plain": [
       "          Date       Time        Lat       Lon  GPS_Alt      Pressure  \\\n",
       "1  03/14/2018   08:17:34   45.015327  6.127997   1686.2  1.101200e+10   \n",
       "3  03/14/2018   08:17:36   45.015335  6.127997   1685.6  1.101200e+10   \n",
       "4  03/14/2018   08:17:38   45.015339  6.127992   1685.6  1.101200e+10   \n",
       "5  03/14/2018   08:17:39   45.015350  6.127990   1684.4  1.101200e+10   \n",
       "6  03/14/2018   08:17:40   45.015366  6.127988   1683.6  1.101200e+10   \n",
       "\n",
       "   Pres_Alt  Temp   Batt  Lat_Delta     Lon_Delta  GPS_Alt_Delta  \n",
       "1  1706.225  17.9  3.957  -0.000004  5.000000e-07            0.6  \n",
       "3  1706.127  17.9  3.874  -0.000004  5.200000e-06            0.0  \n",
       "4  1706.325  17.9  3.867  -0.000011  2.000000e-06            1.2  \n",
       "5  1706.225  17.9  3.874  -0.000016  2.300000e-06            0.8  \n",
       "6  1706.127  17.9  3.887  -0.000011  3.400000e-06            0.6  "
      ]
     },
     "execution_count": 21,
     "metadata": {},
     "output_type": "execute_result"
    }
   ],
   "source": [
    "data_all.head()"
   ]
  },
  {
   "cell_type": "code",
   "execution_count": 34,
   "metadata": {},
   "outputs": [
    {
     "data": {
      "text/plain": [
       "(7833, 12)"
      ]
     },
     "execution_count": 34,
     "metadata": {},
     "output_type": "execute_result"
    }
   ],
   "source": [
    "data = data_all.loc[data_all.GPS_Alt_Delta<=0];data.shape"
   ]
  },
  {
   "cell_type": "code",
   "execution_count": 38,
   "metadata": {},
   "outputs": [],
   "source": [
    "x=data.Lat.values\n",
    "y=data.Lon.values\n",
    "#z=data.GPS_Alt.values\n",
    "z=data.Pres_Alt"
   ]
  },
  {
   "cell_type": "code",
   "execution_count": 39,
   "metadata": {},
   "outputs": [
    {
     "data": {
      "text/plain": [
       "7833"
      ]
     },
     "execution_count": 39,
     "metadata": {},
     "output_type": "execute_result"
    }
   ],
   "source": [
    "len(z)"
   ]
  },
  {
   "cell_type": "code",
   "execution_count": 40,
   "metadata": {},
   "outputs": [],
   "source": [
    "fig=plt.figure(figsize=(20,10))\n",
    "ax = fig.gca(projection='3d')\n",
    "ax.plot(x, y, z, label='ski curve')\n",
    "ax.legend()\n",
    "\n",
    "plt.show()"
   ]
  },
  {
   "cell_type": "code",
   "execution_count": null,
   "metadata": {},
   "outputs": [],
   "source": []
  }
 ],
 "metadata": {
  "kernelspec": {
   "display_name": "Python 3",
   "language": "python",
   "name": "python3"
  },
  "language_info": {
   "codemirror_mode": {
    "name": "ipython",
    "version": 3
   },
   "file_extension": ".py",
   "mimetype": "text/x-python",
   "name": "python",
   "nbconvert_exporter": "python",
   "pygments_lexer": "ipython3",
   "version": "3.6.5"
  }
 },
 "nbformat": 4,
 "nbformat_minor": 2
}
