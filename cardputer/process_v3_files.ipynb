{
 "cells": [
  {
   "cell_type": "code",
   "execution_count": 6,
   "metadata": {},
   "outputs": [],
   "source": [
    "import sys\n",
    "sys.path.insert(0, '..')"
   ]
  },
  {
   "cell_type": "code",
   "execution_count": 1,
   "metadata": {},
   "outputs": [],
   "source": [
    "import pandas as pd\n",
    "from datetime import datetime\n",
    "import gpxpy"
   ]
  },
  {
   "cell_type": "code",
   "execution_count": 2,
   "metadata": {},
   "outputs": [],
   "source": [
    "data = pd.read_csv('ski_2000_01_01_0000.csv',names=['Lat','Lon','GPS_Alt','Time'])"
   ]
  },
  {
   "cell_type": "code",
   "execution_count": 3,
   "metadata": {},
   "outputs": [
    {
     "data": {
      "text/plain": [
       "(7326, 4)"
      ]
     },
     "execution_count": 3,
     "metadata": {},
     "output_type": "execute_result"
    }
   ],
   "source": [
    "data.shape"
   ]
  },
  {
   "cell_type": "code",
   "execution_count": 4,
   "metadata": {},
   "outputs": [
    {
     "data": {
      "text/html": [
       "<div>\n",
       "<style scoped>\n",
       "    .dataframe tbody tr th:only-of-type {\n",
       "        vertical-align: middle;\n",
       "    }\n",
       "\n",
       "    .dataframe tbody tr th {\n",
       "        vertical-align: top;\n",
       "    }\n",
       "\n",
       "    .dataframe thead th {\n",
       "        text-align: right;\n",
       "    }\n",
       "</style>\n",
       "<table border=\"1\" class=\"dataframe\">\n",
       "  <thead>\n",
       "    <tr style=\"text-align: right;\">\n",
       "      <th></th>\n",
       "      <th>Lat</th>\n",
       "      <th>Lon</th>\n",
       "      <th>GPS_Alt</th>\n",
       "      <th>Time</th>\n",
       "    </tr>\n",
       "  </thead>\n",
       "  <tbody>\n",
       "    <tr>\n",
       "      <th>0</th>\n",
       "      <td>41.78118N</td>\n",
       "      <td>23.43906E</td>\n",
       "      <td>0.00</td>\n",
       "      <td>08:14.14</td>\n",
       "    </tr>\n",
       "    <tr>\n",
       "      <th>1</th>\n",
       "      <td>41.78118N</td>\n",
       "      <td>23.43904E</td>\n",
       "      <td>1598.80</td>\n",
       "      <td>08:14.15</td>\n",
       "    </tr>\n",
       "    <tr>\n",
       "      <th>2</th>\n",
       "      <td>41.78117N</td>\n",
       "      <td>23.43904E</td>\n",
       "      <td>1606.24</td>\n",
       "      <td>08:14.16</td>\n",
       "    </tr>\n",
       "    <tr>\n",
       "      <th>3</th>\n",
       "      <td>41.78116N</td>\n",
       "      <td>23.43904E</td>\n",
       "      <td>1604.71</td>\n",
       "      <td>08:14.18</td>\n",
       "    </tr>\n",
       "    <tr>\n",
       "      <th>4</th>\n",
       "      <td>41.78116N</td>\n",
       "      <td>23.43904E</td>\n",
       "      <td>1604.64</td>\n",
       "      <td>08:14.19</td>\n",
       "    </tr>\n",
       "  </tbody>\n",
       "</table>\n",
       "</div>"
      ],
      "text/plain": [
       "         Lat        Lon  GPS_Alt      Time\n",
       "0  41.78118N  23.43906E     0.00  08:14.14\n",
       "1  41.78118N  23.43904E  1598.80  08:14.15\n",
       "2  41.78117N  23.43904E  1606.24  08:14.16\n",
       "3  41.78116N  23.43904E  1604.71  08:14.18\n",
       "4  41.78116N  23.43904E  1604.64  08:14.19"
      ]
     },
     "execution_count": 4,
     "metadata": {},
     "output_type": "execute_result"
    }
   ],
   "source": [
    "data.head()"
   ]
  },
  {
   "cell_type": "code",
   "execution_count": 5,
   "metadata": {},
   "outputs": [],
   "source": [
    "data['Lat_first']=data.Lat.apply(lambda x: x[0:2])"
   ]
  },
  {
   "cell_type": "code",
   "execution_count": 6,
   "metadata": {},
   "outputs": [
    {
     "data": {
      "text/plain": [
       "Lat_first\n",
       "41    7326\n",
       "Name: count, dtype: int64"
      ]
     },
     "execution_count": 6,
     "metadata": {},
     "output_type": "execute_result"
    }
   ],
   "source": [
    "data.Lat_first.value_counts()"
   ]
  },
  {
   "cell_type": "code",
   "execution_count": 7,
   "metadata": {},
   "outputs": [],
   "source": [
    "data_bulgaria = data.loc[data.Lat_first=='41'].copy()\n",
    "data_London = data.loc[data.Lat_first=='51'].copy()"
   ]
  },
  {
   "cell_type": "code",
   "execution_count": 8,
   "metadata": {},
   "outputs": [],
   "source": [
    "data_bulgaria['Date']=datetime(2025,1,31).date()\n",
    "# data_London['Date']=datetime(2025,1,28).date()"
   ]
  },
  {
   "cell_type": "code",
   "execution_count": 9,
   "metadata": {},
   "outputs": [
    {
     "data": {
      "text/html": [
       "<div>\n",
       "<style scoped>\n",
       "    .dataframe tbody tr th:only-of-type {\n",
       "        vertical-align: middle;\n",
       "    }\n",
       "\n",
       "    .dataframe tbody tr th {\n",
       "        vertical-align: top;\n",
       "    }\n",
       "\n",
       "    .dataframe thead th {\n",
       "        text-align: right;\n",
       "    }\n",
       "</style>\n",
       "<table border=\"1\" class=\"dataframe\">\n",
       "  <thead>\n",
       "    <tr style=\"text-align: right;\">\n",
       "      <th></th>\n",
       "      <th>Lat</th>\n",
       "      <th>Lon</th>\n",
       "      <th>GPS_Alt</th>\n",
       "      <th>Time</th>\n",
       "      <th>Lat_first</th>\n",
       "      <th>Date</th>\n",
       "    </tr>\n",
       "  </thead>\n",
       "  <tbody>\n",
       "    <tr>\n",
       "      <th>0</th>\n",
       "      <td>41.78118N</td>\n",
       "      <td>23.43906E</td>\n",
       "      <td>0.00</td>\n",
       "      <td>08:14.14</td>\n",
       "      <td>41</td>\n",
       "      <td>2025-01-31</td>\n",
       "    </tr>\n",
       "    <tr>\n",
       "      <th>1</th>\n",
       "      <td>41.78118N</td>\n",
       "      <td>23.43904E</td>\n",
       "      <td>1598.80</td>\n",
       "      <td>08:14.15</td>\n",
       "      <td>41</td>\n",
       "      <td>2025-01-31</td>\n",
       "    </tr>\n",
       "    <tr>\n",
       "      <th>2</th>\n",
       "      <td>41.78117N</td>\n",
       "      <td>23.43904E</td>\n",
       "      <td>1606.24</td>\n",
       "      <td>08:14.16</td>\n",
       "      <td>41</td>\n",
       "      <td>2025-01-31</td>\n",
       "    </tr>\n",
       "    <tr>\n",
       "      <th>3</th>\n",
       "      <td>41.78116N</td>\n",
       "      <td>23.43904E</td>\n",
       "      <td>1604.71</td>\n",
       "      <td>08:14.18</td>\n",
       "      <td>41</td>\n",
       "      <td>2025-01-31</td>\n",
       "    </tr>\n",
       "    <tr>\n",
       "      <th>4</th>\n",
       "      <td>41.78116N</td>\n",
       "      <td>23.43904E</td>\n",
       "      <td>1604.64</td>\n",
       "      <td>08:14.19</td>\n",
       "      <td>41</td>\n",
       "      <td>2025-01-31</td>\n",
       "    </tr>\n",
       "  </tbody>\n",
       "</table>\n",
       "</div>"
      ],
      "text/plain": [
       "         Lat        Lon  GPS_Alt      Time Lat_first        Date\n",
       "0  41.78118N  23.43906E     0.00  08:14.14        41  2025-01-31\n",
       "1  41.78118N  23.43904E  1598.80  08:14.15        41  2025-01-31\n",
       "2  41.78117N  23.43904E  1606.24  08:14.16        41  2025-01-31\n",
       "3  41.78116N  23.43904E  1604.71  08:14.18        41  2025-01-31\n",
       "4  41.78116N  23.43904E  1604.64  08:14.19        41  2025-01-31"
      ]
     },
     "execution_count": 9,
     "metadata": {},
     "output_type": "execute_result"
    }
   ],
   "source": [
    "data_bulgaria.head()"
   ]
  },
  {
   "cell_type": "code",
   "execution_count": 12,
   "metadata": {},
   "outputs": [
    {
     "data": {
      "text/plain": [
       "<Axes: >"
      ]
     },
     "execution_count": 12,
     "metadata": {},
     "output_type": "execute_result"
    },
    {
     "data": {
      "image/png": "[encoded data removed]",
      "text/plain": [
       "<Figure size 640x480 with 1 Axes>"
      ]
     },
     "metadata": {},
     "output_type": "display_data"
    }
   ],
   "source": [
    "data_bulgaria.loc[data_bulgaria.GPS_Alt!=0].GPS_Alt.plot()"
   ]
  },
  {
   "cell_type": "code",
   "execution_count": 11,
   "metadata": {},
   "outputs": [],
   "source": [
    "data_bulgaria.to_pickle('bulgaria_2025_01_31_temp.pkl')"
   ]
  },
  {
   "cell_type": "code",
   "execution_count": 36,
   "metadata": {},
   "outputs": [],
   "source": [
    "data_London.to_pickle('london_2025_01_28_temp.pkl')"
   ]
  },
  {
   "cell_type": "markdown",
   "metadata": {},
   "source": [
    "### to gpx"
   ]
  },
  {
   "cell_type": "code",
   "execution_count": 39,
   "metadata": {},
   "outputs": [],
   "source": [
    "# import gpxpy.gpx\n",
    "\n",
    "gpx = gpxpy.gpx.GPX()\n",
    "\n",
    "# Create first track in our GPX:\n",
    "gpx_track = gpxpy.gpx.GPXTrack()\n",
    "gpx.tracks.append(gpx_track)\n",
    "\n",
    "# Create first segment in our GPX track:\n",
    "gpx_segment = gpxpy.gpx.GPXTrackSegment()\n",
    "gpx_track.segments.append(gpx_segment)\n",
    "\n",
    "# Create points:\n",
    "for idx in data_bulgaria.index:\n",
    "    gpx_segment.points.append(gpxpy.gpx.GPXTrackPoint(data_bulgaria.loc[idx, 'Lat'], data_bulgaria.loc[idx, 'Lon']))\n",
    "\n",
    "# print(gpx.to_xml())\n",
    "\n",
    "with open('bulgaria_2025_1_30.gpx', 'w') as f:\n",
    "    f.write(gpx.to_xml())"
   ]
  },
  {
   "cell_type": "markdown",
   "metadata": {},
   "source": [
    "### convert data"
   ]
  },
  {
   "cell_type": "code",
   "execution_count": 79,
   "metadata": {},
   "outputs": [],
   "source": [
    "from skitracker_utils import prepare_data,find_routes,save_json_run,save_gpx_run"
   ]
  },
  {
   "cell_type": "code",
   "execution_count": 16,
   "metadata": {},
   "outputs": [],
   "source": [
    "def alter_coords(val):\n",
    "\n",
    "    return float(val[:-1])"
   ]
  },
  {
   "cell_type": "code",
   "execution_count": 64,
   "metadata": {},
   "outputs": [],
   "source": [
    "data = pd.read_pickle('bulgaria_2025_01_31_temp.pkl')"
   ]
  },
  {
   "cell_type": "code",
   "execution_count": 65,
   "metadata": {},
   "outputs": [],
   "source": [
    "data['Lat']= data.Lat.apply(alter_coords)\n",
    "data['Lon']= data.Lon.apply(alter_coords)\n",
    "data['Pres_Alt']=data['GPS_Alt']\n",
    "data['Date']=data.Date.apply(lambda x: x.strftime('%m/%d/%Y '))\n",
    "data['Time']=data.Time.apply(lambda x: x[0:5]+':'+x[6:8]+' ')"
   ]
  },
  {
   "cell_type": "code",
   "execution_count": 66,
   "metadata": {},
   "outputs": [
    {
     "data": {
      "text/html": [
       "<div>\n",
       "<style scoped>\n",
       "    .dataframe tbody tr th:only-of-type {\n",
       "        vertical-align: middle;\n",
       "    }\n",
       "\n",
       "    .dataframe tbody tr th {\n",
       "        vertical-align: top;\n",
       "    }\n",
       "\n",
       "    .dataframe thead th {\n",
       "        text-align: right;\n",
       "    }\n",
       "</style>\n",
       "<table border=\"1\" class=\"dataframe\">\n",
       "  <thead>\n",
       "    <tr style=\"text-align: right;\">\n",
       "      <th></th>\n",
       "      <th>Lat</th>\n",
       "      <th>Lon</th>\n",
       "      <th>GPS_Alt</th>\n",
       "      <th>Time</th>\n",
       "      <th>Lat_first</th>\n",
       "      <th>Date</th>\n",
       "      <th>Pres_Alt</th>\n",
       "    </tr>\n",
       "  </thead>\n",
       "  <tbody>\n",
       "    <tr>\n",
       "      <th>0</th>\n",
       "      <td>41.78118</td>\n",
       "      <td>23.43906</td>\n",
       "      <td>0.00</td>\n",
       "      <td>08:14:14</td>\n",
       "      <td>41</td>\n",
       "      <td>01/31/2025</td>\n",
       "      <td>0.00</td>\n",
       "    </tr>\n",
       "    <tr>\n",
       "      <th>1</th>\n",
       "      <td>41.78118</td>\n",
       "      <td>23.43904</td>\n",
       "      <td>1598.80</td>\n",
       "      <td>08:14:15</td>\n",
       "      <td>41</td>\n",
       "      <td>01/31/2025</td>\n",
       "      <td>1598.80</td>\n",
       "    </tr>\n",
       "    <tr>\n",
       "      <th>2</th>\n",
       "      <td>41.78117</td>\n",
       "      <td>23.43904</td>\n",
       "      <td>1606.24</td>\n",
       "      <td>08:14:16</td>\n",
       "      <td>41</td>\n",
       "      <td>01/31/2025</td>\n",
       "      <td>1606.24</td>\n",
       "    </tr>\n",
       "    <tr>\n",
       "      <th>3</th>\n",
       "      <td>41.78116</td>\n",
       "      <td>23.43904</td>\n",
       "      <td>1604.71</td>\n",
       "      <td>08:14:18</td>\n",
       "      <td>41</td>\n",
       "      <td>01/31/2025</td>\n",
       "      <td>1604.71</td>\n",
       "    </tr>\n",
       "    <tr>\n",
       "      <th>4</th>\n",
       "      <td>41.78116</td>\n",
       "      <td>23.43904</td>\n",
       "      <td>1604.64</td>\n",
       "      <td>08:14:19</td>\n",
       "      <td>41</td>\n",
       "      <td>01/31/2025</td>\n",
       "      <td>1604.64</td>\n",
       "    </tr>\n",
       "  </tbody>\n",
       "</table>\n",
       "</div>"
      ],
      "text/plain": [
       "        Lat       Lon  GPS_Alt       Time Lat_first         Date  Pres_Alt\n",
       "0  41.78118  23.43906     0.00  08:14:14         41  01/31/2025       0.00\n",
       "1  41.78118  23.43904  1598.80  08:14:15         41  01/31/2025    1598.80\n",
       "2  41.78117  23.43904  1606.24  08:14:16         41  01/31/2025    1606.24\n",
       "3  41.78116  23.43904  1604.71  08:14:18         41  01/31/2025    1604.71\n",
       "4  41.78116  23.43904  1604.64  08:14:19         41  01/31/2025    1604.64"
      ]
     },
     "execution_count": 66,
     "metadata": {},
     "output_type": "execute_result"
    }
   ],
   "source": [
    "data.head()"
   ]
  },
  {
   "cell_type": "code",
   "execution_count": 67,
   "metadata": {},
   "outputs": [],
   "source": [
    "prep_data = prepare_data(data)"
   ]
  },
  {
   "cell_type": "code",
   "execution_count": 84,
   "metadata": {},
   "outputs": [],
   "source": [
    "runs = find_routes(prep_data)"
   ]
  },
  {
   "cell_type": "code",
   "execution_count": 85,
   "metadata": {},
   "outputs": [],
   "source": [
    "save_gpx_run(runs,'BG_2025_01_31')"
   ]
  },
  {
   "cell_type": "code",
   "execution_count": 86,
   "metadata": {},
   "outputs": [],
   "source": [
    "save_json_run(runs, 'BG_2025_01_31')"
   ]
  },
  {
   "cell_type": "code",
   "execution_count": null,
   "metadata": {},
   "outputs": [],
   "source": []
  }
 ],
 "metadata": {
  "kernelspec": {
   "display_name": "general_py3_11",
   "language": "python",
   "name": "python3"
  },
  "language_info": {
   "codemirror_mode": {
    "name": "ipython",
    "version": 3
   },
   "file_extension": ".py",
   "mimetype": "text/x-python",
   "name": "python",
   "nbconvert_exporter": "python",
   "pygments_lexer": "ipython3",
   "version": "3.11.9"
  }
 },
 "nbformat": 4,
 "nbformat_minor": 2
}
