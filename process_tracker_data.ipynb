{
 "cells": [
  {
   "cell_type": "markdown",
   "metadata": {},
   "source": [
    "* This file takes a raw file and splits into per day files ( manually )\n",
    "* The luigi task then processes each per day file, cleans, adds extra fields\n",
    "* It also calcuates the runs and writes the output files"
   ]
  },
  {
   "cell_type": "code",
   "execution_count": 1,
   "metadata": {},
   "outputs": [],
   "source": [
    "%load_ext autoreload\n",
    "%autoreload 2"
   ]
  },
  {
   "cell_type": "code",
   "execution_count": 2,
   "metadata": {},
   "outputs": [],
   "source": [
    "\n",
    "import pandas as pd\n",
    "import numpy as np\n",
    "from datetime import datetime\n",
    "import luigi"
   ]
  },
  {
   "cell_type": "code",
   "execution_count": 3,
   "metadata": {},
   "outputs": [],
   "source": [
    "%matplotlib inline"
   ]
  },
  {
   "cell_type": "code",
   "execution_count": 5,
   "metadata": {},
   "outputs": [],
   "source": [
    "from skitracker_utils import ProcessDirectory, ProcessTask\n"
   ]
  },
  {
   "cell_type": "code",
   "execution_count": 8,
   "metadata": {},
   "outputs": [],
   "source": [
    "project_root = 'C:/Users/jjc/Projects/SkiTracker/'"
   ]
  },
  {
   "cell_type": "code",
   "execution_count": 142,
   "metadata": {},
   "outputs": [],
   "source": [
    "input_file = 'raw_data_collected/giacomo_18Mar19.csv'"
   ]
  },
  {
   "cell_type": "code",
   "execution_count": 143,
   "metadata": {},
   "outputs": [],
   "source": [
    "raw  =pd.read_csv(input_file, header=None, names=['Date','Time','Lat','Lon','GPS_Alt','Pressure','Pres_Alt','Temp','Batt'])"
   ]
  },
  {
   "cell_type": "code",
   "execution_count": 144,
   "metadata": {},
   "outputs": [
    {
     "data": {
      "text/plain": [
       "(24259, 9)"
      ]
     },
     "execution_count": 144,
     "metadata": {},
     "output_type": "execute_result"
    }
   ],
   "source": [
    "#remove the first line if its text\n",
    "raw=raw[1:]\n",
    "raw.shape"
   ]
  },
  {
   "cell_type": "code",
   "execution_count": 145,
   "metadata": {},
   "outputs": [
    {
     "data": {
      "text/plain": [
       "array(['03/18/2019 '], dtype=object)"
      ]
     },
     "execution_count": 145,
     "metadata": {},
     "output_type": "execute_result"
    }
   ],
   "source": [
    "raw.Date.unique()"
   ]
  },
  {
   "cell_type": "code",
   "execution_count": 146,
   "metadata": {},
   "outputs": [],
   "source": [
    "raw_filter = raw[raw.Date=='03/18/2019 ']"
   ]
  },
  {
   "cell_type": "code",
   "execution_count": 147,
   "metadata": {},
   "outputs": [
    {
     "data": {
      "text/plain": [
       "(24259, 9)"
      ]
     },
     "execution_count": 147,
     "metadata": {},
     "output_type": "execute_result"
    }
   ],
   "source": [
    "raw_filter.shape"
   ]
  },
  {
   "cell_type": "code",
   "execution_count": 148,
   "metadata": {},
   "outputs": [
    {
     "data": {
      "text/plain": [
       "'giacomo_18Mar19.pkl'"
      ]
     },
     "execution_count": 148,
     "metadata": {},
     "output_type": "execute_result"
    }
   ],
   "source": [
    "name = 'giacomo'\n",
    "date = datetime(2019,3,18)\n",
    "output_file = '{}_{}.pkl'.format(name,date.strftime('%d%b%y'))\n",
    "output_file"
   ]
  },
  {
   "cell_type": "code",
   "execution_count": 149,
   "metadata": {},
   "outputs": [],
   "source": [
    "raw_filter.to_pickle('raw_split_files/'+output_file)"
   ]
  },
  {
   "cell_type": "code",
   "execution_count": 132,
   "metadata": {},
   "outputs": [
    {
     "data": {
      "text/plain": [
       "<matplotlib.axes._subplots.AxesSubplot at 0x20d299b6c88>"
      ]
     },
     "execution_count": 132,
     "metadata": {},
     "output_type": "execute_result"
    },
    {
     "data": {
      "image/png": "[encoded data removed]",
      "text/plain": [
       "<Figure size 432x288 with 1 Axes>"
      ]
     },
     "metadata": {},
     "output_type": "display_data"
    }
   ],
   "source": [
    "raw_filter.loc[84000:113000]['GPS_Alt'].plot()\n",
    "#raw_filter['GPS_Alt'].plot()"
   ]
  },
  {
   "cell_type": "markdown",
   "metadata": {},
   "source": [
    "### Luigi Process"
   ]
  },
  {
   "cell_type": "code",
   "execution_count": 25,
   "metadata": {},
   "outputs": [],
   "source": [
    "process_all  = ProcessDirectory(inputDir=project_root+'raw_split_files/',outputDir=project_root+'processed_data/')"
   ]
  },
  {
   "cell_type": "code",
   "execution_count": 26,
   "metadata": {
    "scrolled": true
   },
   "outputs": [
    {
     "name": "stderr",
     "output_type": "stream",
     "text": [
      "DEBUG: Checking if ProcessDirectory(inputDir=C:/Users/jjc/Projects/SkiTracker/raw_split_files/, outputDir=C:/Users/jjc/Projects/SkiTracker/processed_data/) is complete\n",
      "DEBUG: Checking if ProcessTask(file_name=emily_19Mar19.pkl, inputDir=C:/Users/jjc/Projects/SkiTracker/raw_split_files/, outputDir=C:/Users/jjc/Projects/SkiTracker/processed_data/) is complete\n",
      "DEBUG: Checking if ProcessTask(file_name=giacomo_17Mar19.pkl, inputDir=C:/Users/jjc/Projects/SkiTracker/raw_split_files/, outputDir=C:/Users/jjc/Projects/SkiTracker/processed_data/) is complete\n",
      "DEBUG: Checking if ProcessTask(file_name=giacomo_18Mar19.pkl, inputDir=C:/Users/jjc/Projects/SkiTracker/raw_split_files/, outputDir=C:/Users/jjc/Projects/SkiTracker/processed_data/) is complete\n",
      "DEBUG: Checking if ProcessTask(file_name=josh_17Mar19.pkl, inputDir=C:/Users/jjc/Projects/SkiTracker/raw_split_files/, outputDir=C:/Users/jjc/Projects/SkiTracker/processed_data/) is complete\n",
      "DEBUG: Checking if ProcessTask(file_name=josh_18Mar19.pkl, inputDir=C:/Users/jjc/Projects/SkiTracker/raw_split_files/, outputDir=C:/Users/jjc/Projects/SkiTracker/processed_data/) is complete\n",
      "DEBUG: Checking if ProcessTask(file_name=josh_19Mar19.pkl, inputDir=C:/Users/jjc/Projects/SkiTracker/raw_split_files/, outputDir=C:/Users/jjc/Projects/SkiTracker/processed_data/) is complete\n",
      "DEBUG: Checking if ProcessTask(file_name=josh_20Mar19.pkl, inputDir=C:/Users/jjc/Projects/SkiTracker/raw_split_files/, outputDir=C:/Users/jjc/Projects/SkiTracker/processed_data/) is complete\n",
      "DEBUG: Checking if ProcessTask(file_name=ross_17Mar19.pkl, inputDir=C:/Users/jjc/Projects/SkiTracker/raw_split_files/, outputDir=C:/Users/jjc/Projects/SkiTracker/processed_data/) is complete\n",
      "DEBUG: Checking if ProcessTask(file_name=ross_18Mar19.pkl, inputDir=C:/Users/jjc/Projects/SkiTracker/raw_split_files/, outputDir=C:/Users/jjc/Projects/SkiTracker/processed_data/) is complete\n",
      "DEBUG: Checking if ProcessTask(file_name=sarah_20Mar19.pkl, inputDir=C:/Users/jjc/Projects/SkiTracker/raw_split_files/, outputDir=C:/Users/jjc/Projects/SkiTracker/processed_data/) is complete\n",
      "INFO: Informed scheduler that task   ProcessDirectory_C__Users_jjc_Pro_C__Users_jjc_Pro_bb3e636df4   has status   PENDING\n",
      "DEBUG: Checking if RawFile(path=C:/Users/jjc/Projects/SkiTracker/raw_split_files/sarah_20Mar19.pkl) is complete\n",
      "INFO: Informed scheduler that task   ProcessTask_sarah_20Mar19_pk_C__Users_jjc_Pro_C__Users_jjc_Pro_9b78b8555a   has status   PENDING\n",
      "INFO: Informed scheduler that task   RawFile_C__Users_jjc_Pro_727c9995f9   has status   DONE\n",
      "DEBUG: Checking if RawFile(path=C:/Users/jjc/Projects/SkiTracker/raw_split_files/ross_18Mar19.pkl) is complete\n",
      "INFO: Informed scheduler that task   ProcessTask_ross_18Mar19_pkl_C__Users_jjc_Pro_C__Users_jjc_Pro_d97e20e65b   has status   PENDING\n",
      "INFO: Informed scheduler that task   RawFile_C__Users_jjc_Pro_712760281c   has status   DONE\n",
      "DEBUG: Checking if RawFile(path=C:/Users/jjc/Projects/SkiTracker/raw_split_files/ross_17Mar19.pkl) is complete\n",
      "INFO: Informed scheduler that task   ProcessTask_ross_17Mar19_pkl_C__Users_jjc_Pro_C__Users_jjc_Pro_899e55db7c   has status   PENDING\n",
      "INFO: Informed scheduler that task   RawFile_C__Users_jjc_Pro_afc428fc4c   has status   DONE\n",
      "DEBUG: Checking if RawFile(path=C:/Users/jjc/Projects/SkiTracker/raw_split_files/josh_20Mar19.pkl) is complete\n",
      "INFO: Informed scheduler that task   ProcessTask_josh_20Mar19_pkl_C__Users_jjc_Pro_C__Users_jjc_Pro_cfdbe2cd9f   has status   PENDING\n",
      "INFO: Informed scheduler that task   RawFile_C__Users_jjc_Pro_72d2cb28b9   has status   DONE\n",
      "DEBUG: Checking if RawFile(path=C:/Users/jjc/Projects/SkiTracker/raw_split_files/josh_19Mar19.pkl) is complete\n",
      "INFO: Informed scheduler that task   ProcessTask_josh_19Mar19_pkl_C__Users_jjc_Pro_C__Users_jjc_Pro_c24b084992   has status   PENDING\n",
      "INFO: Informed scheduler that task   RawFile_C__Users_jjc_Pro_3e0155d0d0   has status   DONE\n",
      "DEBUG: Checking if RawFile(path=C:/Users/jjc/Projects/SkiTracker/raw_split_files/josh_18Mar19.pkl) is complete\n",
      "INFO: Informed scheduler that task   ProcessTask_josh_18Mar19_pkl_C__Users_jjc_Pro_C__Users_jjc_Pro_1a6612b3a7   has status   PENDING\n",
      "INFO: Informed scheduler that task   RawFile_C__Users_jjc_Pro_b25b4fbcc0   has status   DONE\n",
      "DEBUG: Checking if RawFile(path=C:/Users/jjc/Projects/SkiTracker/raw_split_files/josh_17Mar19.pkl) is complete\n",
      "INFO: Informed scheduler that task   ProcessTask_josh_17Mar19_pkl_C__Users_jjc_Pro_C__Users_jjc_Pro_5615468fdb   has status   PENDING\n",
      "INFO: Informed scheduler that task   RawFile_C__Users_jjc_Pro_2ed047fcc8   has status   DONE\n",
      "DEBUG: Checking if RawFile(path=C:/Users/jjc/Projects/SkiTracker/raw_split_files/giacomo_18Mar19.pkl) is complete\n",
      "INFO: Informed scheduler that task   ProcessTask_giacomo_18Mar19__C__Users_jjc_Pro_C__Users_jjc_Pro_0416481819   has status   PENDING\n",
      "INFO: Informed scheduler that task   RawFile_C__Users_jjc_Pro_1070478390   has status   DONE\n",
      "DEBUG: Checking if RawFile(path=C:/Users/jjc/Projects/SkiTracker/raw_split_files/giacomo_17Mar19.pkl) is complete\n",
      "INFO: Informed scheduler that task   ProcessTask_giacomo_17Mar19__C__Users_jjc_Pro_C__Users_jjc_Pro_8c9f47ec8a   has status   PENDING\n",
      "INFO: Informed scheduler that task   RawFile_C__Users_jjc_Pro_4d635ce24f   has status   DONE\n",
      "DEBUG: Checking if RawFile(path=C:/Users/jjc/Projects/SkiTracker/raw_split_files/emily_19Mar19.pkl) is complete\n",
      "INFO: Informed scheduler that task   ProcessTask_emily_19Mar19_pk_C__Users_jjc_Pro_C__Users_jjc_Pro_67ee13acc0   has status   PENDING\n",
      "INFO: Informed scheduler that task   RawFile_C__Users_jjc_Pro_080a108172   has status   DONE\n",
      "INFO: Done scheduling tasks\n",
      "INFO: Running Worker with 1 processes\n",
      "DEBUG: Asking scheduler for work...\n",
      "DEBUG: Pending tasks: 11\n",
      "INFO: [pid 4636] Worker Worker(salt=103339189, workers=1, host=LAPTOP-FPA715J2, username=jjc, pid=4636) running   ProcessTask(file_name=sarah_20Mar19.pkl, inputDir=C:/Users/jjc/Projects/SkiTracker/raw_split_files/, outputDir=C:/Users/jjc/Projects/SkiTracker/processed_data/)\n",
      "INFO: [pid 4636] Worker Worker(salt=103339189, workers=1, host=LAPTOP-FPA715J2, username=jjc, pid=4636) done      ProcessTask(file_name=sarah_20Mar19.pkl, inputDir=C:/Users/jjc/Projects/SkiTracker/raw_split_files/, outputDir=C:/Users/jjc/Projects/SkiTracker/processed_data/)\n",
      "DEBUG: 1 running tasks, waiting for next task to finish\n",
      "INFO: Informed scheduler that task   ProcessTask_sarah_20Mar19_pk_C__Users_jjc_Pro_C__Users_jjc_Pro_9b78b8555a   has status   DONE\n",
      "DEBUG: Asking scheduler for work...\n",
      "DEBUG: Pending tasks: 10\n",
      "INFO: [pid 4636] Worker Worker(salt=103339189, workers=1, host=LAPTOP-FPA715J2, username=jjc, pid=4636) running   ProcessTask(file_name=ross_18Mar19.pkl, inputDir=C:/Users/jjc/Projects/SkiTracker/raw_split_files/, outputDir=C:/Users/jjc/Projects/SkiTracker/processed_data/)\n",
      "INFO: [pid 4636] Worker Worker(salt=103339189, workers=1, host=LAPTOP-FPA715J2, username=jjc, pid=4636) done      ProcessTask(file_name=ross_18Mar19.pkl, inputDir=C:/Users/jjc/Projects/SkiTracker/raw_split_files/, outputDir=C:/Users/jjc/Projects/SkiTracker/processed_data/)\n",
      "DEBUG: 1 running tasks, waiting for next task to finish\n",
      "INFO: Informed scheduler that task   ProcessTask_ross_18Mar19_pkl_C__Users_jjc_Pro_C__Users_jjc_Pro_d97e20e65b   has status   DONE\n",
      "DEBUG: Asking scheduler for work...\n",
      "DEBUG: Pending tasks: 9\n",
      "INFO: [pid 4636] Worker Worker(salt=103339189, workers=1, host=LAPTOP-FPA715J2, username=jjc, pid=4636) running   ProcessTask(file_name=ross_17Mar19.pkl, inputDir=C:/Users/jjc/Projects/SkiTracker/raw_split_files/, outputDir=C:/Users/jjc/Projects/SkiTracker/processed_data/)\n",
      "INFO: [pid 4636] Worker Worker(salt=103339189, workers=1, host=LAPTOP-FPA715J2, username=jjc, pid=4636) done      ProcessTask(file_name=ross_17Mar19.pkl, inputDir=C:/Users/jjc/Projects/SkiTracker/raw_split_files/, outputDir=C:/Users/jjc/Projects/SkiTracker/processed_data/)\n",
      "DEBUG: 1 running tasks, waiting for next task to finish\n",
      "INFO: Informed scheduler that task   ProcessTask_ross_17Mar19_pkl_C__Users_jjc_Pro_C__Users_jjc_Pro_899e55db7c   has status   DONE\n",
      "DEBUG: Asking scheduler for work...\n",
      "DEBUG: Pending tasks: 8\n",
      "INFO: [pid 4636] Worker Worker(salt=103339189, workers=1, host=LAPTOP-FPA715J2, username=jjc, pid=4636) running   ProcessTask(file_name=josh_20Mar19.pkl, inputDir=C:/Users/jjc/Projects/SkiTracker/raw_split_files/, outputDir=C:/Users/jjc/Projects/SkiTracker/processed_data/)\n"
     ]
    },
    {
     "name": "stderr",
     "output_type": "stream",
     "text": [
      "INFO: [pid 4636] Worker Worker(salt=103339189, workers=1, host=LAPTOP-FPA715J2, username=jjc, pid=4636) done      ProcessTask(file_name=josh_20Mar19.pkl, inputDir=C:/Users/jjc/Projects/SkiTracker/raw_split_files/, outputDir=C:/Users/jjc/Projects/SkiTracker/processed_data/)\n",
      "DEBUG: 1 running tasks, waiting for next task to finish\n",
      "INFO: Informed scheduler that task   ProcessTask_josh_20Mar19_pkl_C__Users_jjc_Pro_C__Users_jjc_Pro_cfdbe2cd9f   has status   DONE\n",
      "DEBUG: Asking scheduler for work...\n",
      "DEBUG: Pending tasks: 7\n",
      "INFO: [pid 4636] Worker Worker(salt=103339189, workers=1, host=LAPTOP-FPA715J2, username=jjc, pid=4636) running   ProcessTask(file_name=josh_19Mar19.pkl, inputDir=C:/Users/jjc/Projects/SkiTracker/raw_split_files/, outputDir=C:/Users/jjc/Projects/SkiTracker/processed_data/)\n",
      "INFO: [pid 4636] Worker Worker(salt=103339189, workers=1, host=LAPTOP-FPA715J2, username=jjc, pid=4636) done      ProcessTask(file_name=josh_19Mar19.pkl, inputDir=C:/Users/jjc/Projects/SkiTracker/raw_split_files/, outputDir=C:/Users/jjc/Projects/SkiTracker/processed_data/)\n",
      "DEBUG: 1 running tasks, waiting for next task to finish\n",
      "INFO: Informed scheduler that task   ProcessTask_josh_19Mar19_pkl_C__Users_jjc_Pro_C__Users_jjc_Pro_c24b084992   has status   DONE\n",
      "DEBUG: Asking scheduler for work...\n",
      "DEBUG: Pending tasks: 6\n",
      "INFO: [pid 4636] Worker Worker(salt=103339189, workers=1, host=LAPTOP-FPA715J2, username=jjc, pid=4636) running   ProcessTask(file_name=josh_18Mar19.pkl, inputDir=C:/Users/jjc/Projects/SkiTracker/raw_split_files/, outputDir=C:/Users/jjc/Projects/SkiTracker/processed_data/)\n",
      "INFO: [pid 4636] Worker Worker(salt=103339189, workers=1, host=LAPTOP-FPA715J2, username=jjc, pid=4636) done      ProcessTask(file_name=josh_18Mar19.pkl, inputDir=C:/Users/jjc/Projects/SkiTracker/raw_split_files/, outputDir=C:/Users/jjc/Projects/SkiTracker/processed_data/)\n",
      "DEBUG: 1 running tasks, waiting for next task to finish\n",
      "INFO: Informed scheduler that task   ProcessTask_josh_18Mar19_pkl_C__Users_jjc_Pro_C__Users_jjc_Pro_1a6612b3a7   has status   DONE\n",
      "DEBUG: Asking scheduler for work...\n",
      "DEBUG: Pending tasks: 5\n",
      "INFO: [pid 4636] Worker Worker(salt=103339189, workers=1, host=LAPTOP-FPA715J2, username=jjc, pid=4636) running   ProcessTask(file_name=josh_17Mar19.pkl, inputDir=C:/Users/jjc/Projects/SkiTracker/raw_split_files/, outputDir=C:/Users/jjc/Projects/SkiTracker/processed_data/)\n",
      "INFO: [pid 4636] Worker Worker(salt=103339189, workers=1, host=LAPTOP-FPA715J2, username=jjc, pid=4636) done      ProcessTask(file_name=josh_17Mar19.pkl, inputDir=C:/Users/jjc/Projects/SkiTracker/raw_split_files/, outputDir=C:/Users/jjc/Projects/SkiTracker/processed_data/)\n",
      "DEBUG: 1 running tasks, waiting for next task to finish\n",
      "INFO: Informed scheduler that task   ProcessTask_josh_17Mar19_pkl_C__Users_jjc_Pro_C__Users_jjc_Pro_5615468fdb   has status   DONE\n",
      "DEBUG: Asking scheduler for work...\n",
      "DEBUG: Pending tasks: 4\n",
      "INFO: [pid 4636] Worker Worker(salt=103339189, workers=1, host=LAPTOP-FPA715J2, username=jjc, pid=4636) running   ProcessTask(file_name=giacomo_18Mar19.pkl, inputDir=C:/Users/jjc/Projects/SkiTracker/raw_split_files/, outputDir=C:/Users/jjc/Projects/SkiTracker/processed_data/)\n",
      "INFO: [pid 4636] Worker Worker(salt=103339189, workers=1, host=LAPTOP-FPA715J2, username=jjc, pid=4636) done      ProcessTask(file_name=giacomo_18Mar19.pkl, inputDir=C:/Users/jjc/Projects/SkiTracker/raw_split_files/, outputDir=C:/Users/jjc/Projects/SkiTracker/processed_data/)\n",
      "DEBUG: 1 running tasks, waiting for next task to finish\n",
      "INFO: Informed scheduler that task   ProcessTask_giacomo_18Mar19__C__Users_jjc_Pro_C__Users_jjc_Pro_0416481819   has status   DONE\n",
      "DEBUG: Asking scheduler for work...\n",
      "DEBUG: Pending tasks: 3\n",
      "INFO: [pid 4636] Worker Worker(salt=103339189, workers=1, host=LAPTOP-FPA715J2, username=jjc, pid=4636) running   ProcessTask(file_name=giacomo_17Mar19.pkl, inputDir=C:/Users/jjc/Projects/SkiTracker/raw_split_files/, outputDir=C:/Users/jjc/Projects/SkiTracker/processed_data/)\n",
      "INFO: [pid 4636] Worker Worker(salt=103339189, workers=1, host=LAPTOP-FPA715J2, username=jjc, pid=4636) done      ProcessTask(file_name=giacomo_17Mar19.pkl, inputDir=C:/Users/jjc/Projects/SkiTracker/raw_split_files/, outputDir=C:/Users/jjc/Projects/SkiTracker/processed_data/)\n",
      "DEBUG: 1 running tasks, waiting for next task to finish\n",
      "INFO: Informed scheduler that task   ProcessTask_giacomo_17Mar19__C__Users_jjc_Pro_C__Users_jjc_Pro_8c9f47ec8a   has status   DONE\n",
      "DEBUG: Asking scheduler for work...\n",
      "DEBUG: Pending tasks: 2\n",
      "INFO: [pid 4636] Worker Worker(salt=103339189, workers=1, host=LAPTOP-FPA715J2, username=jjc, pid=4636) running   ProcessTask(file_name=emily_19Mar19.pkl, inputDir=C:/Users/jjc/Projects/SkiTracker/raw_split_files/, outputDir=C:/Users/jjc/Projects/SkiTracker/processed_data/)\n",
      "INFO: [pid 4636] Worker Worker(salt=103339189, workers=1, host=LAPTOP-FPA715J2, username=jjc, pid=4636) done      ProcessTask(file_name=emily_19Mar19.pkl, inputDir=C:/Users/jjc/Projects/SkiTracker/raw_split_files/, outputDir=C:/Users/jjc/Projects/SkiTracker/processed_data/)\n",
      "DEBUG: 1 running tasks, waiting for next task to finish\n",
      "INFO: Informed scheduler that task   ProcessTask_emily_19Mar19_pk_C__Users_jjc_Pro_C__Users_jjc_Pro_67ee13acc0   has status   DONE\n",
      "DEBUG: Asking scheduler for work...\n",
      "DEBUG: Pending tasks: 1\n",
      "INFO: [pid 4636] Worker Worker(salt=103339189, workers=1, host=LAPTOP-FPA715J2, username=jjc, pid=4636) running   ProcessDirectory(inputDir=C:/Users/jjc/Projects/SkiTracker/raw_split_files/, outputDir=C:/Users/jjc/Projects/SkiTracker/processed_data/)\n",
      "INFO: [pid 4636] Worker Worker(salt=103339189, workers=1, host=LAPTOP-FPA715J2, username=jjc, pid=4636) done      ProcessDirectory(inputDir=C:/Users/jjc/Projects/SkiTracker/raw_split_files/, outputDir=C:/Users/jjc/Projects/SkiTracker/processed_data/)\n",
      "DEBUG: 1 running tasks, waiting for next task to finish\n",
      "INFO: Informed scheduler that task   ProcessDirectory_C__Users_jjc_Pro_C__Users_jjc_Pro_bb3e636df4   has status   DONE\n",
      "DEBUG: Asking scheduler for work...\n",
      "DEBUG: Done\n",
      "DEBUG: There are no more tasks to run at this time\n",
      "INFO: Worker Worker(salt=103339189, workers=1, host=LAPTOP-FPA715J2, username=jjc, pid=4636) was stopped. Shutting down Keep-Alive thread\n",
      "INFO: \n",
      "===== Luigi Execution Summary =====\n",
      "\n",
      "Scheduled 21 tasks of which:\n",
      "* 10 complete ones were encountered:\n",
      "    - 10 RawFile(path=C:/Users/jjc/Projects/SkiTracker/raw_split_files/emily_19Mar19.pkl,C:/Users/jjc/Projects/SkiTracker/raw_split_files/giacomo_17Mar19.pkl,C:/Users/jjc/Projects/SkiTracker/raw_split_files/giacomo_18Mar19.pkl,...)\n",
      "* 11 ran successfully:\n",
      "    - 1 ProcessDirectory(inputDir=C:/Users/jjc/Projects/SkiTracker/raw_split_files/, outputDir=C:/Users/jjc/Projects/SkiTracker/processed_data/)\n",
      "    - 10 ProcessTask(file_name=emily_19Mar19.pkl, inputDir=C:/Users/jjc/Projects/SkiTracker/raw_split_files/, outputDir=C:/Users/jjc/Projects/SkiTracker/processed_data/) ...\n",
      "\n",
      "This progress looks :) because there were no failed tasks or missing dependencies\n",
      "\n",
      "===== Luigi Execution Summary =====\n",
      "\n"
     ]
    },
    {
     "data": {
      "text/plain": [
       "True"
      ]
     },
     "execution_count": 26,
     "metadata": {},
     "output_type": "execute_result"
    }
   ],
   "source": [
    "luigi.build([process_all],local_scheduler=True)"
   ]
  },
  {
   "cell_type": "code",
   "execution_count": null,
   "metadata": {},
   "outputs": [],
   "source": [
    "# debug"
   ]
  },
  {
   "cell_type": "code",
   "execution_count": 19,
   "metadata": {},
   "outputs": [],
   "source": [
    "df = pd.read_pickle('raw_split_files/josh_17Mar19.pkl')"
   ]
  },
  {
   "cell_type": "code",
   "execution_count": 20,
   "metadata": {},
   "outputs": [
    {
     "data": {
      "text/html": [
       "<div>\n",
       "<style scoped>\n",
       "    .dataframe tbody tr th:only-of-type {\n",
       "        vertical-align: middle;\n",
       "    }\n",
       "\n",
       "    .dataframe tbody tr th {\n",
       "        vertical-align: top;\n",
       "    }\n",
       "\n",
       "    .dataframe thead th {\n",
       "        text-align: right;\n",
       "    }\n",
       "</style>\n",
       "<table border=\"1\" class=\"dataframe\">\n",
       "  <thead>\n",
       "    <tr style=\"text-align: right;\">\n",
       "      <th></th>\n",
       "      <th>Date</th>\n",
       "      <th>Time</th>\n",
       "      <th>Lat</th>\n",
       "      <th>Lon</th>\n",
       "      <th>GPS_Alt</th>\n",
       "      <th>Pressure</th>\n",
       "      <th>Pres_Alt</th>\n",
       "      <th>Temp</th>\n",
       "      <th>Batt</th>\n",
       "    </tr>\n",
       "  </thead>\n",
       "  <tbody>\n",
       "    <tr>\n",
       "      <th>26034</th>\n",
       "      <td>03/17/2019</td>\n",
       "      <td>08:44:03</td>\n",
       "      <td>45.097191</td>\n",
       "      <td>6.069313</td>\n",
       "      <td>0.0</td>\n",
       "      <td>1.100222e+10</td>\n",
       "      <td>1859.802</td>\n",
       "      <td>23.4</td>\n",
       "      <td>4.022</td>\n",
       "    </tr>\n",
       "    <tr>\n",
       "      <th>26035</th>\n",
       "      <td>03/17/2019</td>\n",
       "      <td>08:44:04</td>\n",
       "      <td>45.097191</td>\n",
       "      <td>6.069315</td>\n",
       "      <td>1867.0</td>\n",
       "      <td>1.100222e+10</td>\n",
       "      <td>1860.903</td>\n",
       "      <td>23.4</td>\n",
       "      <td>3.945</td>\n",
       "    </tr>\n",
       "    <tr>\n",
       "      <th>26036</th>\n",
       "      <td>03/17/2019</td>\n",
       "      <td>08:44:05</td>\n",
       "      <td>45.097191</td>\n",
       "      <td>6.069309</td>\n",
       "      <td>1867.1</td>\n",
       "      <td>1.100222e+10</td>\n",
       "      <td>1860.602</td>\n",
       "      <td>23.4</td>\n",
       "      <td>3.925</td>\n",
       "    </tr>\n",
       "    <tr>\n",
       "      <th>26037</th>\n",
       "      <td>03/17/2019</td>\n",
       "      <td>08:44:06</td>\n",
       "      <td>45.097195</td>\n",
       "      <td>6.069302</td>\n",
       "      <td>1867.2</td>\n",
       "      <td>1.100222e+10</td>\n",
       "      <td>1859.802</td>\n",
       "      <td>23.5</td>\n",
       "      <td>3.938</td>\n",
       "    </tr>\n",
       "    <tr>\n",
       "      <th>26038</th>\n",
       "      <td>03/17/2019</td>\n",
       "      <td>08:44:07</td>\n",
       "      <td>45.097195</td>\n",
       "      <td>6.069293</td>\n",
       "      <td>1867.0</td>\n",
       "      <td>1.100222e+10</td>\n",
       "      <td>1860.703</td>\n",
       "      <td>23.5</td>\n",
       "      <td>3.938</td>\n",
       "    </tr>\n",
       "  </tbody>\n",
       "</table>\n",
       "</div>"
      ],
      "text/plain": [
       "              Date       Time        Lat       Lon  GPS_Alt      Pressure  \\\n",
       "26034  03/17/2019   08:44:03   45.097191  6.069313      0.0  1.100222e+10   \n",
       "26035  03/17/2019   08:44:04   45.097191  6.069315   1867.0  1.100222e+10   \n",
       "26036  03/17/2019   08:44:05   45.097191  6.069309   1867.1  1.100222e+10   \n",
       "26037  03/17/2019   08:44:06   45.097195  6.069302   1867.2  1.100222e+10   \n",
       "26038  03/17/2019   08:44:07   45.097195  6.069293   1867.0  1.100222e+10   \n",
       "\n",
       "       Pres_Alt  Temp   Batt  \n",
       "26034  1859.802  23.4  4.022  \n",
       "26035  1860.903  23.4  3.945  \n",
       "26036  1860.602  23.4  3.925  \n",
       "26037  1859.802  23.5  3.938  \n",
       "26038  1860.703  23.5  3.938  "
      ]
     },
     "execution_count": 20,
     "metadata": {},
     "output_type": "execute_result"
    }
   ],
   "source": [
    "df.head()"
   ]
  },
  {
   "cell_type": "code",
   "execution_count": 21,
   "metadata": {},
   "outputs": [],
   "source": [
    "from skitracker_utils import find_routes, prepare_data"
   ]
  },
  {
   "cell_type": "code",
   "execution_count": 22,
   "metadata": {},
   "outputs": [],
   "source": [
    "df = prepare_data(df)"
   ]
  },
  {
   "cell_type": "code",
   "execution_count": 23,
   "metadata": {},
   "outputs": [],
   "source": [
    "runs = find_routes(df)"
   ]
  },
  {
   "cell_type": "code",
   "execution_count": 24,
   "metadata": {},
   "outputs": [
    {
     "name": "stdout",
     "output_type": "stream",
     "text": [
      "0 5.814194836983694\n",
      "1 5.944191166440021\n",
      "2 6.355485670423555\n",
      "3 8.529248018342143\n",
      "4 8.976568430178716\n",
      "5 5.583955214190283\n",
      "6 6.4812934693615105\n",
      "7 4.6784004290629255\n",
      "8 5.334170275938502\n",
      "9 6.820314180491962\n",
      "10 6.891502908832487\n",
      "11 1.2122750699281015\n"
     ]
    }
   ],
   "source": [
    "for i, run in enumerate(runs):\n",
    "    print(i, run['scale'])"
   ]
  }
 ],
 "metadata": {
  "kernelspec": {
   "display_name": "Python 3",
   "language": "python",
   "name": "python3"
  },
  "language_info": {
   "codemirror_mode": {
    "name": "ipython",
    "version": 3
   },
   "file_extension": ".py",
   "mimetype": "text/x-python",
   "name": "python",
   "nbconvert_exporter": "python",
   "pygments_lexer": "ipython3",
   "version": "3.6.5"
  }
 },
 "nbformat": 4,
 "nbformat_minor": 2
}
