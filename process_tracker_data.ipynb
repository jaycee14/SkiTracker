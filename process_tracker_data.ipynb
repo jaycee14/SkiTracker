{
 "cells": [
  {
   "cell_type": "code",
   "execution_count": 26,
   "metadata": {},
   "outputs": [],
   "source": [
    "\n",
    "import pandas as pd\n",
    "import numpy as np\n",
    "from datetime import datetime"
   ]
  },
  {
   "cell_type": "code",
   "execution_count": 27,
   "metadata": {},
   "outputs": [],
   "source": [
    "%matplotlib inline"
   ]
  },
  {
   "cell_type": "code",
   "execution_count": 28,
   "metadata": {},
   "outputs": [],
   "source": [
    "from math import sin,cos,sqrt,atan2, radians, degrees, atan"
   ]
  },
  {
   "cell_type": "code",
   "execution_count": 29,
   "metadata": {},
   "outputs": [],
   "source": [
    "input_file = 'raw_data_collected/josh_2018_2019.csv'"
   ]
  },
  {
   "cell_type": "code",
   "execution_count": 69,
   "metadata": {},
   "outputs": [],
   "source": [
    "raw  =pd.read_csv(input_file, header=None, names=['Date','Time','Lat','Lon','GPS_Alt','Pressure','Pres_Alt','Temp','Batt'])"
   ]
  },
  {
   "cell_type": "code",
   "execution_count": 70,
   "metadata": {},
   "outputs": [
    {
     "data": {
      "text/plain": [
       "(94702, 9)"
      ]
     },
     "execution_count": 70,
     "metadata": {},
     "output_type": "execute_result"
    }
   ],
   "source": [
    "#remove the first line if its text\n",
    "raw=raw[1:]\n",
    "raw.shape"
   ]
  },
  {
   "cell_type": "code",
   "execution_count": 71,
   "metadata": {},
   "outputs": [
    {
     "data": {
      "text/plain": [
       "array(['03/15/2018 ', '03/16/2018 ', '60/01/2031 ', '03/17/2018 ',\n",
       "       '03/17/2019 ', '03/18/2019 ', '03/19/2019 ', '03/20/2019 '],\n",
       "      dtype=object)"
      ]
     },
     "execution_count": 71,
     "metadata": {},
     "output_type": "execute_result"
    }
   ],
   "source": [
    "raw.Date.unique()"
   ]
  },
  {
   "cell_type": "code",
   "execution_count": 72,
   "metadata": {},
   "outputs": [],
   "source": [
    "raw = raw[raw.Date=='03/20/2019 ']"
   ]
  },
  {
   "cell_type": "code",
   "execution_count": 73,
   "metadata": {},
   "outputs": [
    {
     "data": {
      "text/plain": [
       "(13319, 9)"
      ]
     },
     "execution_count": 73,
     "metadata": {},
     "output_type": "execute_result"
    }
   ],
   "source": [
    "raw.shape"
   ]
  },
  {
   "cell_type": "code",
   "execution_count": 74,
   "metadata": {},
   "outputs": [
    {
     "data": {
      "text/plain": [
       "'josh_20Mar19.pkl'"
      ]
     },
     "execution_count": 74,
     "metadata": {},
     "output_type": "execute_result"
    }
   ],
   "source": [
    "name = 'josh'\n",
    "date = datetime(2019,3,20)\n",
    "output_file = '{}_{}.pkl'.format(name,date.strftime('%d%b%y'))\n",
    "output_file"
   ]
  },
  {
   "cell_type": "code",
   "execution_count": 75,
   "metadata": {},
   "outputs": [],
   "source": [
    "raw['Lat_Rad']=raw.Lat.apply(lambda x: radians(x))\n",
    "raw['Lon_Rad']=raw.Lon.apply(lambda x: radians(x))"
   ]
  },
  {
   "cell_type": "code",
   "execution_count": 76,
   "metadata": {},
   "outputs": [],
   "source": [
    "raw['Lat_Delta']=raw.Lat[:-1] - raw.Lat[1:].values # current value minus next value\n",
    "raw['Lon_Delta']=raw.Lon[:-1] - raw.Lon[1:].values\n",
    "raw['Lat_Rad_Delta']=raw.Lat_Rad[:-1] - raw.Lat_Rad[1:].values\n",
    "raw['Lon_Rad_Delta']=raw.Lon_Rad[:-1] - raw.Lon_Rad[1:].values"
   ]
  },
  {
   "cell_type": "raw",
   "metadata": {},
   "source": [
    "raw.Lat_Delta.describe()"
   ]
  },
  {
   "cell_type": "code",
   "execution_count": 77,
   "metadata": {},
   "outputs": [],
   "source": [
    "level = 1.0e-06"
   ]
  },
  {
   "cell_type": "code",
   "execution_count": 78,
   "metadata": {},
   "outputs": [],
   "source": [
    "data = raw[(abs(raw.Lat_Delta) > level) | (abs(raw.Lon_Delta) > level)]"
   ]
  },
  {
   "cell_type": "code",
   "execution_count": 79,
   "metadata": {},
   "outputs": [
    {
     "data": {
      "text/plain": [
       "0.8621518131991891"
      ]
     },
     "execution_count": 79,
     "metadata": {},
     "output_type": "execute_result"
    }
   ],
   "source": [
    "1.0*data.shape[0]/raw.shape[0]"
   ]
  },
  {
   "cell_type": "code",
   "execution_count": 80,
   "metadata": {},
   "outputs": [
    {
     "name": "stderr",
     "output_type": "stream",
     "text": [
      "/home/jjc/miniconda3/lib/python3.7/site-packages/ipykernel_launcher.py:1: SettingWithCopyWarning: \n",
      "A value is trying to be set on a copy of a slice from a DataFrame.\n",
      "Try using .loc[row_indexer,col_indexer] = value instead\n",
      "\n",
      "See the caveats in the documentation: http://pandas.pydata.org/pandas-docs/stable/indexing.html#indexing-view-versus-copy\n",
      "  \"\"\"Entry point for launching an IPython kernel.\n"
     ]
    }
   ],
   "source": [
    "data['GPS_Alt_Delta']=data.GPS_Alt[1:]-data.GPS_Alt[:-1].values #next value minus current"
   ]
  },
  {
   "cell_type": "raw",
   "metadata": {},
   "source": [
    "data.head(5)"
   ]
  },
  {
   "cell_type": "raw",
   "metadata": {},
   "source": [
    "data.Lat.describe()"
   ]
  },
  {
   "cell_type": "raw",
   "metadata": {},
   "source": [
    "data.Lon.describe()"
   ]
  },
  {
   "cell_type": "code",
   "execution_count": 18,
   "metadata": {},
   "outputs": [],
   "source": [
    "def calc_distance(row):\n",
    "    \n",
    "    dlat = row['Lat_Rad_Delta']\n",
    "    dlon= row['Lon_Rad_Delta']\n",
    "    lat1 = row['Lat_Rad']\n",
    "    lat2 = row['Lat_Rad'] + dlat\n",
    "    #calc haversine distance\n",
    "    R=6373000.0\n",
    "    \n",
    "    a=sin(dlat/2)**2 +cos(lat1) *cos(lat2) *sin(dlon /2)**2\n",
    "    c= 2 *atan2(sqrt(a),sqrt(1-a))\n",
    "    return R*c"
   ]
  },
  {
   "cell_type": "raw",
   "metadata": {},
   "source": [
    "lat1=radians(52.22)\n",
    "lat2=radians(52.40)\n",
    "lon1=radians(21.01)\n",
    "lon2=radians(16.92)\n",
    "lat_delta=lat2-lat1\n",
    "lon_delta=lon2-lon1\n",
    "test={'Lat_Rad_Delta':lat_delta,'Lon_Rad_Delta':lon_delta,'Lat_Rad':lat1 }"
   ]
  },
  {
   "cell_type": "raw",
   "metadata": {},
   "source": [
    "test"
   ]
  },
  {
   "cell_type": "raw",
   "metadata": {},
   "source": [
    "print(calc_distance(test))\n",
    "#should be 278.54"
   ]
  },
  {
   "cell_type": "code",
   "execution_count": 81,
   "metadata": {},
   "outputs": [
    {
     "name": "stderr",
     "output_type": "stream",
     "text": [
      "/home/jjc/miniconda3/lib/python3.7/site-packages/ipykernel_launcher.py:1: SettingWithCopyWarning: \n",
      "A value is trying to be set on a copy of a slice from a DataFrame.\n",
      "Try using .loc[row_indexer,col_indexer] = value instead\n",
      "\n",
      "See the caveats in the documentation: http://pandas.pydata.org/pandas-docs/stable/indexing.html#indexing-view-versus-copy\n",
      "  \"\"\"Entry point for launching an IPython kernel.\n"
     ]
    }
   ],
   "source": [
    "data['distance']=data.apply(calc_distance,axis=1)"
   ]
  },
  {
   "cell_type": "raw",
   "metadata": {},
   "source": [
    "data.distance.describe()"
   ]
  },
  {
   "cell_type": "code",
   "execution_count": 20,
   "metadata": {},
   "outputs": [],
   "source": [
    "def clip(x):\n",
    "    \n",
    "    if x == 0.0 or x is None:\n",
    "        return 0.00001\n",
    "    else:\n",
    "        return x"
   ]
  },
  {
   "cell_type": "code",
   "execution_count": 21,
   "metadata": {},
   "outputs": [],
   "source": [
    "def calc_gradient(row):\n",
    "    \n",
    "    dist= clip(row['distance'])\n",
    "    height = clip(row['GPS_Alt_Delta'])\n",
    "    \n",
    "    return degrees(atan(dist/height ))"
   ]
  },
  {
   "cell_type": "raw",
   "metadata": {},
   "source": [
    "test_angle={'distance':1.0,'GPS_Alt_Delta':-1.0}\n",
    "print(calc_gradient(test_angle))\n",
    "#houle be -45"
   ]
  },
  {
   "cell_type": "code",
   "execution_count": 82,
   "metadata": {},
   "outputs": [
    {
     "name": "stderr",
     "output_type": "stream",
     "text": [
      "/home/jjc/miniconda3/lib/python3.7/site-packages/ipykernel_launcher.py:2: SettingWithCopyWarning: \n",
      "A value is trying to be set on a copy of a slice from a DataFrame.\n",
      "Try using .loc[row_indexer,col_indexer] = value instead\n",
      "\n",
      "See the caveats in the documentation: http://pandas.pydata.org/pandas-docs/stable/indexing.html#indexing-view-versus-copy\n",
      "  \n"
     ]
    }
   ],
   "source": [
    "#gradient\n",
    "data['gradient'] = data.apply(calc_gradient,axis=1)"
   ]
  },
  {
   "cell_type": "raw",
   "metadata": {},
   "source": [
    "data.gradient.describe()"
   ]
  },
  {
   "cell_type": "raw",
   "metadata": {},
   "source": [
    "data.gradient.plot()"
   ]
  },
  {
   "cell_type": "code",
   "execution_count": 23,
   "metadata": {},
   "outputs": [],
   "source": [
    "def calc_grad_colour(row):\n",
    "    \n",
    "    grad=row['gradient']\n",
    "    \n",
    "    if grad >=3.0:\n",
    "        return 0 #'#FF0000' #red\n",
    "    elif grad >= -5.0:\n",
    "        return 1 #'#00FF00' #green\n",
    "    else:\n",
    "        return 2#'#0000FF' #blue\n",
    "        "
   ]
  },
  {
   "cell_type": "raw",
   "metadata": {},
   "source": [
    "test_grad_colour={'gradient':-1,'GPS_Alt_Delta':-1.0}\n",
    "print(calc_grad_colour(test_grad_colour))\n",
    "#should be 1"
   ]
  },
  {
   "cell_type": "code",
   "execution_count": 83,
   "metadata": {},
   "outputs": [
    {
     "name": "stderr",
     "output_type": "stream",
     "text": [
      "/home/jjc/miniconda3/lib/python3.7/site-packages/ipykernel_launcher.py:1: SettingWithCopyWarning: \n",
      "A value is trying to be set on a copy of a slice from a DataFrame.\n",
      "Try using .loc[row_indexer,col_indexer] = value instead\n",
      "\n",
      "See the caveats in the documentation: http://pandas.pydata.org/pandas-docs/stable/indexing.html#indexing-view-versus-copy\n",
      "  \"\"\"Entry point for launching an IPython kernel.\n"
     ]
    }
   ],
   "source": [
    "data['grad_colour']=data.apply(calc_grad_colour,axis=1)"
   ]
  },
  {
   "cell_type": "code",
   "execution_count": 84,
   "metadata": {},
   "outputs": [],
   "source": [
    "data.to_pickle('processed_data/'+output_file)"
   ]
  },
  {
   "cell_type": "code",
   "execution_count": null,
   "metadata": {},
   "outputs": [],
   "source": []
  }
 ],
 "metadata": {
  "kernelspec": {
   "display_name": "Python (base)",
   "language": "python",
   "name": "base"
  },
  "language_info": {
   "codemirror_mode": {
    "name": "ipython",
    "version": 3
   },
   "file_extension": ".py",
   "mimetype": "text/x-python",
   "name": "python",
   "nbconvert_exporter": "python",
   "pygments_lexer": "ipython3",
   "version": "3.7.1"
  }
 },
 "nbformat": 4,
 "nbformat_minor": 2
}
