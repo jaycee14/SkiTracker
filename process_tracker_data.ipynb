{
 "cells": [
  {
   "cell_type": "markdown",
   "metadata": {},
   "source": [
    "* This file takes a raw file and splits into per day files ( manually )\n",
    "* The luigi task then processes each per day file, cleans, adds extra fields\n",
    "* It also calcuates the runs and writes the output files"
   ]
  },
  {
   "cell_type": "code",
   "execution_count": 1,
   "metadata": {},
   "outputs": [],
   "source": [
    "%load_ext autoreload\n",
    "%autoreload 2"
   ]
  },
  {
   "cell_type": "code",
   "execution_count": 3,
   "metadata": {},
   "outputs": [],
   "source": [
    "\n",
    "import pandas as pd\n",
    "import numpy as np\n",
    "from datetime import datetime\n",
    "import luigi\n",
    "import matplotlib.pyplot as plt\n",
    "import seaborn as sns"
   ]
  },
  {
   "cell_type": "code",
   "execution_count": 4,
   "metadata": {},
   "outputs": [],
   "source": [
    "sns.set()"
   ]
  },
  {
   "cell_type": "code",
   "execution_count": 5,
   "metadata": {},
   "outputs": [],
   "source": [
    "%matplotlib inline"
   ]
  },
  {
   "cell_type": "code",
   "execution_count": 7,
   "metadata": {},
   "outputs": [],
   "source": [
    "from skitracker_utils import ProcessDirectory, ProcessTask, InFile\n"
   ]
  },
  {
   "cell_type": "code",
   "execution_count": 8,
   "metadata": {},
   "outputs": [],
   "source": [
    "project_root = '/home/jjc/Projects/SkiTracker/'"
   ]
  },
  {
   "cell_type": "code",
   "execution_count": 9,
   "metadata": {},
   "outputs": [],
   "source": [
    "input_file = 'raw_data_collected/dataOut_26-28_Feb_23.csv'"
   ]
  },
  {
   "cell_type": "code",
   "execution_count": 10,
   "metadata": {},
   "outputs": [],
   "source": [
    "raw  =pd.read_csv(input_file, header=None, names=['Date','Time','Lat','Lon','GPS_Alt','Pressure','Pres_Alt','Temp','Batt'])"
   ]
  },
  {
   "cell_type": "code",
   "execution_count": 11,
   "metadata": {},
   "outputs": [
    {
     "data": {
      "text/plain": [
       "(47259, 9)"
      ]
     },
     "execution_count": 11,
     "metadata": {},
     "output_type": "execute_result"
    }
   ],
   "source": [
    "#remove the first line if its text\n",
    "raw=raw[1:]\n",
    "raw.shape"
   ]
  },
  {
   "cell_type": "code",
   "execution_count": 12,
   "metadata": {},
   "outputs": [
    {
     "data": {
      "text/html": [
       "<div>\n",
       "<style scoped>\n",
       "    .dataframe tbody tr th:only-of-type {\n",
       "        vertical-align: middle;\n",
       "    }\n",
       "\n",
       "    .dataframe tbody tr th {\n",
       "        vertical-align: top;\n",
       "    }\n",
       "\n",
       "    .dataframe thead th {\n",
       "        text-align: right;\n",
       "    }\n",
       "</style>\n",
       "<table border=\"1\" class=\"dataframe\">\n",
       "  <thead>\n",
       "    <tr style=\"text-align: right;\">\n",
       "      <th></th>\n",
       "      <th>Date</th>\n",
       "      <th>Time</th>\n",
       "      <th>Lat</th>\n",
       "      <th>Lon</th>\n",
       "      <th>GPS_Alt</th>\n",
       "      <th>Pressure</th>\n",
       "      <th>Pres_Alt</th>\n",
       "      <th>Temp</th>\n",
       "      <th>Batt</th>\n",
       "    </tr>\n",
       "  </thead>\n",
       "  <tbody>\n",
       "    <tr>\n",
       "      <th>1</th>\n",
       "      <td>02/26/2023</td>\n",
       "      <td>08:54:01</td>\n",
       "      <td>45.512134</td>\n",
       "      <td>6.666487</td>\n",
       "      <td>2060.5</td>\n",
       "      <td>77354.641</td>\n",
       "      <td>2219.653</td>\n",
       "      <td>17.27</td>\n",
       "      <td>4.273</td>\n",
       "    </tr>\n",
       "    <tr>\n",
       "      <th>2</th>\n",
       "      <td>02/26/2023</td>\n",
       "      <td>08:54:02</td>\n",
       "      <td>45.512133</td>\n",
       "      <td>6.666488</td>\n",
       "      <td>2061.2</td>\n",
       "      <td>77353.008</td>\n",
       "      <td>2219.822</td>\n",
       "      <td>17.27</td>\n",
       "      <td>4.267</td>\n",
       "    </tr>\n",
       "    <tr>\n",
       "      <th>3</th>\n",
       "      <td>02/26/2023</td>\n",
       "      <td>08:54:03</td>\n",
       "      <td>45.512133</td>\n",
       "      <td>6.666490</td>\n",
       "      <td>2062.2</td>\n",
       "      <td>77353.375</td>\n",
       "      <td>2219.785</td>\n",
       "      <td>17.26</td>\n",
       "      <td>4.273</td>\n",
       "    </tr>\n",
       "    <tr>\n",
       "      <th>4</th>\n",
       "      <td>02/26/2023</td>\n",
       "      <td>08:54:04</td>\n",
       "      <td>45.512130</td>\n",
       "      <td>6.666487</td>\n",
       "      <td>2063.1</td>\n",
       "      <td>77352.266</td>\n",
       "      <td>2219.900</td>\n",
       "      <td>17.26</td>\n",
       "      <td>4.273</td>\n",
       "    </tr>\n",
       "    <tr>\n",
       "      <th>5</th>\n",
       "      <td>02/26/2023</td>\n",
       "      <td>08:54:05</td>\n",
       "      <td>45.512133</td>\n",
       "      <td>6.666485</td>\n",
       "      <td>2063.6</td>\n",
       "      <td>77354.445</td>\n",
       "      <td>2219.674</td>\n",
       "      <td>17.26</td>\n",
       "      <td>4.280</td>\n",
       "    </tr>\n",
       "  </tbody>\n",
       "</table>\n",
       "</div>"
      ],
      "text/plain": [
       "          Date       Time        Lat       Lon  GPS_Alt   Pressure  Pres_Alt  \\\n",
       "1  02/26/2023   08:54:01   45.512134  6.666487   2060.5  77354.641  2219.653   \n",
       "2  02/26/2023   08:54:02   45.512133  6.666488   2061.2  77353.008  2219.822   \n",
       "3  02/26/2023   08:54:03   45.512133  6.666490   2062.2  77353.375  2219.785   \n",
       "4  02/26/2023   08:54:04   45.512130  6.666487   2063.1  77352.266  2219.900   \n",
       "5  02/26/2023   08:54:05   45.512133  6.666485   2063.6  77354.445  2219.674   \n",
       "\n",
       "    Temp   Batt  \n",
       "1  17.27  4.273  \n",
       "2  17.27  4.267  \n",
       "3  17.26  4.273  \n",
       "4  17.26  4.273  \n",
       "5  17.26  4.280  "
      ]
     },
     "execution_count": 12,
     "metadata": {},
     "output_type": "execute_result"
    }
   ],
   "source": [
    "raw.head()"
   ]
  },
  {
   "cell_type": "code",
   "execution_count": null,
   "metadata": {},
   "outputs": [],
   "source": []
  },
  {
   "cell_type": "code",
   "execution_count": 13,
   "metadata": {},
   "outputs": [
    {
     "data": {
      "text/plain": [
       "array(['02/26/2023 ', '02/27/2023 ', '02/28/2023 '], dtype=object)"
      ]
     },
     "execution_count": 13,
     "metadata": {},
     "output_type": "execute_result"
    }
   ],
   "source": [
    "raw.Date.unique()"
   ]
  },
  {
   "cell_type": "code",
   "execution_count": 24,
   "metadata": {},
   "outputs": [],
   "source": [
    "raw_filter = raw[raw.Date=='02/28/2023 ']"
   ]
  },
  {
   "cell_type": "code",
   "execution_count": 25,
   "metadata": {},
   "outputs": [
    {
     "data": {
      "text/plain": [
       "(20266, 9)"
      ]
     },
     "execution_count": 25,
     "metadata": {},
     "output_type": "execute_result"
    }
   ],
   "source": [
    "raw_filter.shape"
   ]
  },
  {
   "cell_type": "code",
   "execution_count": 26,
   "metadata": {},
   "outputs": [
    {
     "data": {
      "text/plain": [
       "'Josh_FR_28Feb23.pkl'"
      ]
     },
     "execution_count": 26,
     "metadata": {},
     "output_type": "execute_result"
    }
   ],
   "source": [
    "name = 'Josh'\n",
    "location = 'FR'\n",
    "date = datetime(2023,2,28)\n",
    "output_file = '{}_{}_{}.pkl'.format(name,location,date.strftime('%d%b%y'))\n",
    "output_file"
   ]
  },
  {
   "cell_type": "code",
   "execution_count": 27,
   "metadata": {},
   "outputs": [],
   "source": [
    "raw_filter.to_pickle('raw_split_files/'+output_file)"
   ]
  },
  {
   "cell_type": "code",
   "execution_count": 28,
   "metadata": {},
   "outputs": [
    {
     "data": {
      "image/png": "[encoded data removed]",
      "text/plain": [
       "<Figure size 720x576 with 1 Axes>"
      ]
     },
     "metadata": {
      "needs_background": "light"
     },
     "output_type": "display_data"
    }
   ],
   "source": [
    "fig, ax = plt.subplots(figsize=(10,8))\n",
    "raw_filter['GPS_Alt'].plot(ax=ax, title='GPS Plot')\n",
    "plt.show()\n",
    "#raw_filter['GPS_Alt'].plot()"
   ]
  },
  {
   "cell_type": "markdown",
   "metadata": {},
   "source": [
    "### Luigi Process"
   ]
  },
  {
   "cell_type": "code",
   "execution_count": 31,
   "metadata": {},
   "outputs": [],
   "source": [
    "process_all  = ProcessDirectory(inputDir=project_root+'raw_split_files/',outputDir=project_root+'processed_data/')"
   ]
  },
  {
   "cell_type": "code",
   "execution_count": 32,
   "metadata": {
    "scrolled": true
   },
   "outputs": [
    {
     "name": "stderr",
     "output_type": "stream",
     "text": [
      "DEBUG: Checking if ProcessDirectory(inputDir=/home/jjc/Projects/SkiTracker/raw_split_files/, outputDir=/home/jjc/Projects/SkiTracker/processed_data/) is complete\n",
      "DEBUG: Checking if ProcessTask(file_name=sam_FR_10Apr20.pkl, inputDir=/home/jjc/Projects/SkiTracker/raw_split_files/, outputDir=/home/jjc/Projects/SkiTracker/processed_data/) is complete\n",
      "DEBUG: Checking if ProcessTask(file_name=Josh_FR_26Feb23.pkl, inputDir=/home/jjc/Projects/SkiTracker/raw_split_files/, outputDir=/home/jjc/Projects/SkiTracker/processed_data/) is complete\n",
      "DEBUG: Checking if ProcessTask(file_name=Josh_FR_27Feb23.pkl, inputDir=/home/jjc/Projects/SkiTracker/raw_split_files/, outputDir=/home/jjc/Projects/SkiTracker/processed_data/) is complete\n",
      "DEBUG: Checking if ProcessTask(file_name=Josh_FR_28Feb23.pkl, inputDir=/home/jjc/Projects/SkiTracker/raw_split_files/, outputDir=/home/jjc/Projects/SkiTracker/processed_data/) is complete\n",
      "DEBUG: Checking if ProcessTask(file_name=josh_BG_17Jan20.pkl, inputDir=/home/jjc/Projects/SkiTracker/raw_split_files/, outputDir=/home/jjc/Projects/SkiTracker/processed_data/) is complete\n",
      "DEBUG: Checking if ProcessTask(file_name=sam_FR_09Apr20.pkl, inputDir=/home/jjc/Projects/SkiTracker/raw_split_files/, outputDir=/home/jjc/Projects/SkiTracker/processed_data/) is complete\n",
      "DEBUG: Checking if ProcessTask(file_name=sam_FR_08Apr20.pkl, inputDir=/home/jjc/Projects/SkiTracker/raw_split_files/, outputDir=/home/jjc/Projects/SkiTracker/processed_data/) is complete\n",
      "DEBUG: Checking if ProcessTask(file_name=jon_BG_18Jan20.pkl, inputDir=/home/jjc/Projects/SkiTracker/raw_split_files/, outputDir=/home/jjc/Projects/SkiTracker/processed_data/) is complete\n",
      "INFO: Informed scheduler that task   ProcessDirectory__home_jjc_Projec__home_jjc_Projec_b34cf5893c   has status   PENDING\n",
      "INFO: Informed scheduler that task   ProcessTask_jon_BG_18Jan20_p__home_jjc_Projec__home_jjc_Projec_628be09850   has status   DONE\n",
      "INFO: Informed scheduler that task   ProcessTask_sam_FR_08Apr20_p__home_jjc_Projec__home_jjc_Projec_5b2989ae71   has status   DONE\n",
      "INFO: Informed scheduler that task   ProcessTask_sam_FR_09Apr20_p__home_jjc_Projec__home_jjc_Projec_01920cffa1   has status   DONE\n",
      "INFO: Informed scheduler that task   ProcessTask_josh_BG_17Jan20___home_jjc_Projec__home_jjc_Projec_5826ca94fd   has status   DONE\n",
      "DEBUG: Checking if RawFile(path=/home/jjc/Projects/SkiTracker/raw_split_files/Josh_FR_28Feb23.pkl) is complete\n",
      "INFO: Informed scheduler that task   ProcessTask_Josh_FR_28Feb23___home_jjc_Projec__home_jjc_Projec_c30d36e287   has status   PENDING\n",
      "INFO: Informed scheduler that task   RawFile__home_jjc_Projec_4b4fe077c7   has status   DONE\n",
      "DEBUG: Checking if RawFile(path=/home/jjc/Projects/SkiTracker/raw_split_files/Josh_FR_27Feb23.pkl) is complete\n",
      "INFO: Informed scheduler that task   ProcessTask_Josh_FR_27Feb23___home_jjc_Projec__home_jjc_Projec_767f0922c5   has status   PENDING\n",
      "INFO: Informed scheduler that task   RawFile__home_jjc_Projec_b640b18dc4   has status   DONE\n",
      "DEBUG: Checking if RawFile(path=/home/jjc/Projects/SkiTracker/raw_split_files/Josh_FR_26Feb23.pkl) is complete\n",
      "INFO: Informed scheduler that task   ProcessTask_Josh_FR_26Feb23___home_jjc_Projec__home_jjc_Projec_21b781043a   has status   PENDING\n",
      "INFO: Informed scheduler that task   RawFile__home_jjc_Projec_90df11895f   has status   DONE\n",
      "INFO: Informed scheduler that task   ProcessTask_sam_FR_10Apr20_p__home_jjc_Projec__home_jjc_Projec_f15c896e8d   has status   DONE\n",
      "INFO: Done scheduling tasks\n",
      "INFO: Running Worker with 1 processes\n",
      "DEBUG: Asking scheduler for work...\n",
      "DEBUG: Pending tasks: 4\n",
      "INFO: [pid 3313] Worker Worker(salt=1973135525, workers=1, host=jjc-Lenovo-V14-ADA, username=jjc, pid=3313) running   ProcessTask(file_name=Josh_FR_27Feb23.pkl, inputDir=/home/jjc/Projects/SkiTracker/raw_split_files/, outputDir=/home/jjc/Projects/SkiTracker/processed_data/)\n",
      "INFO: [pid 3313] Worker Worker(salt=1973135525, workers=1, host=jjc-Lenovo-V14-ADA, username=jjc, pid=3313) done      ProcessTask(file_name=Josh_FR_27Feb23.pkl, inputDir=/home/jjc/Projects/SkiTracker/raw_split_files/, outputDir=/home/jjc/Projects/SkiTracker/processed_data/)\n",
      "DEBUG: 1 running tasks, waiting for next task to finish\n",
      "INFO: Informed scheduler that task   ProcessTask_Josh_FR_27Feb23___home_jjc_Projec__home_jjc_Projec_767f0922c5   has status   DONE\n",
      "DEBUG: Asking scheduler for work...\n",
      "DEBUG: Pending tasks: 3\n",
      "INFO: [pid 3313] Worker Worker(salt=1973135525, workers=1, host=jjc-Lenovo-V14-ADA, username=jjc, pid=3313) running   ProcessTask(file_name=Josh_FR_26Feb23.pkl, inputDir=/home/jjc/Projects/SkiTracker/raw_split_files/, outputDir=/home/jjc/Projects/SkiTracker/processed_data/)\n",
      "INFO: [pid 3313] Worker Worker(salt=1973135525, workers=1, host=jjc-Lenovo-V14-ADA, username=jjc, pid=3313) done      ProcessTask(file_name=Josh_FR_26Feb23.pkl, inputDir=/home/jjc/Projects/SkiTracker/raw_split_files/, outputDir=/home/jjc/Projects/SkiTracker/processed_data/)\n",
      "DEBUG: 1 running tasks, waiting for next task to finish\n",
      "INFO: Informed scheduler that task   ProcessTask_Josh_FR_26Feb23___home_jjc_Projec__home_jjc_Projec_21b781043a   has status   DONE\n",
      "DEBUG: Asking scheduler for work...\n",
      "DEBUG: Pending tasks: 2\n",
      "INFO: [pid 3313] Worker Worker(salt=1973135525, workers=1, host=jjc-Lenovo-V14-ADA, username=jjc, pid=3313) running   ProcessTask(file_name=Josh_FR_28Feb23.pkl, inputDir=/home/jjc/Projects/SkiTracker/raw_split_files/, outputDir=/home/jjc/Projects/SkiTracker/processed_data/)\n",
      "INFO: [pid 3313] Worker Worker(salt=1973135525, workers=1, host=jjc-Lenovo-V14-ADA, username=jjc, pid=3313) done      ProcessTask(file_name=Josh_FR_28Feb23.pkl, inputDir=/home/jjc/Projects/SkiTracker/raw_split_files/, outputDir=/home/jjc/Projects/SkiTracker/processed_data/)\n",
      "DEBUG: 1 running tasks, waiting for next task to finish\n",
      "INFO: Informed scheduler that task   ProcessTask_Josh_FR_28Feb23___home_jjc_Projec__home_jjc_Projec_c30d36e287   has status   DONE\n",
      "DEBUG: Asking scheduler for work...\n",
      "DEBUG: Pending tasks: 1\n",
      "INFO: [pid 3313] Worker Worker(salt=1973135525, workers=1, host=jjc-Lenovo-V14-ADA, username=jjc, pid=3313) running   ProcessDirectory(inputDir=/home/jjc/Projects/SkiTracker/raw_split_files/, outputDir=/home/jjc/Projects/SkiTracker/processed_data/)\n",
      "INFO: [pid 3313] Worker Worker(salt=1973135525, workers=1, host=jjc-Lenovo-V14-ADA, username=jjc, pid=3313) done      ProcessDirectory(inputDir=/home/jjc/Projects/SkiTracker/raw_split_files/, outputDir=/home/jjc/Projects/SkiTracker/processed_data/)\n",
      "DEBUG: 1 running tasks, waiting for next task to finish\n",
      "INFO: Informed scheduler that task   ProcessDirectory__home_jjc_Projec__home_jjc_Projec_b34cf5893c   has status   DONE\n",
      "DEBUG: Asking scheduler for work...\n",
      "DEBUG: Done\n",
      "DEBUG: There are no more tasks to run at this time\n",
      "INFO: Worker Worker(salt=1973135525, workers=1, host=jjc-Lenovo-V14-ADA, username=jjc, pid=3313) was stopped. Shutting down Keep-Alive thread\n",
      "INFO: \n",
      "===== Luigi Execution Summary =====\n",
      "\n",
      "Scheduled 12 tasks of which:\n",
      "* 8 complete ones were encountered:\n",
      "    - 5 ProcessTask(file_name=jon_BG_18Jan20.pkl, inputDir=/home/jjc/Projects/SkiTracker/raw_split_files/, outputDir=/home/jjc/Projects/SkiTracker/processed_data/) ...\n",
      "    - 3 RawFile(path=/home/jjc/Projects/SkiTracker/raw_split_files/Josh_FR_26Feb23.pkl,/home/jjc/Projects/SkiTracker/raw_split_files/Josh_FR_27Feb23.pkl,/home/jjc/Projects/SkiTracker/raw_split_files/Josh_FR_28Feb23.pkl)\n",
      "* 4 ran successfully:\n",
      "    - 1 ProcessDirectory(inputDir=/home/jjc/Projects/SkiTracker/raw_split_files/, outputDir=/home/jjc/Projects/SkiTracker/processed_data/)\n",
      "    - 3 ProcessTask(file_name=Josh_FR_26Feb23.pkl, inputDir=/home/jjc/Projects/SkiTracker/raw_split_files/, outputDir=/home/jjc/Projects/SkiTracker/processed_data/) ...\n",
      "\n",
      "This progress looks :) because there were no failed tasks or missing dependencies\n",
      "\n",
      "===== Luigi Execution Summary =====\n",
      "\n"
     ]
    },
    {
     "data": {
      "text/plain": [
       "True"
      ]
     },
     "execution_count": 32,
     "metadata": {},
     "output_type": "execute_result"
    }
   ],
   "source": [
    "luigi.build([process_all],local_scheduler=True)"
   ]
  },
  {
   "cell_type": "code",
   "execution_count": null,
   "metadata": {},
   "outputs": [],
   "source": [
    "# debug"
   ]
  },
  {
   "cell_type": "code",
   "execution_count": 19,
   "metadata": {},
   "outputs": [],
   "source": [
    "df = pd.read_pickle('raw_split_files/josh_17Mar19.pkl')"
   ]
  },
  {
   "cell_type": "code",
   "execution_count": 20,
   "metadata": {},
   "outputs": [
    {
     "data": {
      "text/html": [
       "<div>\n",
       "<style scoped>\n",
       "    .dataframe tbody tr th:only-of-type {\n",
       "        vertical-align: middle;\n",
       "    }\n",
       "\n",
       "    .dataframe tbody tr th {\n",
       "        vertical-align: top;\n",
       "    }\n",
       "\n",
       "    .dataframe thead th {\n",
       "        text-align: right;\n",
       "    }\n",
       "</style>\n",
       "<table border=\"1\" class=\"dataframe\">\n",
       "  <thead>\n",
       "    <tr style=\"text-align: right;\">\n",
       "      <th></th>\n",
       "      <th>Date</th>\n",
       "      <th>Time</th>\n",
       "      <th>Lat</th>\n",
       "      <th>Lon</th>\n",
       "      <th>GPS_Alt</th>\n",
       "      <th>Pressure</th>\n",
       "      <th>Pres_Alt</th>\n",
       "      <th>Temp</th>\n",
       "      <th>Batt</th>\n",
       "    </tr>\n",
       "  </thead>\n",
       "  <tbody>\n",
       "    <tr>\n",
       "      <th>26034</th>\n",
       "      <td>03/17/2019</td>\n",
       "      <td>08:44:03</td>\n",
       "      <td>45.097191</td>\n",
       "      <td>6.069313</td>\n",
       "      <td>0.0</td>\n",
       "      <td>1.100222e+10</td>\n",
       "      <td>1859.802</td>\n",
       "      <td>23.4</td>\n",
       "      <td>4.022</td>\n",
       "    </tr>\n",
       "    <tr>\n",
       "      <th>26035</th>\n",
       "      <td>03/17/2019</td>\n",
       "      <td>08:44:04</td>\n",
       "      <td>45.097191</td>\n",
       "      <td>6.069315</td>\n",
       "      <td>1867.0</td>\n",
       "      <td>1.100222e+10</td>\n",
       "      <td>1860.903</td>\n",
       "      <td>23.4</td>\n",
       "      <td>3.945</td>\n",
       "    </tr>\n",
       "    <tr>\n",
       "      <th>26036</th>\n",
       "      <td>03/17/2019</td>\n",
       "      <td>08:44:05</td>\n",
       "      <td>45.097191</td>\n",
       "      <td>6.069309</td>\n",
       "      <td>1867.1</td>\n",
       "      <td>1.100222e+10</td>\n",
       "      <td>1860.602</td>\n",
       "      <td>23.4</td>\n",
       "      <td>3.925</td>\n",
       "    </tr>\n",
       "    <tr>\n",
       "      <th>26037</th>\n",
       "      <td>03/17/2019</td>\n",
       "      <td>08:44:06</td>\n",
       "      <td>45.097195</td>\n",
       "      <td>6.069302</td>\n",
       "      <td>1867.2</td>\n",
       "      <td>1.100222e+10</td>\n",
       "      <td>1859.802</td>\n",
       "      <td>23.5</td>\n",
       "      <td>3.938</td>\n",
       "    </tr>\n",
       "    <tr>\n",
       "      <th>26038</th>\n",
       "      <td>03/17/2019</td>\n",
       "      <td>08:44:07</td>\n",
       "      <td>45.097195</td>\n",
       "      <td>6.069293</td>\n",
       "      <td>1867.0</td>\n",
       "      <td>1.100222e+10</td>\n",
       "      <td>1860.703</td>\n",
       "      <td>23.5</td>\n",
       "      <td>3.938</td>\n",
       "    </tr>\n",
       "  </tbody>\n",
       "</table>\n",
       "</div>"
      ],
      "text/plain": [
       "              Date       Time        Lat       Lon  GPS_Alt      Pressure  \\\n",
       "26034  03/17/2019   08:44:03   45.097191  6.069313      0.0  1.100222e+10   \n",
       "26035  03/17/2019   08:44:04   45.097191  6.069315   1867.0  1.100222e+10   \n",
       "26036  03/17/2019   08:44:05   45.097191  6.069309   1867.1  1.100222e+10   \n",
       "26037  03/17/2019   08:44:06   45.097195  6.069302   1867.2  1.100222e+10   \n",
       "26038  03/17/2019   08:44:07   45.097195  6.069293   1867.0  1.100222e+10   \n",
       "\n",
       "       Pres_Alt  Temp   Batt  \n",
       "26034  1859.802  23.4  4.022  \n",
       "26035  1860.903  23.4  3.945  \n",
       "26036  1860.602  23.4  3.925  \n",
       "26037  1859.802  23.5  3.938  \n",
       "26038  1860.703  23.5  3.938  "
      ]
     },
     "execution_count": 20,
     "metadata": {},
     "output_type": "execute_result"
    }
   ],
   "source": [
    "df.head()"
   ]
  },
  {
   "cell_type": "code",
   "execution_count": 21,
   "metadata": {},
   "outputs": [],
   "source": [
    "from skitracker_utils import find_routes, prepare_data"
   ]
  },
  {
   "cell_type": "code",
   "execution_count": 22,
   "metadata": {},
   "outputs": [],
   "source": [
    "df = prepare_data(df)"
   ]
  },
  {
   "cell_type": "code",
   "execution_count": 23,
   "metadata": {},
   "outputs": [],
   "source": [
    "runs = find_routes(df)"
   ]
  },
  {
   "cell_type": "code",
   "execution_count": 24,
   "metadata": {},
   "outputs": [
    {
     "name": "stdout",
     "output_type": "stream",
     "text": [
      "0 5.814194836983694\n",
      "1 5.944191166440021\n",
      "2 6.355485670423555\n",
      "3 8.529248018342143\n",
      "4 8.976568430178716\n",
      "5 5.583955214190283\n",
      "6 6.4812934693615105\n",
      "7 4.6784004290629255\n",
      "8 5.334170275938502\n",
      "9 6.820314180491962\n",
      "10 6.891502908832487\n",
      "11 1.2122750699281015\n"
     ]
    }
   ],
   "source": [
    "for i, run in enumerate(runs):\n",
    "    print(i, run['scale'])"
   ]
  }
 ],
 "metadata": {
  "kernelspec": {
   "display_name": "Python 3 (ipykernel)",
   "language": "python",
   "name": "python3"
  },
  "language_info": {
   "codemirror_mode": {
    "name": "ipython",
    "version": 3
   },
   "file_extension": ".py",
   "mimetype": "text/x-python",
   "name": "python",
   "nbconvert_exporter": "python",
   "pygments_lexer": "ipython3",
   "version": "3.8.10"
  }
 },
 "nbformat": 4,
 "nbformat_minor": 2
}
