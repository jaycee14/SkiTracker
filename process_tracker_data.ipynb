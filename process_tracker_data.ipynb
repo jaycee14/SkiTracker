{
 "cells": [
  {
   "cell_type": "markdown",
   "metadata": {},
   "source": [
    "* This file takes a raw file and splits into per day files ( manually )\n",
    "* The luigi task then processes each per day file, cleans, adds extra fields\n",
    "* It also calcuates the runs and writes the output files"
   ]
  },
  {
   "cell_type": "code",
   "execution_count": 1,
   "metadata": {},
   "outputs": [],
   "source": [
    "%load_ext autoreload\n",
    "%autoreload 2"
   ]
  },
  {
   "cell_type": "code",
   "execution_count": 2,
   "metadata": {},
   "outputs": [],
   "source": [
    "\n",
    "import pandas as pd\n",
    "import numpy as np\n",
    "from datetime import datetime\n",
    "import luigi\n",
    "import matplotlib.pyplot as plt\n",
    "import seaborn as sns"
   ]
  },
  {
   "cell_type": "code",
   "execution_count": 3,
   "metadata": {},
   "outputs": [],
   "source": [
    "sns.set()"
   ]
  },
  {
   "cell_type": "code",
   "execution_count": 4,
   "metadata": {},
   "outputs": [],
   "source": [
    "%matplotlib inline"
   ]
  },
  {
   "cell_type": "code",
   "execution_count": 5,
   "metadata": {},
   "outputs": [],
   "source": [
    "from skitracker_utils import ProcessDirectory, ProcessTask, InFile\n"
   ]
  },
  {
   "cell_type": "code",
   "execution_count": 62,
   "metadata": {},
   "outputs": [],
   "source": [
    "project_root = '/home/jjc/Projects/SkiTracker/'"
   ]
  },
  {
   "cell_type": "code",
   "execution_count": 40,
   "metadata": {},
   "outputs": [],
   "source": [
    "input_file = 'raw_data_collected/sam_chamonix_messy.csv'"
   ]
  },
  {
   "cell_type": "code",
   "execution_count": 41,
   "metadata": {},
   "outputs": [],
   "source": [
    "raw  =pd.read_csv(input_file, header=None, names=['Date','Time','Lat','Lon','GPS_Alt','Pressure','Pres_Alt','Temp','Batt'])"
   ]
  },
  {
   "cell_type": "code",
   "execution_count": 42,
   "metadata": {},
   "outputs": [
    {
     "data": {
      "text/plain": [
       "(99209, 9)"
      ]
     },
     "execution_count": 42,
     "metadata": {},
     "output_type": "execute_result"
    }
   ],
   "source": [
    "#remove the first line if its text\n",
    "raw=raw[1:]\n",
    "raw.shape"
   ]
  },
  {
   "cell_type": "code",
   "execution_count": 43,
   "metadata": {},
   "outputs": [
    {
     "data": {
      "text/html": [
       "<div>\n",
       "<style scoped>\n",
       "    .dataframe tbody tr th:only-of-type {\n",
       "        vertical-align: middle;\n",
       "    }\n",
       "\n",
       "    .dataframe tbody tr th {\n",
       "        vertical-align: top;\n",
       "    }\n",
       "\n",
       "    .dataframe thead th {\n",
       "        text-align: right;\n",
       "    }\n",
       "</style>\n",
       "<table border=\"1\" class=\"dataframe\">\n",
       "  <thead>\n",
       "    <tr style=\"text-align: right;\">\n",
       "      <th></th>\n",
       "      <th>Date</th>\n",
       "      <th>Time</th>\n",
       "      <th>Lat</th>\n",
       "      <th>Lon</th>\n",
       "      <th>GPS_Alt</th>\n",
       "      <th>Pressure</th>\n",
       "      <th>Pres_Alt</th>\n",
       "      <th>Temp</th>\n",
       "      <th>Batt</th>\n",
       "    </tr>\n",
       "  </thead>\n",
       "  <tbody>\n",
       "    <tr>\n",
       "      <td>1</td>\n",
       "      <td>03/22/2019</td>\n",
       "      <td>09:57:57</td>\n",
       "      <td>45.099696</td>\n",
       "      <td>6.059256</td>\n",
       "      <td>2115.8</td>\n",
       "      <td>79813.875</td>\n",
       "      <td>1968.105</td>\n",
       "      <td>28.91</td>\n",
       "      <td>4.325</td>\n",
       "    </tr>\n",
       "    <tr>\n",
       "      <td>2</td>\n",
       "      <td>03/22/2019</td>\n",
       "      <td>09:57:59</td>\n",
       "      <td>45.099696</td>\n",
       "      <td>6.059264</td>\n",
       "      <td>2115.3</td>\n",
       "      <td>79805.703</td>\n",
       "      <td>1968.931</td>\n",
       "      <td>28.91</td>\n",
       "      <td>4.331</td>\n",
       "    </tr>\n",
       "    <tr>\n",
       "      <td>3</td>\n",
       "      <td>03/22/2019</td>\n",
       "      <td>09:58:00</td>\n",
       "      <td>45.099698</td>\n",
       "      <td>6.059271</td>\n",
       "      <td>2115.7</td>\n",
       "      <td>79805.812</td>\n",
       "      <td>1968.920</td>\n",
       "      <td>28.92</td>\n",
       "      <td>4.325</td>\n",
       "    </tr>\n",
       "    <tr>\n",
       "      <td>4</td>\n",
       "      <td>03/22/2019</td>\n",
       "      <td>09:58:01</td>\n",
       "      <td>45.099696</td>\n",
       "      <td>6.059280</td>\n",
       "      <td>2115.9</td>\n",
       "      <td>79812.703</td>\n",
       "      <td>1968.224</td>\n",
       "      <td>28.93</td>\n",
       "      <td>4.325</td>\n",
       "    </tr>\n",
       "    <tr>\n",
       "      <td>5</td>\n",
       "      <td>03/22/2019</td>\n",
       "      <td>09:58:02</td>\n",
       "      <td>45.099694</td>\n",
       "      <td>6.059289</td>\n",
       "      <td>2117.1</td>\n",
       "      <td>79815.219</td>\n",
       "      <td>1967.969</td>\n",
       "      <td>28.94</td>\n",
       "      <td>4.325</td>\n",
       "    </tr>\n",
       "  </tbody>\n",
       "</table>\n",
       "</div>"
      ],
      "text/plain": [
       "          Date       Time        Lat       Lon  GPS_Alt   Pressure  Pres_Alt  \\\n",
       "1  03/22/2019   09:57:57   45.099696  6.059256   2115.8  79813.875  1968.105   \n",
       "2  03/22/2019   09:57:59   45.099696  6.059264   2115.3  79805.703  1968.931   \n",
       "3  03/22/2019   09:58:00   45.099698  6.059271   2115.7  79805.812  1968.920   \n",
       "4  03/22/2019   09:58:01   45.099696  6.059280   2115.9  79812.703  1968.224   \n",
       "5  03/22/2019   09:58:02   45.099694  6.059289   2117.1  79815.219  1967.969   \n",
       "\n",
       "    Temp   Batt  \n",
       "1  28.91  4.325  \n",
       "2  28.91  4.331  \n",
       "3  28.92  4.325  \n",
       "4  28.93  4.325  \n",
       "5  28.94  4.325  "
      ]
     },
     "execution_count": 43,
     "metadata": {},
     "output_type": "execute_result"
    }
   ],
   "source": [
    "raw.head()"
   ]
  },
  {
   "cell_type": "code",
   "execution_count": null,
   "metadata": {},
   "outputs": [],
   "source": []
  },
  {
   "cell_type": "code",
   "execution_count": 44,
   "metadata": {},
   "outputs": [
    {
     "data": {
      "text/plain": [
       "array(['03/22/2019 ', '04/08/2019 ', '******12:11:58 ', '04/09/2019 ',\n",
       "       '******12:04:16 ', '******12:20:27 ', '******13:42:07 ',\n",
       "       '04/10/2019 ', '******13:46:01 '], dtype=object)"
      ]
     },
     "execution_count": 44,
     "metadata": {},
     "output_type": "execute_result"
    }
   ],
   "source": [
    "raw.Date.unique()"
   ]
  },
  {
   "cell_type": "code",
   "execution_count": 55,
   "metadata": {},
   "outputs": [],
   "source": [
    "raw_filter = raw[raw.Date=='04/10/2019 ']"
   ]
  },
  {
   "cell_type": "code",
   "execution_count": 56,
   "metadata": {},
   "outputs": [
    {
     "data": {
      "text/plain": [
       "(4368, 9)"
      ]
     },
     "execution_count": 56,
     "metadata": {},
     "output_type": "execute_result"
    }
   ],
   "source": [
    "raw_filter.shape"
   ]
  },
  {
   "cell_type": "code",
   "execution_count": 57,
   "metadata": {},
   "outputs": [
    {
     "data": {
      "text/plain": [
       "'sam_FR_10Apr20.pkl'"
      ]
     },
     "execution_count": 57,
     "metadata": {},
     "output_type": "execute_result"
    }
   ],
   "source": [
    "name = 'sam'\n",
    "location = 'FR'\n",
    "date = datetime(2020,4,10)\n",
    "output_file = '{}_{}_{}.pkl'.format(name,location,date.strftime('%d%b%y'))\n",
    "output_file"
   ]
  },
  {
   "cell_type": "code",
   "execution_count": 58,
   "metadata": {},
   "outputs": [],
   "source": [
    "raw_filter.to_pickle('raw_split_files/'+output_file)"
   ]
  },
  {
   "cell_type": "code",
   "execution_count": 59,
   "metadata": {},
   "outputs": [
    {
     "data": {
      "image/png": "[encoded data removed]",
      "text/plain": [
       "<Figure size 720x576 with 1 Axes>"
      ]
     },
     "metadata": {
      "needs_background": "light"
     },
     "output_type": "display_data"
    }
   ],
   "source": [
    "fig, ax = plt.subplots(figsize=(10,8))\n",
    "raw_filter['GPS_Alt'].plot(ax=ax, title='GPS Plot')\n",
    "plt.show()\n",
    "#raw_filter['GPS_Alt'].plot()"
   ]
  },
  {
   "cell_type": "markdown",
   "metadata": {},
   "source": [
    "### Luigi Process"
   ]
  },
  {
   "cell_type": "code",
   "execution_count": 63,
   "metadata": {},
   "outputs": [],
   "source": [
    "process_all  = ProcessDirectory(inputDir=project_root+'raw_split_files/',outputDir=project_root+'processed_data/')"
   ]
  },
  {
   "cell_type": "code",
   "execution_count": 68,
   "metadata": {
    "scrolled": true
   },
   "outputs": [
    {
     "name": "stderr",
     "output_type": "stream",
     "text": [
      "DEBUG: Checking if ProcessDirectory(inputDir=/home/jjc/Projects/SkiTracker/raw_split_files/, outputDir=/home/jjc/Projects/SkiTracker/processed_data/) is complete\n",
      "DEBUG: Checking if ProcessTask(file_name=sam_FR_10Apr20.pkl, inputDir=/home/jjc/Projects/SkiTracker/raw_split_files/, outputDir=/home/jjc/Projects/SkiTracker/processed_data/) is complete\n",
      "DEBUG: Checking if ProcessTask(file_name=sam_FR_08Apr20.pkl, inputDir=/home/jjc/Projects/SkiTracker/raw_split_files/, outputDir=/home/jjc/Projects/SkiTracker/processed_data/) is complete\n",
      "DEBUG: Checking if ProcessTask(file_name=jon_BG_18Jan20.pkl, inputDir=/home/jjc/Projects/SkiTracker/raw_split_files/, outputDir=/home/jjc/Projects/SkiTracker/processed_data/) is complete\n",
      "DEBUG: Checking if ProcessTask(file_name=sam_FR_09Apr20.pkl, inputDir=/home/jjc/Projects/SkiTracker/raw_split_files/, outputDir=/home/jjc/Projects/SkiTracker/processed_data/) is complete\n",
      "DEBUG: Checking if ProcessTask(file_name=josh_BG_17Jan20.pkl, inputDir=/home/jjc/Projects/SkiTracker/raw_split_files/, outputDir=/home/jjc/Projects/SkiTracker/processed_data/) is complete\n",
      "INFO: Informed scheduler that task   ProcessDirectory__home_jjc_Projec__home_jjc_Projec_b34cf5893c   has status   PENDING\n",
      "INFO: Informed scheduler that task   ProcessTask_josh_BG_17Jan20___home_jjc_Projec__home_jjc_Projec_5826ca94fd   has status   DONE\n",
      "INFO: Informed scheduler that task   ProcessTask_sam_FR_09Apr20_p__home_jjc_Projec__home_jjc_Projec_01920cffa1   has status   DONE\n",
      "DEBUG: Checking if RawFile(path=/home/jjc/Projects/SkiTracker/raw_split_files/jon_BG_18Jan20.pkl) is complete\n",
      "INFO: Informed scheduler that task   ProcessTask_jon_BG_18Jan20_p__home_jjc_Projec__home_jjc_Projec_628be09850   has status   PENDING\n",
      "INFO: Informed scheduler that task   RawFile__home_jjc_Projec_cac0023367   has status   DONE\n",
      "INFO: Informed scheduler that task   ProcessTask_sam_FR_08Apr20_p__home_jjc_Projec__home_jjc_Projec_5b2989ae71   has status   DONE\n",
      "INFO: Informed scheduler that task   ProcessTask_sam_FR_10Apr20_p__home_jjc_Projec__home_jjc_Projec_f15c896e8d   has status   DONE\n",
      "INFO: Done scheduling tasks\n",
      "INFO: Running Worker with 1 processes\n",
      "DEBUG: Asking scheduler for work...\n",
      "DEBUG: Pending tasks: 2\n",
      "INFO: [pid 4042] Worker Worker(salt=213578570, workers=1, host=localhost, username=jjc, pid=4042) running   ProcessTask(file_name=jon_BG_18Jan20.pkl, inputDir=/home/jjc/Projects/SkiTracker/raw_split_files/, outputDir=/home/jjc/Projects/SkiTracker/processed_data/)\n",
      "INFO: [pid 4042] Worker Worker(salt=213578570, workers=1, host=localhost, username=jjc, pid=4042) done      ProcessTask(file_name=jon_BG_18Jan20.pkl, inputDir=/home/jjc/Projects/SkiTracker/raw_split_files/, outputDir=/home/jjc/Projects/SkiTracker/processed_data/)\n",
      "DEBUG: 1 running tasks, waiting for next task to finish\n",
      "INFO: Informed scheduler that task   ProcessTask_jon_BG_18Jan20_p__home_jjc_Projec__home_jjc_Projec_628be09850   has status   DONE\n",
      "DEBUG: Asking scheduler for work...\n",
      "DEBUG: Pending tasks: 1\n",
      "INFO: [pid 4042] Worker Worker(salt=213578570, workers=1, host=localhost, username=jjc, pid=4042) running   ProcessDirectory(inputDir=/home/jjc/Projects/SkiTracker/raw_split_files/, outputDir=/home/jjc/Projects/SkiTracker/processed_data/)\n",
      "INFO: [pid 4042] Worker Worker(salt=213578570, workers=1, host=localhost, username=jjc, pid=4042) done      ProcessDirectory(inputDir=/home/jjc/Projects/SkiTracker/raw_split_files/, outputDir=/home/jjc/Projects/SkiTracker/processed_data/)\n",
      "DEBUG: 1 running tasks, waiting for next task to finish\n",
      "INFO: Informed scheduler that task   ProcessDirectory__home_jjc_Projec__home_jjc_Projec_b34cf5893c   has status   DONE\n",
      "DEBUG: Asking scheduler for work...\n",
      "DEBUG: Done\n",
      "DEBUG: There are no more tasks to run at this time\n",
      "INFO: Worker Worker(salt=213578570, workers=1, host=localhost, username=jjc, pid=4042) was stopped. Shutting down Keep-Alive thread\n",
      "INFO: \n",
      "===== Luigi Execution Summary =====\n",
      "\n",
      "Scheduled 7 tasks of which:\n",
      "* 5 complete ones were encountered:\n",
      "    - 4 ProcessTask(file_name=josh_BG_17Jan20.pkl, inputDir=/home/jjc/Projects/SkiTracker/raw_split_files/, outputDir=/home/jjc/Projects/SkiTracker/processed_data/) ...\n",
      "    - 1 RawFile(path=/home/jjc/Projects/SkiTracker/raw_split_files/jon_BG_18Jan20.pkl)\n",
      "* 2 ran successfully:\n",
      "    - 1 ProcessDirectory(inputDir=/home/jjc/Projects/SkiTracker/raw_split_files/, outputDir=/home/jjc/Projects/SkiTracker/processed_data/)\n",
      "    - 1 ProcessTask(file_name=jon_BG_18Jan20.pkl, inputDir=/home/jjc/Projects/SkiTracker/raw_split_files/, outputDir=/home/jjc/Projects/SkiTracker/processed_data/)\n",
      "\n",
      "This progress looks :) because there were no failed tasks or missing dependencies\n",
      "\n",
      "===== Luigi Execution Summary =====\n",
      "\n"
     ]
    },
    {
     "data": {
      "text/plain": [
       "True"
      ]
     },
     "execution_count": 68,
     "metadata": {},
     "output_type": "execute_result"
    }
   ],
   "source": [
    "luigi.build([process_all],local_scheduler=True)"
   ]
  },
  {
   "cell_type": "code",
   "execution_count": null,
   "metadata": {},
   "outputs": [],
   "source": [
    "# debug"
   ]
  },
  {
   "cell_type": "code",
   "execution_count": 19,
   "metadata": {},
   "outputs": [],
   "source": [
    "df = pd.read_pickle('raw_split_files/josh_17Mar19.pkl')"
   ]
  },
  {
   "cell_type": "code",
   "execution_count": 20,
   "metadata": {},
   "outputs": [
    {
     "data": {
      "text/html": [
       "<div>\n",
       "<style scoped>\n",
       "    .dataframe tbody tr th:only-of-type {\n",
       "        vertical-align: middle;\n",
       "    }\n",
       "\n",
       "    .dataframe tbody tr th {\n",
       "        vertical-align: top;\n",
       "    }\n",
       "\n",
       "    .dataframe thead th {\n",
       "        text-align: right;\n",
       "    }\n",
       "</style>\n",
       "<table border=\"1\" class=\"dataframe\">\n",
       "  <thead>\n",
       "    <tr style=\"text-align: right;\">\n",
       "      <th></th>\n",
       "      <th>Date</th>\n",
       "      <th>Time</th>\n",
       "      <th>Lat</th>\n",
       "      <th>Lon</th>\n",
       "      <th>GPS_Alt</th>\n",
       "      <th>Pressure</th>\n",
       "      <th>Pres_Alt</th>\n",
       "      <th>Temp</th>\n",
       "      <th>Batt</th>\n",
       "    </tr>\n",
       "  </thead>\n",
       "  <tbody>\n",
       "    <tr>\n",
       "      <th>26034</th>\n",
       "      <td>03/17/2019</td>\n",
       "      <td>08:44:03</td>\n",
       "      <td>45.097191</td>\n",
       "      <td>6.069313</td>\n",
       "      <td>0.0</td>\n",
       "      <td>1.100222e+10</td>\n",
       "      <td>1859.802</td>\n",
       "      <td>23.4</td>\n",
       "      <td>4.022</td>\n",
       "    </tr>\n",
       "    <tr>\n",
       "      <th>26035</th>\n",
       "      <td>03/17/2019</td>\n",
       "      <td>08:44:04</td>\n",
       "      <td>45.097191</td>\n",
       "      <td>6.069315</td>\n",
       "      <td>1867.0</td>\n",
       "      <td>1.100222e+10</td>\n",
       "      <td>1860.903</td>\n",
       "      <td>23.4</td>\n",
       "      <td>3.945</td>\n",
       "    </tr>\n",
       "    <tr>\n",
       "      <th>26036</th>\n",
       "      <td>03/17/2019</td>\n",
       "      <td>08:44:05</td>\n",
       "      <td>45.097191</td>\n",
       "      <td>6.069309</td>\n",
       "      <td>1867.1</td>\n",
       "      <td>1.100222e+10</td>\n",
       "      <td>1860.602</td>\n",
       "      <td>23.4</td>\n",
       "      <td>3.925</td>\n",
       "    </tr>\n",
       "    <tr>\n",
       "      <th>26037</th>\n",
       "      <td>03/17/2019</td>\n",
       "      <td>08:44:06</td>\n",
       "      <td>45.097195</td>\n",
       "      <td>6.069302</td>\n",
       "      <td>1867.2</td>\n",
       "      <td>1.100222e+10</td>\n",
       "      <td>1859.802</td>\n",
       "      <td>23.5</td>\n",
       "      <td>3.938</td>\n",
       "    </tr>\n",
       "    <tr>\n",
       "      <th>26038</th>\n",
       "      <td>03/17/2019</td>\n",
       "      <td>08:44:07</td>\n",
       "      <td>45.097195</td>\n",
       "      <td>6.069293</td>\n",
       "      <td>1867.0</td>\n",
       "      <td>1.100222e+10</td>\n",
       "      <td>1860.703</td>\n",
       "      <td>23.5</td>\n",
       "      <td>3.938</td>\n",
       "    </tr>\n",
       "  </tbody>\n",
       "</table>\n",
       "</div>"
      ],
      "text/plain": [
       "              Date       Time        Lat       Lon  GPS_Alt      Pressure  \\\n",
       "26034  03/17/2019   08:44:03   45.097191  6.069313      0.0  1.100222e+10   \n",
       "26035  03/17/2019   08:44:04   45.097191  6.069315   1867.0  1.100222e+10   \n",
       "26036  03/17/2019   08:44:05   45.097191  6.069309   1867.1  1.100222e+10   \n",
       "26037  03/17/2019   08:44:06   45.097195  6.069302   1867.2  1.100222e+10   \n",
       "26038  03/17/2019   08:44:07   45.097195  6.069293   1867.0  1.100222e+10   \n",
       "\n",
       "       Pres_Alt  Temp   Batt  \n",
       "26034  1859.802  23.4  4.022  \n",
       "26035  1860.903  23.4  3.945  \n",
       "26036  1860.602  23.4  3.925  \n",
       "26037  1859.802  23.5  3.938  \n",
       "26038  1860.703  23.5  3.938  "
      ]
     },
     "execution_count": 20,
     "metadata": {},
     "output_type": "execute_result"
    }
   ],
   "source": [
    "df.head()"
   ]
  },
  {
   "cell_type": "code",
   "execution_count": 21,
   "metadata": {},
   "outputs": [],
   "source": [
    "from skitracker_utils import find_routes, prepare_data"
   ]
  },
  {
   "cell_type": "code",
   "execution_count": 22,
   "metadata": {},
   "outputs": [],
   "source": [
    "df = prepare_data(df)"
   ]
  },
  {
   "cell_type": "code",
   "execution_count": 23,
   "metadata": {},
   "outputs": [],
   "source": [
    "runs = find_routes(df)"
   ]
  },
  {
   "cell_type": "code",
   "execution_count": 24,
   "metadata": {},
   "outputs": [
    {
     "name": "stdout",
     "output_type": "stream",
     "text": [
      "0 5.814194836983694\n",
      "1 5.944191166440021\n",
      "2 6.355485670423555\n",
      "3 8.529248018342143\n",
      "4 8.976568430178716\n",
      "5 5.583955214190283\n",
      "6 6.4812934693615105\n",
      "7 4.6784004290629255\n",
      "8 5.334170275938502\n",
      "9 6.820314180491962\n",
      "10 6.891502908832487\n",
      "11 1.2122750699281015\n"
     ]
    }
   ],
   "source": [
    "for i, run in enumerate(runs):\n",
    "    print(i, run['scale'])"
   ]
  }
 ],
 "metadata": {
  "kernelspec": {
   "display_name": "Python 3",
   "language": "python",
   "name": "python3"
  },
  "language_info": {
   "codemirror_mode": {
    "name": "ipython",
    "version": 3
   },
   "file_extension": ".py",
   "mimetype": "text/x-python",
   "name": "python",
   "nbconvert_exporter": "python",
   "pygments_lexer": "ipython3",
   "version": "3.7.4"
  }
 },
 "nbformat": 4,
 "nbformat_minor": 2
}
