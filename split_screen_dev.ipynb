{
 "cells": [
  {
   "cell_type": "markdown",
   "id": "fd2be12e",
   "metadata": {},
   "source": [
    "* produce indivual gpx files (XML) aligned with 3d routes (json)"
   ]
  },
  {
   "cell_type": "code",
   "execution_count": 8,
   "id": "d6433e23",
   "metadata": {},
   "outputs": [],
   "source": [
    "import os\n",
    "import pandas as pd"
   ]
  },
  {
   "cell_type": "code",
   "execution_count": 9,
   "id": "01053744",
   "metadata": {},
   "outputs": [],
   "source": [
    "import json\n",
    "import gpxpy.gpx\n",
    "from skitracker_utils import normalise_run, prepare_data, find_routes"
   ]
  },
  {
   "cell_type": "code",
   "execution_count": 10,
   "id": "daaaa77a",
   "metadata": {},
   "outputs": [
    {
     "data": {
      "text/plain": [
       "['sam_FR_10Apr20.pkl',\n",
       " 'Josh_FR_26Feb23.pkl',\n",
       " 'Josh_FR_27Feb23.pkl',\n",
       " 'Josh_FR_28Feb23.pkl',\n",
       " 'josh_BG_17Jan20.pkl',\n",
       " 'sam_FR_09Apr20.pkl',\n",
       " 'sam_FR_08Apr20.pkl',\n",
       " 'jon_BG_18Jan20.pkl']"
      ]
     },
     "execution_count": 10,
     "metadata": {},
     "output_type": "execute_result"
    }
   ],
   "source": [
    "os.listdir('raw_split_files//')"
   ]
  },
  {
   "cell_type": "code",
   "execution_count": 11,
   "id": "0381e13f",
   "metadata": {},
   "outputs": [],
   "source": [
    "raw_pickle = 'Josh_FR_26Feb23.pkl'\n",
    "output_dir = 'split_screen_files/'\n",
    "input_dir = 'raw_split_files/'"
   ]
  },
  {
   "cell_type": "code",
   "execution_count": 12,
   "id": "1ba4f46f",
   "metadata": {},
   "outputs": [],
   "source": [
    "raw = pd.read_pickle(input_dir + raw_pickle)"
   ]
  },
  {
   "cell_type": "code",
   "execution_count": 13,
   "id": "9425a103",
   "metadata": {},
   "outputs": [],
   "source": [
    "df = prepare_data(raw)\n",
    "runs = find_routes(df)\n"
   ]
  },
  {
   "cell_type": "code",
   "execution_count": 15,
   "id": "e6c607f9",
   "metadata": {},
   "outputs": [],
   "source": [
    "for i, run in enumerate(runs):\n",
    "    prefix = f'test_{i}'\n",
    "    \n",
    "    save_gpx_and_json(run, prefix, output_dir)"
   ]
  },
  {
   "cell_type": "code",
   "execution_count": 14,
   "id": "89f89185",
   "metadata": {},
   "outputs": [],
   "source": [
    "def save_gpx_and_json(run, prefix, output_dir):\n",
    "    \n",
    "    run_data = run['run_data']\n",
    "    \n",
    "    # gpx / map file\n",
    "    gpx = gpxpy.gpx.GPX()\n",
    "    # Create first track in our GPX:\n",
    "    gpx_track = gpxpy.gpx.GPXTrack()\n",
    "    gpx.tracks.append(gpx_track)\n",
    "    \n",
    "    gpx_segment = gpxpy.gpx.GPXTrackSegment()\n",
    "    gpx_track.segments.append(gpx_segment)\n",
    "\n",
    "\n",
    "    points = run_data[['Lat', 'Lon', 'GPS_Alt']].values\n",
    "    # create points\n",
    "    for point in points:\n",
    "        gpx_segment.points.append(gpxpy.gpx.GPXTrackPoint(point[0], point[1], elevation=point[2]))\n",
    "\n",
    "    xml = gpx.to_xml()\n",
    "    \n",
    "    out_filename_gpx = prefix + '_gpx.xml'\n",
    "    with open(output_dir + out_filename_gpx, 'w') as f:\n",
    "        f.write(xml)\n",
    "    \n",
    "    # json / 3d file\n",
    "    run_data.rename(columns={'Lat': 'x', 'Lon': 'y', 'GPS_Alt': 'z', 'grad_colour': 'c'}, inplace=True)\n",
    "\n",
    "    colours = run_data['c'].copy()\n",
    "\n",
    "    values = normalise_run(run_data[['x', 'y', 'z']])\n",
    "\n",
    "    out_data = pd.concat((values, colours), axis=1)\n",
    "\n",
    "    json_values = out_data.to_dict(orient='records')\n",
    "\n",
    "    json_data = {}\n",
    "    json_data['scale'] = run['scale']\n",
    "    json_data['values'] = json_values\n",
    "\n",
    "    out_filename_json = prefix + '.json'\n",
    "    with open(output_dir + out_filename_json, 'w') as f:\n",
    "        json.dump(json_data, f)\n",
    "    "
   ]
  }
 ],
 "metadata": {
  "kernelspec": {
   "display_name": "Python 3 (ipykernel)",
   "language": "python",
   "name": "python3"
  },
  "language_info": {
   "codemirror_mode": {
    "name": "ipython",
    "version": 3
   },
   "file_extension": ".py",
   "mimetype": "text/x-python",
   "name": "python",
   "nbconvert_exporter": "python",
   "pygments_lexer": "ipython3",
   "version": "3.8.10"
  }
 },
 "nbformat": 4,
 "nbformat_minor": 5
}
