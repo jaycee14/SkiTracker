{
 "cells": [
  {
   "cell_type": "code",
   "execution_count": 19,
   "metadata": {},
   "outputs": [],
   "source": [
    "import pandas as pd\n",
    "import simplekml"
   ]
  },
  {
   "cell_type": "code",
   "execution_count": 2,
   "metadata": {},
   "outputs": [],
   "source": [
    "raw  =pd.read_csv(\"dataOut_20Jan18.csv\", header=None, names=['Date','Time','Lat','Lon','GPS_Alt','Pressure','Pres_Alt','Temp','Batt'])"
   ]
  },
  {
   "cell_type": "code",
   "execution_count": 13,
   "metadata": {},
   "outputs": [
    {
     "data": {
      "text/html": [
       "<div>\n",
       "<style scoped>\n",
       "    .dataframe tbody tr th:only-of-type {\n",
       "        vertical-align: middle;\n",
       "    }\n",
       "\n",
       "    .dataframe tbody tr th {\n",
       "        vertical-align: top;\n",
       "    }\n",
       "\n",
       "    .dataframe thead th {\n",
       "        text-align: right;\n",
       "    }\n",
       "</style>\n",
       "<table border=\"1\" class=\"dataframe\">\n",
       "  <thead>\n",
       "    <tr style=\"text-align: right;\">\n",
       "      <th></th>\n",
       "      <th>Date</th>\n",
       "      <th>Time</th>\n",
       "      <th>Lat</th>\n",
       "      <th>Lon</th>\n",
       "      <th>GPS_Alt</th>\n",
       "      <th>Pressure</th>\n",
       "      <th>Pres_Alt</th>\n",
       "      <th>Temp</th>\n",
       "      <th>Batt</th>\n",
       "      <th>Lat_Delta</th>\n",
       "      <th>Lon_Delta</th>\n",
       "    </tr>\n",
       "  </thead>\n",
       "  <tbody>\n",
       "    <tr>\n",
       "      <th>0</th>\n",
       "      <td>01/20/2018</td>\n",
       "      <td>10:11:38</td>\n",
       "      <td>42.264164</td>\n",
       "      <td>23.606268</td>\n",
       "      <td>1355.9</td>\n",
       "      <td>11100120102</td>\n",
       "      <td>1388.108</td>\n",
       "      <td>14.5</td>\n",
       "      <td>3.803</td>\n",
       "      <td>0.0</td>\n",
       "      <td>0.0</td>\n",
       "    </tr>\n",
       "    <tr>\n",
       "      <th>1</th>\n",
       "      <td>01/20/2018</td>\n",
       "      <td>10:11:39</td>\n",
       "      <td>42.264164</td>\n",
       "      <td>23.606268</td>\n",
       "      <td>1355.9</td>\n",
       "      <td>11100120120</td>\n",
       "      <td>1387.059</td>\n",
       "      <td>14.5</td>\n",
       "      <td>3.629</td>\n",
       "      <td>0.0</td>\n",
       "      <td>0.0</td>\n",
       "    </tr>\n",
       "    <tr>\n",
       "      <th>2</th>\n",
       "      <td>01/20/2018</td>\n",
       "      <td>10:11:40</td>\n",
       "      <td>42.264164</td>\n",
       "      <td>23.606268</td>\n",
       "      <td>1355.9</td>\n",
       "      <td>11100120211</td>\n",
       "      <td>1387.442</td>\n",
       "      <td>14.5</td>\n",
       "      <td>3.661</td>\n",
       "      <td>0.0</td>\n",
       "      <td>0.0</td>\n",
       "    </tr>\n",
       "    <tr>\n",
       "      <th>3</th>\n",
       "      <td>01/20/2018</td>\n",
       "      <td>10:11:41</td>\n",
       "      <td>42.264164</td>\n",
       "      <td>23.606268</td>\n",
       "      <td>1355.9</td>\n",
       "      <td>11100120201</td>\n",
       "      <td>1388.108</td>\n",
       "      <td>14.5</td>\n",
       "      <td>3.654</td>\n",
       "      <td>0.0</td>\n",
       "      <td>0.0</td>\n",
       "    </tr>\n",
       "    <tr>\n",
       "      <th>4</th>\n",
       "      <td>01/20/2018</td>\n",
       "      <td>10:11:42</td>\n",
       "      <td>42.264164</td>\n",
       "      <td>23.606268</td>\n",
       "      <td>1355.9</td>\n",
       "      <td>11100112212</td>\n",
       "      <td>1389.442</td>\n",
       "      <td>14.5</td>\n",
       "      <td>3.648</td>\n",
       "      <td>0.0</td>\n",
       "      <td>0.0</td>\n",
       "    </tr>\n",
       "  </tbody>\n",
       "</table>\n",
       "</div>"
      ],
      "text/plain": [
       "          Date       Time        Lat        Lon  GPS_Alt     Pressure  \\\n",
       "0  01/20/2018   10:11:38   42.264164  23.606268   1355.9  11100120102   \n",
       "1  01/20/2018   10:11:39   42.264164  23.606268   1355.9  11100120120   \n",
       "2  01/20/2018   10:11:40   42.264164  23.606268   1355.9  11100120211   \n",
       "3  01/20/2018   10:11:41   42.264164  23.606268   1355.9  11100120201   \n",
       "4  01/20/2018   10:11:42   42.264164  23.606268   1355.9  11100112212   \n",
       "\n",
       "   Pres_Alt  Temp   Batt  Lat_Delta  Lon_Delta  \n",
       "0  1388.108  14.5  3.803        0.0        0.0  \n",
       "1  1387.059  14.5  3.629        0.0        0.0  \n",
       "2  1387.442  14.5  3.661        0.0        0.0  \n",
       "3  1388.108  14.5  3.654        0.0        0.0  \n",
       "4  1389.442  14.5  3.648        0.0        0.0  "
      ]
     },
     "execution_count": 13,
     "metadata": {},
     "output_type": "execute_result"
    }
   ],
   "source": [
    "raw.head()"
   ]
  },
  {
   "cell_type": "code",
   "execution_count": 4,
   "metadata": {},
   "outputs": [
    {
     "data": {
      "text/plain": [
       "(4039, 9)"
      ]
     },
     "execution_count": 4,
     "metadata": {},
     "output_type": "execute_result"
    }
   ],
   "source": [
    "raw.shape"
   ]
  },
  {
   "cell_type": "code",
   "execution_count": 11,
   "metadata": {},
   "outputs": [],
   "source": [
    "raw['Lat_Delta']=raw.Lat[:-1] - raw.Lat[1:].values"
   ]
  },
  {
   "cell_type": "code",
   "execution_count": 12,
   "metadata": {},
   "outputs": [],
   "source": [
    "raw['Lon_Delta']=raw.Lon[:-1] - raw.Lon[1:].values"
   ]
  },
  {
   "cell_type": "code",
   "execution_count": 26,
   "metadata": {},
   "outputs": [],
   "source": [
    "data = raw[(raw.Lat_Delta > 0) | (raw.Lon_Delta >0)]"
   ]
  },
  {
   "cell_type": "code",
   "execution_count": 27,
   "metadata": {},
   "outputs": [
    {
     "data": {
      "text/html": [
       "<div>\n",
       "<style scoped>\n",
       "    .dataframe tbody tr th:only-of-type {\n",
       "        vertical-align: middle;\n",
       "    }\n",
       "\n",
       "    .dataframe tbody tr th {\n",
       "        vertical-align: top;\n",
       "    }\n",
       "\n",
       "    .dataframe thead th {\n",
       "        text-align: right;\n",
       "    }\n",
       "</style>\n",
       "<table border=\"1\" class=\"dataframe\">\n",
       "  <thead>\n",
       "    <tr style=\"text-align: right;\">\n",
       "      <th></th>\n",
       "      <th>Date</th>\n",
       "      <th>Time</th>\n",
       "      <th>Lat</th>\n",
       "      <th>Lon</th>\n",
       "      <th>GPS_Alt</th>\n",
       "      <th>Pressure</th>\n",
       "      <th>Pres_Alt</th>\n",
       "      <th>Temp</th>\n",
       "      <th>Batt</th>\n",
       "      <th>Lat_Delta</th>\n",
       "      <th>Lon_Delta</th>\n",
       "    </tr>\n",
       "  </thead>\n",
       "  <tbody>\n",
       "    <tr>\n",
       "      <th>12</th>\n",
       "      <td>01/20/2018</td>\n",
       "      <td>10:11:51</td>\n",
       "      <td>42.264164</td>\n",
       "      <td>23.606268</td>\n",
       "      <td>1355.9</td>\n",
       "      <td>11100112221</td>\n",
       "      <td>1389.252</td>\n",
       "      <td>14.6</td>\n",
       "      <td>3.622</td>\n",
       "      <td>0.005657</td>\n",
       "      <td>-0.004639</td>\n",
       "    </tr>\n",
       "    <tr>\n",
       "      <th>58</th>\n",
       "      <td>01/20/2018</td>\n",
       "      <td>12:01:21</td>\n",
       "      <td>42.258507</td>\n",
       "      <td>23.610907</td>\n",
       "      <td>1111.8</td>\n",
       "      <td>11020122012</td>\n",
       "      <td>1593.323</td>\n",
       "      <td>11.1</td>\n",
       "      <td>3.648</td>\n",
       "      <td>0.003391</td>\n",
       "      <td>0.001704</td>\n",
       "    </tr>\n",
       "    <tr>\n",
       "      <th>59</th>\n",
       "      <td>01/20/2018</td>\n",
       "      <td>12:01:22</td>\n",
       "      <td>42.255116</td>\n",
       "      <td>23.609203</td>\n",
       "      <td>1609.9</td>\n",
       "      <td>11020121210</td>\n",
       "      <td>1594.393</td>\n",
       "      <td>11.1</td>\n",
       "      <td>3.661</td>\n",
       "      <td>0.000054</td>\n",
       "      <td>0.000002</td>\n",
       "    </tr>\n",
       "    <tr>\n",
       "      <th>60</th>\n",
       "      <td>01/20/2018</td>\n",
       "      <td>12:01:24</td>\n",
       "      <td>42.255062</td>\n",
       "      <td>23.609201</td>\n",
       "      <td>1608.5</td>\n",
       "      <td>11020121000</td>\n",
       "      <td>1596.243</td>\n",
       "      <td>11.1</td>\n",
       "      <td>3.635</td>\n",
       "      <td>0.000019</td>\n",
       "      <td>-0.000014</td>\n",
       "    </tr>\n",
       "    <tr>\n",
       "      <th>61</th>\n",
       "      <td>01/20/2018</td>\n",
       "      <td>12:01:25</td>\n",
       "      <td>42.255043</td>\n",
       "      <td>23.609215</td>\n",
       "      <td>1605.1</td>\n",
       "      <td>11020120111</td>\n",
       "      <td>1597.897</td>\n",
       "      <td>11.1</td>\n",
       "      <td>3.622</td>\n",
       "      <td>0.000030</td>\n",
       "      <td>-0.000032</td>\n",
       "    </tr>\n",
       "  </tbody>\n",
       "</table>\n",
       "</div>"
      ],
      "text/plain": [
       "           Date       Time        Lat        Lon  GPS_Alt     Pressure  \\\n",
       "12  01/20/2018   10:11:51   42.264164  23.606268   1355.9  11100112221   \n",
       "58  01/20/2018   12:01:21   42.258507  23.610907   1111.8  11020122012   \n",
       "59  01/20/2018   12:01:22   42.255116  23.609203   1609.9  11020121210   \n",
       "60  01/20/2018   12:01:24   42.255062  23.609201   1608.5  11020121000   \n",
       "61  01/20/2018   12:01:25   42.255043  23.609215   1605.1  11020120111   \n",
       "\n",
       "    Pres_Alt  Temp   Batt  Lat_Delta  Lon_Delta  \n",
       "12  1389.252  14.6  3.622   0.005657  -0.004639  \n",
       "58  1593.323  11.1  3.648   0.003391   0.001704  \n",
       "59  1594.393  11.1  3.661   0.000054   0.000002  \n",
       "60  1596.243  11.1  3.635   0.000019  -0.000014  \n",
       "61  1597.897  11.1  3.622   0.000030  -0.000032  "
      ]
     },
     "execution_count": 27,
     "metadata": {},
     "output_type": "execute_result"
    }
   ],
   "source": [
    "data.head()"
   ]
  },
  {
   "cell_type": "code",
   "execution_count": 28,
   "metadata": {},
   "outputs": [
    {
     "data": {
      "text/plain": [
       "(2185, 11)"
      ]
     },
     "execution_count": 28,
     "metadata": {},
     "output_type": "execute_result"
    }
   ],
   "source": [
    "data.shape"
   ]
  },
  {
   "cell_type": "code",
   "execution_count": 29,
   "metadata": {},
   "outputs": [],
   "source": [
    "kml = simplekml.Kml(open=1)"
   ]
  },
  {
   "cell_type": "code",
   "execution_count": 30,
   "metadata": {},
   "outputs": [],
   "source": [
    "lineString = kml.newlinestring(name = \"Jan 2018\")"
   ]
  },
  {
   "cell_type": "code",
   "execution_count": 31,
   "metadata": {},
   "outputs": [],
   "source": [
    "lineCoords = []\n",
    "rel_data = data[['Lat','Lon','GPS_Alt']].values\n",
    "for tup in rel_data:\n",
    "    #1 = lon, 0 = lat, 2 = alt\n",
    "    lineCoords.append((tup[1],tup[0],tup[2]))"
   ]
  },
  {
   "cell_type": "code",
   "execution_count": 32,
   "metadata": {},
   "outputs": [],
   "source": [
    "lineString.coords = lineCoords"
   ]
  },
  {
   "cell_type": "code",
   "execution_count": 33,
   "metadata": {},
   "outputs": [],
   "source": [
    "kml.save(\"Jan18_line.kml\")"
   ]
  }
 ],
 "metadata": {
  "kernelspec": {
   "display_name": "Python 2",
   "language": "python",
   "name": "python2"
  },
  "language_info": {
   "codemirror_mode": {
    "name": "ipython",
    "version": 2
   },
   "file_extension": ".py",
   "mimetype": "text/x-python",
   "name": "python",
   "nbconvert_exporter": "python",
   "pygments_lexer": "ipython2",
   "version": "2.7.6"
  }
 },
 "nbformat": 4,
 "nbformat_minor": 2
}
