{
 "cells": [
  {
   "cell_type": "code",
   "execution_count": 1,
   "metadata": {},
   "outputs": [],
   "source": [
    "import pandas as pd\n",
    "import simplekml"
   ]
  },
  {
   "cell_type": "code",
   "execution_count": 2,
   "metadata": {},
   "outputs": [],
   "source": [
    "raw  =pd.read_csv(\"dataOut_14March18.csv\", header=None, names=['Date','Time','Lat','Lon','GPS_Alt','Pressure','Pres_Alt','Temp','Batt'])"
   ]
  },
  {
   "cell_type": "code",
   "execution_count": 3,
   "metadata": {},
   "outputs": [
    {
     "data": {
      "text/html": [
       "<div>\n",
       "<style scoped>\n",
       "    .dataframe tbody tr th:only-of-type {\n",
       "        vertical-align: middle;\n",
       "    }\n",
       "\n",
       "    .dataframe tbody tr th {\n",
       "        vertical-align: top;\n",
       "    }\n",
       "\n",
       "    .dataframe thead th {\n",
       "        text-align: right;\n",
       "    }\n",
       "</style>\n",
       "<table border=\"1\" class=\"dataframe\">\n",
       "  <thead>\n",
       "    <tr style=\"text-align: right;\">\n",
       "      <th></th>\n",
       "      <th>Date</th>\n",
       "      <th>Time</th>\n",
       "      <th>Lat</th>\n",
       "      <th>Lon</th>\n",
       "      <th>GPS_Alt</th>\n",
       "      <th>Pressure</th>\n",
       "      <th>Pres_Alt</th>\n",
       "      <th>Temp</th>\n",
       "      <th>Batt</th>\n",
       "    </tr>\n",
       "  </thead>\n",
       "  <tbody>\n",
       "    <tr>\n",
       "      <th>0</th>\n",
       "      <td>Initializing SD card...card initialized.</td>\n",
       "      <td>NaN</td>\n",
       "      <td>NaN</td>\n",
       "      <td>NaN</td>\n",
       "      <td>NaN</td>\n",
       "      <td>NaN</td>\n",
       "      <td>NaN</td>\n",
       "      <td>NaN</td>\n",
       "      <td>NaN</td>\n",
       "    </tr>\n",
       "    <tr>\n",
       "      <th>1</th>\n",
       "      <td>03/14/2018</td>\n",
       "      <td>08:17:34</td>\n",
       "      <td>45.015327</td>\n",
       "      <td>6.127997</td>\n",
       "      <td>1686.2</td>\n",
       "      <td>1.101200e+10</td>\n",
       "      <td>1706.225</td>\n",
       "      <td>17.9</td>\n",
       "      <td>3.957</td>\n",
       "    </tr>\n",
       "    <tr>\n",
       "      <th>2</th>\n",
       "      <td>03/14/2018</td>\n",
       "      <td>08:17:35</td>\n",
       "      <td>45.015331</td>\n",
       "      <td>6.127996</td>\n",
       "      <td>1685.9</td>\n",
       "      <td>1.101200e+10</td>\n",
       "      <td>1706.225</td>\n",
       "      <td>17.9</td>\n",
       "      <td>3.874</td>\n",
       "    </tr>\n",
       "    <tr>\n",
       "      <th>3</th>\n",
       "      <td>03/14/2018</td>\n",
       "      <td>08:17:36</td>\n",
       "      <td>45.015335</td>\n",
       "      <td>6.127997</td>\n",
       "      <td>1685.6</td>\n",
       "      <td>1.101200e+10</td>\n",
       "      <td>1706.127</td>\n",
       "      <td>17.9</td>\n",
       "      <td>3.874</td>\n",
       "    </tr>\n",
       "    <tr>\n",
       "      <th>4</th>\n",
       "      <td>03/14/2018</td>\n",
       "      <td>08:17:38</td>\n",
       "      <td>45.015339</td>\n",
       "      <td>6.127992</td>\n",
       "      <td>1685.6</td>\n",
       "      <td>1.101200e+10</td>\n",
       "      <td>1706.325</td>\n",
       "      <td>17.9</td>\n",
       "      <td>3.867</td>\n",
       "    </tr>\n",
       "  </tbody>\n",
       "</table>\n",
       "</div>"
      ],
      "text/plain": [
       "                                       Date       Time        Lat       Lon  \\\n",
       "0  Initializing SD card...card initialized.        NaN        NaN       NaN   \n",
       "1                               03/14/2018   08:17:34   45.015327  6.127997   \n",
       "2                               03/14/2018   08:17:35   45.015331  6.127996   \n",
       "3                               03/14/2018   08:17:36   45.015335  6.127997   \n",
       "4                               03/14/2018   08:17:38   45.015339  6.127992   \n",
       "\n",
       "   GPS_Alt      Pressure  Pres_Alt  Temp   Batt  \n",
       "0      NaN           NaN       NaN   NaN    NaN  \n",
       "1   1686.2  1.101200e+10  1706.225  17.9  3.957  \n",
       "2   1685.9  1.101200e+10  1706.225  17.9  3.874  \n",
       "3   1685.6  1.101200e+10  1706.127  17.9  3.874  \n",
       "4   1685.6  1.101200e+10  1706.325  17.9  3.867  "
      ]
     },
     "execution_count": 3,
     "metadata": {},
     "output_type": "execute_result"
    }
   ],
   "source": [
    "raw.head()"
   ]
  },
  {
   "cell_type": "code",
   "execution_count": 4,
   "metadata": {},
   "outputs": [
    {
     "data": {
      "text/plain": [
       "(24068, 9)"
      ]
     },
     "execution_count": 4,
     "metadata": {},
     "output_type": "execute_result"
    }
   ],
   "source": [
    "raw.shape"
   ]
  },
  {
   "cell_type": "code",
   "execution_count": 5,
   "metadata": {},
   "outputs": [
    {
     "name": "stderr",
     "output_type": "stream",
     "text": [
      "/usr/local/lib/python2.7/dist-packages/pandas/core/computation/check.py:17: UserWarning: The installed version of numexpr 2.2.2 is not supported in pandas and will be not be used\n",
      "The minimum supported version is 2.4.6\n",
      "\n",
      "  ver=ver, min_ver=_MIN_NUMEXPR_VERSION), UserWarning)\n"
     ]
    }
   ],
   "source": [
    "raw['Lat_Delta']=raw.Lat[:-1] - raw.Lat[1:].values"
   ]
  },
  {
   "cell_type": "code",
   "execution_count": 6,
   "metadata": {},
   "outputs": [],
   "source": [
    "raw['Lon_Delta']=raw.Lon[:-1] - raw.Lon[1:].values"
   ]
  },
  {
   "cell_type": "code",
   "execution_count": 7,
   "metadata": {},
   "outputs": [],
   "source": [
    "data = raw[(raw.Lat_Delta > 0) | (raw.Lon_Delta >0)]"
   ]
  },
  {
   "cell_type": "code",
   "execution_count": 8,
   "metadata": {},
   "outputs": [
    {
     "data": {
      "text/html": [
       "<div>\n",
       "<style scoped>\n",
       "    .dataframe tbody tr th:only-of-type {\n",
       "        vertical-align: middle;\n",
       "    }\n",
       "\n",
       "    .dataframe tbody tr th {\n",
       "        vertical-align: top;\n",
       "    }\n",
       "\n",
       "    .dataframe thead th {\n",
       "        text-align: right;\n",
       "    }\n",
       "</style>\n",
       "<table border=\"1\" class=\"dataframe\">\n",
       "  <thead>\n",
       "    <tr style=\"text-align: right;\">\n",
       "      <th></th>\n",
       "      <th>Date</th>\n",
       "      <th>Time</th>\n",
       "      <th>Lat</th>\n",
       "      <th>Lon</th>\n",
       "      <th>GPS_Alt</th>\n",
       "      <th>Pressure</th>\n",
       "      <th>Pres_Alt</th>\n",
       "      <th>Temp</th>\n",
       "      <th>Batt</th>\n",
       "      <th>Lat_Delta</th>\n",
       "      <th>Lon_Delta</th>\n",
       "    </tr>\n",
       "  </thead>\n",
       "  <tbody>\n",
       "    <tr>\n",
       "      <th>1</th>\n",
       "      <td>03/14/2018</td>\n",
       "      <td>08:17:34</td>\n",
       "      <td>45.015327</td>\n",
       "      <td>6.127997</td>\n",
       "      <td>1686.2</td>\n",
       "      <td>1.101200e+10</td>\n",
       "      <td>1706.225</td>\n",
       "      <td>17.9</td>\n",
       "      <td>3.957</td>\n",
       "      <td>-0.000004</td>\n",
       "      <td>5.000000e-07</td>\n",
       "    </tr>\n",
       "    <tr>\n",
       "      <th>3</th>\n",
       "      <td>03/14/2018</td>\n",
       "      <td>08:17:36</td>\n",
       "      <td>45.015335</td>\n",
       "      <td>6.127997</td>\n",
       "      <td>1685.6</td>\n",
       "      <td>1.101200e+10</td>\n",
       "      <td>1706.127</td>\n",
       "      <td>17.9</td>\n",
       "      <td>3.874</td>\n",
       "      <td>-0.000004</td>\n",
       "      <td>5.200000e-06</td>\n",
       "    </tr>\n",
       "    <tr>\n",
       "      <th>4</th>\n",
       "      <td>03/14/2018</td>\n",
       "      <td>08:17:38</td>\n",
       "      <td>45.015339</td>\n",
       "      <td>6.127992</td>\n",
       "      <td>1685.6</td>\n",
       "      <td>1.101200e+10</td>\n",
       "      <td>1706.325</td>\n",
       "      <td>17.9</td>\n",
       "      <td>3.867</td>\n",
       "      <td>-0.000011</td>\n",
       "      <td>2.000000e-06</td>\n",
       "    </tr>\n",
       "    <tr>\n",
       "      <th>5</th>\n",
       "      <td>03/14/2018</td>\n",
       "      <td>08:17:39</td>\n",
       "      <td>45.015350</td>\n",
       "      <td>6.127990</td>\n",
       "      <td>1684.4</td>\n",
       "      <td>1.101200e+10</td>\n",
       "      <td>1706.225</td>\n",
       "      <td>17.9</td>\n",
       "      <td>3.874</td>\n",
       "      <td>-0.000016</td>\n",
       "      <td>2.300000e-06</td>\n",
       "    </tr>\n",
       "    <tr>\n",
       "      <th>6</th>\n",
       "      <td>03/14/2018</td>\n",
       "      <td>08:17:40</td>\n",
       "      <td>45.015366</td>\n",
       "      <td>6.127988</td>\n",
       "      <td>1683.6</td>\n",
       "      <td>1.101200e+10</td>\n",
       "      <td>1706.127</td>\n",
       "      <td>17.9</td>\n",
       "      <td>3.887</td>\n",
       "      <td>-0.000011</td>\n",
       "      <td>3.400000e-06</td>\n",
       "    </tr>\n",
       "  </tbody>\n",
       "</table>\n",
       "</div>"
      ],
      "text/plain": [
       "          Date       Time        Lat       Lon  GPS_Alt      Pressure  \\\n",
       "1  03/14/2018   08:17:34   45.015327  6.127997   1686.2  1.101200e+10   \n",
       "3  03/14/2018   08:17:36   45.015335  6.127997   1685.6  1.101200e+10   \n",
       "4  03/14/2018   08:17:38   45.015339  6.127992   1685.6  1.101200e+10   \n",
       "5  03/14/2018   08:17:39   45.015350  6.127990   1684.4  1.101200e+10   \n",
       "6  03/14/2018   08:17:40   45.015366  6.127988   1683.6  1.101200e+10   \n",
       "\n",
       "   Pres_Alt  Temp   Batt  Lat_Delta     Lon_Delta  \n",
       "1  1706.225  17.9  3.957  -0.000004  5.000000e-07  \n",
       "3  1706.127  17.9  3.874  -0.000004  5.200000e-06  \n",
       "4  1706.325  17.9  3.867  -0.000011  2.000000e-06  \n",
       "5  1706.225  17.9  3.874  -0.000016  2.300000e-06  \n",
       "6  1706.127  17.9  3.887  -0.000011  3.400000e-06  "
      ]
     },
     "execution_count": 8,
     "metadata": {},
     "output_type": "execute_result"
    }
   ],
   "source": [
    "data.head()"
   ]
  },
  {
   "cell_type": "code",
   "execution_count": 9,
   "metadata": {},
   "outputs": [
    {
     "data": {
      "text/plain": [
       "(14798, 11)"
      ]
     },
     "execution_count": 9,
     "metadata": {},
     "output_type": "execute_result"
    }
   ],
   "source": [
    "data.shape"
   ]
  },
  {
   "cell_type": "code",
   "execution_count": 10,
   "metadata": {},
   "outputs": [],
   "source": [
    "kml = simplekml.Kml(open=1)"
   ]
  },
  {
   "cell_type": "code",
   "execution_count": 11,
   "metadata": {},
   "outputs": [],
   "source": [
    "lineString = kml.newlinestring(name = \"Jan 2018\")"
   ]
  },
  {
   "cell_type": "code",
   "execution_count": 12,
   "metadata": {},
   "outputs": [],
   "source": [
    "lineCoords = []\n",
    "rel_data = data[['Lat','Lon','GPS_Alt']].values\n",
    "for tup in rel_data:\n",
    "    #1 = lon, 0 = lat, 2 = alt\n",
    "    lineCoords.append((tup[1],tup[0],tup[2]))"
   ]
  },
  {
   "cell_type": "code",
   "execution_count": 13,
   "metadata": {},
   "outputs": [],
   "source": [
    "lineString.coords = lineCoords"
   ]
  },
  {
   "cell_type": "code",
   "execution_count": 14,
   "metadata": {},
   "outputs": [],
   "source": [
    "kml.save(\"14Mar18_line.kml\")"
   ]
  }
 ],
 "metadata": {
  "kernelspec": {
   "display_name": "Python 3",
   "language": "python",
   "name": "python3"
  },
  "language_info": {
   "codemirror_mode": {
    "name": "ipython",
    "version": 3
   },
   "file_extension": ".py",
   "mimetype": "text/x-python",
   "name": "python",
   "nbconvert_exporter": "python",
   "pygments_lexer": "ipython3",
   "version": "3.6.5"
  }
 },
 "nbformat": 4,
 "nbformat_minor": 2
}
