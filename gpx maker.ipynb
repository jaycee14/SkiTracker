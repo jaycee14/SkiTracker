{
 "cells": [
  {
   "cell_type": "code",
   "execution_count": 1,
   "metadata": {},
   "outputs": [],
   "source": [
    "import pandas as pd\n",
    "import numpy as np\n",
    "import gpxpy.gpx"
   ]
  },
  {
   "cell_type": "code",
   "execution_count": 2,
   "metadata": {},
   "outputs": [],
   "source": [
    "data = pd.read_pickle('processed_data/simple_filter_14Mar18.pkl')"
   ]
  },
  {
   "cell_type": "code",
   "execution_count": 5,
   "metadata": {},
   "outputs": [
    {
     "data": {
      "text/html": [
       "<div>\n",
       "<style scoped>\n",
       "    .dataframe tbody tr th:only-of-type {\n",
       "        vertical-align: middle;\n",
       "    }\n",
       "\n",
       "    .dataframe tbody tr th {\n",
       "        vertical-align: top;\n",
       "    }\n",
       "\n",
       "    .dataframe thead th {\n",
       "        text-align: right;\n",
       "    }\n",
       "</style>\n",
       "<table border=\"1\" class=\"dataframe\">\n",
       "  <thead>\n",
       "    <tr style=\"text-align: right;\">\n",
       "      <th></th>\n",
       "      <th>Date</th>\n",
       "      <th>Time</th>\n",
       "      <th>Lat</th>\n",
       "      <th>Lon</th>\n",
       "      <th>GPS_Alt</th>\n",
       "      <th>Pressure</th>\n",
       "      <th>Pres_Alt</th>\n",
       "      <th>Temp</th>\n",
       "      <th>Batt</th>\n",
       "      <th>Lat_Delta</th>\n",
       "      <th>Lon_Delta</th>\n",
       "    </tr>\n",
       "  </thead>\n",
       "  <tbody>\n",
       "    <tr>\n",
       "      <th>1</th>\n",
       "      <td>03/14/2018</td>\n",
       "      <td>08:17:34</td>\n",
       "      <td>45.015327</td>\n",
       "      <td>6.127997</td>\n",
       "      <td>1686.2</td>\n",
       "      <td>1.101200e+10</td>\n",
       "      <td>1706.225</td>\n",
       "      <td>17.9</td>\n",
       "      <td>3.957</td>\n",
       "      <td>-0.000004</td>\n",
       "      <td>5.000000e-07</td>\n",
       "    </tr>\n",
       "    <tr>\n",
       "      <th>3</th>\n",
       "      <td>03/14/2018</td>\n",
       "      <td>08:17:36</td>\n",
       "      <td>45.015335</td>\n",
       "      <td>6.127997</td>\n",
       "      <td>1685.6</td>\n",
       "      <td>1.101200e+10</td>\n",
       "      <td>1706.127</td>\n",
       "      <td>17.9</td>\n",
       "      <td>3.874</td>\n",
       "      <td>-0.000004</td>\n",
       "      <td>5.200000e-06</td>\n",
       "    </tr>\n",
       "    <tr>\n",
       "      <th>4</th>\n",
       "      <td>03/14/2018</td>\n",
       "      <td>08:17:38</td>\n",
       "      <td>45.015339</td>\n",
       "      <td>6.127992</td>\n",
       "      <td>1685.6</td>\n",
       "      <td>1.101200e+10</td>\n",
       "      <td>1706.325</td>\n",
       "      <td>17.9</td>\n",
       "      <td>3.867</td>\n",
       "      <td>-0.000011</td>\n",
       "      <td>2.000000e-06</td>\n",
       "    </tr>\n",
       "  </tbody>\n",
       "</table>\n",
       "</div>"
      ],
      "text/plain": [
       "          Date       Time        Lat       Lon  GPS_Alt      Pressure  \\\n",
       "1  03/14/2018   08:17:34   45.015327  6.127997   1686.2  1.101200e+10   \n",
       "3  03/14/2018   08:17:36   45.015335  6.127997   1685.6  1.101200e+10   \n",
       "4  03/14/2018   08:17:38   45.015339  6.127992   1685.6  1.101200e+10   \n",
       "\n",
       "   Pres_Alt  Temp   Batt  Lat_Delta     Lon_Delta  \n",
       "1  1706.225  17.9  3.957  -0.000004  5.000000e-07  \n",
       "3  1706.127  17.9  3.874  -0.000004  5.200000e-06  \n",
       "4  1706.325  17.9  3.867  -0.000011  2.000000e-06  "
      ]
     },
     "execution_count": 5,
     "metadata": {},
     "output_type": "execute_result"
    }
   ],
   "source": [
    "data.head(3)"
   ]
  },
  {
   "cell_type": "code",
   "execution_count": 3,
   "metadata": {},
   "outputs": [],
   "source": [
    "gpx = gpxpy.gpx.GPX()\n",
    "# Create first track in our GPX:\n",
    "gpx_track = gpxpy.gpx.GPXTrack()\n",
    "gpx.tracks.append(gpx_track)"
   ]
  },
  {
   "cell_type": "code",
   "execution_count": 4,
   "metadata": {},
   "outputs": [],
   "source": [
    "# Create first segment in our GPX track:\n",
    "gpx_segment = gpxpy.gpx.GPXTrackSegment()\n",
    "gpx_track.segments.append(gpx_segment)"
   ]
  },
  {
   "cell_type": "code",
   "execution_count": 6,
   "metadata": {},
   "outputs": [],
   "source": [
    "points = data[['Lat','Lon','GPS_Alt']].values"
   ]
  },
  {
   "cell_type": "code",
   "execution_count": 8,
   "metadata": {},
   "outputs": [
    {
     "data": {
      "text/plain": [
       "(14798, 3)"
      ]
     },
     "execution_count": 8,
     "metadata": {},
     "output_type": "execute_result"
    }
   ],
   "source": [
    "points.shape"
   ]
  },
  {
   "cell_type": "code",
   "execution_count": 9,
   "metadata": {},
   "outputs": [],
   "source": [
    "#create points\n",
    "for point in points:\n",
    "    gpx_segment.points.append(gpxpy.gpx.GPXTrackPoint(point[0],point[1], elevation=point[2]))"
   ]
  },
  {
   "cell_type": "code",
   "execution_count": 10,
   "metadata": {},
   "outputs": [],
   "source": [
    "xml = gpx.to_xml()"
   ]
  },
  {
   "cell_type": "code",
   "execution_count": 12,
   "metadata": {},
   "outputs": [],
   "source": [
    "with open('gpx_14Mar18.xml','w') as f:\n",
    "    f.write(xml)"
   ]
  },
  {
   "cell_type": "code",
   "execution_count": null,
   "metadata": {},
   "outputs": [],
   "source": []
  }
 ],
 "metadata": {
  "kernelspec": {
   "display_name": "Python 3",
   "language": "python",
   "name": "python3"
  },
  "language_info": {
   "codemirror_mode": {
    "name": "ipython",
    "version": 3
   },
   "file_extension": ".py",
   "mimetype": "text/x-python",
   "name": "python",
   "nbconvert_exporter": "python",
   "pygments_lexer": "ipython3",
   "version": "3.6.5"
  }
 },
 "nbformat": 4,
 "nbformat_minor": 2
}
