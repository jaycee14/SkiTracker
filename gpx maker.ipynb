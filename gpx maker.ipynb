{
 "cells": [
  {
   "cell_type": "code",
   "execution_count": 1,
   "metadata": {},
   "outputs": [],
   "source": [
    "import pandas as pd\n",
    "import numpy as np\n",
    "import gpxpy.gpx"
   ]
  },
  {
   "cell_type": "code",
   "execution_count": 11,
   "metadata": {},
   "outputs": [],
   "source": [
    "data = pd.read_pickle('processed_data/ross_17Mar18_py34.pkl')"
   ]
  },
  {
   "cell_type": "code",
   "execution_count": 12,
   "metadata": {},
   "outputs": [
    {
     "data": {
      "text/html": [
       "<div>\n",
       "<style scoped>\n",
       "    .dataframe tbody tr th:only-of-type {\n",
       "        vertical-align: middle;\n",
       "    }\n",
       "\n",
       "    .dataframe tbody tr th {\n",
       "        vertical-align: top;\n",
       "    }\n",
       "\n",
       "    .dataframe thead th {\n",
       "        text-align: right;\n",
       "    }\n",
       "</style>\n",
       "<table border=\"1\" class=\"dataframe\">\n",
       "  <thead>\n",
       "    <tr style=\"text-align: right;\">\n",
       "      <th></th>\n",
       "      <th>Date</th>\n",
       "      <th>Time</th>\n",
       "      <th>Lat</th>\n",
       "      <th>Lon</th>\n",
       "      <th>GPS_Alt</th>\n",
       "      <th>Pressure</th>\n",
       "      <th>Pres_Alt</th>\n",
       "      <th>Temp</th>\n",
       "      <th>Batt</th>\n",
       "      <th>Lat_Rad</th>\n",
       "      <th>Lon_Rad</th>\n",
       "      <th>Lat_Delta</th>\n",
       "      <th>Lon_Delta</th>\n",
       "      <th>Lat_Rad_Delta</th>\n",
       "      <th>Lon_Rad_Delta</th>\n",
       "      <th>GPS_Alt_Delta</th>\n",
       "      <th>distance</th>\n",
       "      <th>gradient</th>\n",
       "      <th>grad_colour</th>\n",
       "    </tr>\n",
       "  </thead>\n",
       "  <tbody>\n",
       "    <tr>\n",
       "      <th>204</th>\n",
       "      <td>03/17/2019</td>\n",
       "      <td>07:57:03</td>\n",
       "      <td>45.090870</td>\n",
       "      <td>6.063509</td>\n",
       "      <td>1767.1</td>\n",
       "      <td>81883.312</td>\n",
       "      <td>1761.245</td>\n",
       "      <td>21.29</td>\n",
       "      <td>4.254</td>\n",
       "      <td>0.786984</td>\n",
       "      <td>0.105828</td>\n",
       "      <td>-0.000018</td>\n",
       "      <td>-0.000018</td>\n",
       "      <td>-3.169518e-07</td>\n",
       "      <td>-3.054326e-07</td>\n",
       "      <td>NaN</td>\n",
       "      <td>2.443071</td>\n",
       "      <td>NaN</td>\n",
       "      <td>2</td>\n",
       "    </tr>\n",
       "    <tr>\n",
       "      <th>205</th>\n",
       "      <td>03/17/2019</td>\n",
       "      <td>07:57:04</td>\n",
       "      <td>45.090888</td>\n",
       "      <td>6.063527</td>\n",
       "      <td>1769.1</td>\n",
       "      <td>81882.141</td>\n",
       "      <td>1761.362</td>\n",
       "      <td>21.30</td>\n",
       "      <td>4.254</td>\n",
       "      <td>0.786984</td>\n",
       "      <td>0.105829</td>\n",
       "      <td>0.000006</td>\n",
       "      <td>0.000002</td>\n",
       "      <td>1.047198e-07</td>\n",
       "      <td>3.490659e-08</td>\n",
       "      <td>2.0</td>\n",
       "      <td>0.685609</td>\n",
       "      <td>18.921958</td>\n",
       "      <td>0</td>\n",
       "    </tr>\n",
       "    <tr>\n",
       "      <th>206</th>\n",
       "      <td>03/17/2019</td>\n",
       "      <td>07:57:05</td>\n",
       "      <td>45.090882</td>\n",
       "      <td>6.063524</td>\n",
       "      <td>1769.7</td>\n",
       "      <td>81881.656</td>\n",
       "      <td>1761.409</td>\n",
       "      <td>21.30</td>\n",
       "      <td>4.254</td>\n",
       "      <td>0.786984</td>\n",
       "      <td>0.105828</td>\n",
       "      <td>0.000019</td>\n",
       "      <td>0.000013</td>\n",
       "      <td>3.316126e-07</td>\n",
       "      <td>2.239257e-07</td>\n",
       "      <td>0.6</td>\n",
       "      <td>2.341232</td>\n",
       "      <td>75.625857</td>\n",
       "      <td>0</td>\n",
       "    </tr>\n",
       "  </tbody>\n",
       "</table>\n",
       "</div>"
      ],
      "text/plain": [
       "            Date       Time        Lat       Lon  GPS_Alt   Pressure  \\\n",
       "204  03/17/2019   07:57:03   45.090870  6.063509   1767.1  81883.312   \n",
       "205  03/17/2019   07:57:04   45.090888  6.063527   1769.1  81882.141   \n",
       "206  03/17/2019   07:57:05   45.090882  6.063524   1769.7  81881.656   \n",
       "\n",
       "     Pres_Alt   Temp   Batt   Lat_Rad   Lon_Rad  Lat_Delta  Lon_Delta  \\\n",
       "204  1761.245  21.29  4.254  0.786984  0.105828  -0.000018  -0.000018   \n",
       "205  1761.362  21.30  4.254  0.786984  0.105829   0.000006   0.000002   \n",
       "206  1761.409  21.30  4.254  0.786984  0.105828   0.000019   0.000013   \n",
       "\n",
       "     Lat_Rad_Delta  Lon_Rad_Delta  GPS_Alt_Delta  distance   gradient  \\\n",
       "204  -3.169518e-07  -3.054326e-07            NaN  2.443071        NaN   \n",
       "205   1.047198e-07   3.490659e-08            2.0  0.685609  18.921958   \n",
       "206   3.316126e-07   2.239257e-07            0.6  2.341232  75.625857   \n",
       "\n",
       "     grad_colour  \n",
       "204            2  \n",
       "205            0  \n",
       "206            0  "
      ]
     },
     "execution_count": 12,
     "metadata": {},
     "output_type": "execute_result"
    }
   ],
   "source": [
    "data.head(3)"
   ]
  },
  {
   "cell_type": "code",
   "execution_count": 13,
   "metadata": {},
   "outputs": [],
   "source": [
    "gpx = gpxpy.gpx.GPX()\n",
    "# Create first track in our GPX:\n",
    "gpx_track = gpxpy.gpx.GPXTrack()\n",
    "gpx.tracks.append(gpx_track)"
   ]
  },
  {
   "cell_type": "code",
   "execution_count": 14,
   "metadata": {},
   "outputs": [],
   "source": [
    "# Create first segment in our GPX track:\n",
    "gpx_segment = gpxpy.gpx.GPXTrackSegment()\n",
    "gpx_track.segments.append(gpx_segment)"
   ]
  },
  {
   "cell_type": "code",
   "execution_count": 15,
   "metadata": {},
   "outputs": [],
   "source": [
    "points = data[['Lat','Lon','GPS_Alt']].values"
   ]
  },
  {
   "cell_type": "code",
   "execution_count": 16,
   "metadata": {},
   "outputs": [
    {
     "data": {
      "text/plain": [
       "(42574, 3)"
      ]
     },
     "execution_count": 16,
     "metadata": {},
     "output_type": "execute_result"
    }
   ],
   "source": [
    "points.shape"
   ]
  },
  {
   "cell_type": "code",
   "execution_count": 17,
   "metadata": {},
   "outputs": [],
   "source": [
    "#create points\n",
    "for point in points:\n",
    "    gpx_segment.points.append(gpxpy.gpx.GPXTrackPoint(point[0],point[1], elevation=point[2]))"
   ]
  },
  {
   "cell_type": "code",
   "execution_count": 18,
   "metadata": {},
   "outputs": [],
   "source": [
    "xml = gpx.to_xml()"
   ]
  },
  {
   "cell_type": "code",
   "execution_count": 19,
   "metadata": {},
   "outputs": [],
   "source": [
    "with open('gpx_files/ross_17Mar18.xml','w') as f:\n",
    "    f.write(xml)"
   ]
  },
  {
   "cell_type": "code",
   "execution_count": null,
   "metadata": {},
   "outputs": [],
   "source": []
  }
 ],
 "metadata": {
  "kernelspec": {
   "display_name": "Python 2",
   "language": "python",
   "name": "python2"
  },
  "language_info": {
   "codemirror_mode": {
    "name": "ipython",
    "version": 3
   },
   "file_extension": ".py",
   "mimetype": "text/x-python",
   "name": "python",
   "nbconvert_exporter": "python",
   "pygments_lexer": "ipython3",
   "version": "3.7.1"
  }
 },
 "nbformat": 4,
 "nbformat_minor": 2
}
