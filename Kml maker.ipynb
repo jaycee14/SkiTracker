{
 "cells": [
  {
   "cell_type": "code",
   "execution_count": 2,
   "metadata": {
    "collapsed": true
   },
   "outputs": [],
   "source": [
    "import pandas as pd\n",
    "import simplekml"
   ]
  },
  {
   "cell_type": "code",
   "execution_count": 3,
   "metadata": {
    "collapsed": true
   },
   "outputs": [],
   "source": [
    "data = pd.read_csv(\"filtered_7Mar.csv\")"
   ]
  },
  {
   "cell_type": "code",
   "execution_count": 4,
   "metadata": {
    "collapsed": false
   },
   "outputs": [
    {
     "data": {
      "text/html": [
       "<div>\n",
       "<table border=\"1\" class=\"dataframe\">\n",
       "  <thead>\n",
       "    <tr style=\"text-align: right;\">\n",
       "      <th></th>\n",
       "      <th>Date</th>\n",
       "      <th>Time</th>\n",
       "      <th>Lat</th>\n",
       "      <th>Lon</th>\n",
       "      <th>GPS_Alt</th>\n",
       "      <th>Pressure</th>\n",
       "      <th>Pres_Alt</th>\n",
       "      <th>Temp</th>\n",
       "      <th>Bat</th>\n",
       "      <th>Lat_delta</th>\n",
       "      <th>Lon_delta</th>\n",
       "      <th>Lat_filter</th>\n",
       "      <th>Lon_filter</th>\n",
       "      <th>Point_Filter</th>\n",
       "    </tr>\n",
       "  </thead>\n",
       "  <tbody>\n",
       "    <tr>\n",
       "      <th>0</th>\n",
       "      <td>07/03/17</td>\n",
       "      <td>08:06:36</td>\n",
       "      <td>45.372421</td>\n",
       "      <td>6.574711</td>\n",
       "      <td>1803.0</td>\n",
       "      <td>11010211222</td>\n",
       "      <td>1793.879</td>\n",
       "      <td>18.0</td>\n",
       "      <td>3.667</td>\n",
       "      <td>-0.000035</td>\n",
       "      <td>-0.000015</td>\n",
       "      <td>True</td>\n",
       "      <td>True</td>\n",
       "      <td>True</td>\n",
       "    </tr>\n",
       "    <tr>\n",
       "      <th>1</th>\n",
       "      <td>07/03/17</td>\n",
       "      <td>08:06:37</td>\n",
       "      <td>45.372433</td>\n",
       "      <td>6.574725</td>\n",
       "      <td>1799.8</td>\n",
       "      <td>11010212010</td>\n",
       "      <td>1793.782</td>\n",
       "      <td>18.1</td>\n",
       "      <td>3.661</td>\n",
       "      <td>0.000012</td>\n",
       "      <td>0.000014</td>\n",
       "      <td>True</td>\n",
       "      <td>True</td>\n",
       "      <td>True</td>\n",
       "    </tr>\n",
       "    <tr>\n",
       "      <th>2</th>\n",
       "      <td>07/03/17</td>\n",
       "      <td>08:06:38</td>\n",
       "      <td>45.372444</td>\n",
       "      <td>6.574736</td>\n",
       "      <td>1799.8</td>\n",
       "      <td>11010212002</td>\n",
       "      <td>1793.184</td>\n",
       "      <td>18.1</td>\n",
       "      <td>3.654</td>\n",
       "      <td>0.000011</td>\n",
       "      <td>0.000011</td>\n",
       "      <td>True</td>\n",
       "      <td>True</td>\n",
       "      <td>True</td>\n",
       "    </tr>\n",
       "    <tr>\n",
       "      <th>3</th>\n",
       "      <td>07/03/17</td>\n",
       "      <td>08:06:39</td>\n",
       "      <td>45.372433</td>\n",
       "      <td>6.574749</td>\n",
       "      <td>1793.9</td>\n",
       "      <td>11010211210</td>\n",
       "      <td>1793.782</td>\n",
       "      <td>18.1</td>\n",
       "      <td>3.654</td>\n",
       "      <td>-0.000011</td>\n",
       "      <td>0.000013</td>\n",
       "      <td>True</td>\n",
       "      <td>True</td>\n",
       "      <td>True</td>\n",
       "    </tr>\n",
       "    <tr>\n",
       "      <th>4</th>\n",
       "      <td>07/03/17</td>\n",
       "      <td>08:06:40</td>\n",
       "      <td>45.372437</td>\n",
       "      <td>6.574742</td>\n",
       "      <td>1793.6</td>\n",
       "      <td>11010212111</td>\n",
       "      <td>1792.590</td>\n",
       "      <td>18.1</td>\n",
       "      <td>3.661</td>\n",
       "      <td>0.000004</td>\n",
       "      <td>-0.000007</td>\n",
       "      <td>True</td>\n",
       "      <td>True</td>\n",
       "      <td>True</td>\n",
       "    </tr>\n",
       "  </tbody>\n",
       "</table>\n",
       "</div>"
      ],
      "text/plain": [
       "       Date      Time        Lat       Lon  GPS_Alt     Pressure  Pres_Alt  \\\n",
       "0  07/03/17  08:06:36  45.372421  6.574711   1803.0  11010211222  1793.879   \n",
       "1  07/03/17  08:06:37  45.372433  6.574725   1799.8  11010212010  1793.782   \n",
       "2  07/03/17  08:06:38  45.372444  6.574736   1799.8  11010212002  1793.184   \n",
       "3  07/03/17  08:06:39  45.372433  6.574749   1793.9  11010211210  1793.782   \n",
       "4  07/03/17  08:06:40  45.372437  6.574742   1793.6  11010212111  1792.590   \n",
       "\n",
       "   Temp    Bat  Lat_delta  Lon_delta Lat_filter Lon_filter Point_Filter  \n",
       "0  18.0  3.667  -0.000035  -0.000015       True       True         True  \n",
       "1  18.1  3.661   0.000012   0.000014       True       True         True  \n",
       "2  18.1  3.654   0.000011   0.000011       True       True         True  \n",
       "3  18.1  3.654  -0.000011   0.000013       True       True         True  \n",
       "4  18.1  3.661   0.000004  -0.000007       True       True         True  "
      ]
     },
     "execution_count": 4,
     "metadata": {},
     "output_type": "execute_result"
    }
   ],
   "source": [
    "data.head()"
   ]
  },
  {
   "cell_type": "code",
   "execution_count": 5,
   "metadata": {
    "collapsed": true
   },
   "outputs": [],
   "source": [
    "kml = simplekml.Kml(open=1)"
   ]
  },
  {
   "cell_type": "code",
   "execution_count": 14,
   "metadata": {
    "collapsed": false
   },
   "outputs": [],
   "source": [
    "rel_data = data[['Lat','Lon','GPS_Alt']].values"
   ]
  },
  {
   "cell_type": "code",
   "execution_count": 19,
   "metadata": {
    "collapsed": false
   },
   "outputs": [],
   "source": [
    "for tup in rel_data:\n",
    "    pnt = kml.newpoint()\n",
    "    #1 = lon, 0 = lat, 2 = alt\n",
    "    pnt.coords = [(tup[1],tup[0],tup[2])]"
   ]
  },
  {
   "cell_type": "code",
   "execution_count": 20,
   "metadata": {
    "collapsed": true
   },
   "outputs": [],
   "source": [
    "kml.save(\"7Mar_test.kml\")"
   ]
  },
  {
   "cell_type": "code",
   "execution_count": 21,
   "metadata": {
    "collapsed": true
   },
   "outputs": [],
   "source": [
    "kml2= simplekml.Kml(open=1)"
   ]
  },
  {
   "cell_type": "code",
   "execution_count": 22,
   "metadata": {
    "collapsed": true
   },
   "outputs": [],
   "source": [
    "lineString = kml2.newlinestring(name = \"March 7th\")"
   ]
  },
  {
   "cell_type": "code",
   "execution_count": 23,
   "metadata": {
    "collapsed": true
   },
   "outputs": [],
   "source": [
    "lineCoords = []\n",
    "for tup in rel_data:\n",
    "    #1 = lon, 0 = lat, 2 = alt\n",
    "    lineCoords.append((tup[1],tup[0],tup[2]))"
   ]
  },
  {
   "cell_type": "code",
   "execution_count": 25,
   "metadata": {
    "collapsed": false
   },
   "outputs": [],
   "source": [
    "lineString.coords = lineCoords"
   ]
  },
  {
   "cell_type": "code",
   "execution_count": 26,
   "metadata": {
    "collapsed": true
   },
   "outputs": [],
   "source": [
    "kml2.save(\"7Mar_line.kml\")"
   ]
  }
 ],
 "metadata": {
  "kernelspec": {
   "display_name": "Python 2",
   "language": "python",
   "name": "python2"
  },
  "language_info": {
   "codemirror_mode": {
    "name": "ipython",
    "version": 2
   },
   "file_extension": ".py",
   "mimetype": "text/x-python",
   "name": "python",
   "nbconvert_exporter": "python",
   "pygments_lexer": "ipython2",
   "version": "2.7.13"
  }
 },
 "nbformat": 4,
 "nbformat_minor": 0
}
